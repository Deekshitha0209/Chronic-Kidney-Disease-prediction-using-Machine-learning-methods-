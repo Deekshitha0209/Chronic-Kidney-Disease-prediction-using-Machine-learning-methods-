{
  "cells": [
    {
      "cell_type": "markdown",
      "metadata": {
        "id": "view-in-github",
        "colab_type": "text"
      },
      "source": [
        "<a href=\"https://colab.research.google.com/github/Deekshitha0209/Chronic-Kidney-Disease-prediction-using-Machine-learning-methods-/blob/main/Copy_of_C2.ipynb\" target=\"_parent\"><img src=\"https://colab.research.google.com/assets/colab-badge.svg\" alt=\"Open In Colab\"/></a>"
      ]
    },
    {
      "cell_type": "markdown",
      "metadata": {
        "id": "5iGgmdjtltse"
      },
      "source": [
        "**import packages and dataset**"
      ]
    },
    {
      "cell_type": "code",
      "execution_count": null,
      "metadata": {
        "id": "Xok3hVBI3Aj6"
      },
      "outputs": [],
      "source": [
        "from google.colab import drive\n",
        "drive.mount('/content/drive')"
      ]
    },
    {
      "cell_type": "code",
      "execution_count": null,
      "metadata": {
        "id": "BU3CQ59AbMGf"
      },
      "outputs": [],
      "source": [
        "import pandas as pd\n",
        "import sklearn as sk\n",
        "from sklearn.model_selection import train_test_split\n",
        "f=pd.read_csv('/content/drive/MyDrive/kidney disease dataset.csv')\n",
        "l1=[\"id\",\"age\",\"bp\",\"sg\",\"al\",\"su\",\"bgr\",\"bu\",\"sc\",\"sod\",\"pot\",\"hemo\",\"pcv\",\"wc\",\"rc\"]\n",
        "l2=[\"rbc\",\"pc\",\"pcc\",\"ba\",\"htn\",\"dm\",\"cad\",\"appet\",\"pe\",\"ane\",\"classification\"]\n",
        "f.pcv=pd.to_numeric(f.pcv,errors='coerce')\n",
        "f.wc=pd.to_numeric(f.wc,errors='coerce')\n",
        "f.rc=pd.to_numeric(f.rc,errors='coerce')\n",
        "for i in l2:\n",
        "    print(f[i].unique())\n",
        "f.dm=f.dm.replace(to_replace='\\tno',value='no')\n",
        "f.dm=f.dm.replace(to_replace='\\tyes',value='yes')\n",
        "f.dm=f.dm.replace(to_replace=' yes',value='yes')\n",
        "f.cad=f.cad.replace(to_replace='\\tno',value='no')\n",
        "f.classification=f.classification.replace(to_replace='ckd\\t',value='ckd')"
      ]
    },
    {
      "cell_type": "code",
      "execution_count": null,
      "metadata": {
        "colab": {
          "base_uri": "https://localhost:8080/",
          "height": 279
        },
        "id": "SE4JG_Mkmq6H",
        "outputId": "21a28943-b36a-4bb9-ae37-a31e8e5613ae"
      },
      "outputs": [
        {
          "data": {
            "text/html": [
              "\n",
              "  <div id=\"df-a82763a2-07be-4e37-ba84-501c862aa8d9\">\n",
              "    <div class=\"colab-df-container\">\n",
              "      <div>\n",
              "<style scoped>\n",
              "    .dataframe tbody tr th:only-of-type {\n",
              "        vertical-align: middle;\n",
              "    }\n",
              "\n",
              "    .dataframe tbody tr th {\n",
              "        vertical-align: top;\n",
              "    }\n",
              "\n",
              "    .dataframe thead th {\n",
              "        text-align: right;\n",
              "    }\n",
              "</style>\n",
              "<table border=\"1\" class=\"dataframe\">\n",
              "  <thead>\n",
              "    <tr style=\"text-align: right;\">\n",
              "      <th></th>\n",
              "      <th>id</th>\n",
              "      <th>age</th>\n",
              "      <th>bp</th>\n",
              "      <th>sg</th>\n",
              "      <th>al</th>\n",
              "      <th>su</th>\n",
              "      <th>rbc</th>\n",
              "      <th>pc</th>\n",
              "      <th>pcc</th>\n",
              "      <th>ba</th>\n",
              "      <th>...</th>\n",
              "      <th>pcv</th>\n",
              "      <th>wc</th>\n",
              "      <th>rc</th>\n",
              "      <th>htn</th>\n",
              "      <th>dm</th>\n",
              "      <th>cad</th>\n",
              "      <th>appet</th>\n",
              "      <th>pe</th>\n",
              "      <th>ane</th>\n",
              "      <th>classification</th>\n",
              "    </tr>\n",
              "  </thead>\n",
              "  <tbody>\n",
              "    <tr>\n",
              "      <th>0</th>\n",
              "      <td>0</td>\n",
              "      <td>48.0</td>\n",
              "      <td>80.0</td>\n",
              "      <td>1.020</td>\n",
              "      <td>1.0</td>\n",
              "      <td>0.0</td>\n",
              "      <td>NaN</td>\n",
              "      <td>normal</td>\n",
              "      <td>notpresent</td>\n",
              "      <td>notpresent</td>\n",
              "      <td>...</td>\n",
              "      <td>44.0</td>\n",
              "      <td>7800.0</td>\n",
              "      <td>5.2</td>\n",
              "      <td>yes</td>\n",
              "      <td>yes</td>\n",
              "      <td>no</td>\n",
              "      <td>good</td>\n",
              "      <td>no</td>\n",
              "      <td>no</td>\n",
              "      <td>ckd</td>\n",
              "    </tr>\n",
              "    <tr>\n",
              "      <th>1</th>\n",
              "      <td>1</td>\n",
              "      <td>7.0</td>\n",
              "      <td>50.0</td>\n",
              "      <td>1.020</td>\n",
              "      <td>4.0</td>\n",
              "      <td>0.0</td>\n",
              "      <td>NaN</td>\n",
              "      <td>normal</td>\n",
              "      <td>notpresent</td>\n",
              "      <td>notpresent</td>\n",
              "      <td>...</td>\n",
              "      <td>38.0</td>\n",
              "      <td>6000.0</td>\n",
              "      <td>NaN</td>\n",
              "      <td>no</td>\n",
              "      <td>no</td>\n",
              "      <td>no</td>\n",
              "      <td>good</td>\n",
              "      <td>no</td>\n",
              "      <td>no</td>\n",
              "      <td>ckd</td>\n",
              "    </tr>\n",
              "    <tr>\n",
              "      <th>2</th>\n",
              "      <td>2</td>\n",
              "      <td>62.0</td>\n",
              "      <td>80.0</td>\n",
              "      <td>1.010</td>\n",
              "      <td>2.0</td>\n",
              "      <td>3.0</td>\n",
              "      <td>normal</td>\n",
              "      <td>normal</td>\n",
              "      <td>notpresent</td>\n",
              "      <td>notpresent</td>\n",
              "      <td>...</td>\n",
              "      <td>31.0</td>\n",
              "      <td>7500.0</td>\n",
              "      <td>NaN</td>\n",
              "      <td>no</td>\n",
              "      <td>yes</td>\n",
              "      <td>no</td>\n",
              "      <td>poor</td>\n",
              "      <td>no</td>\n",
              "      <td>yes</td>\n",
              "      <td>ckd</td>\n",
              "    </tr>\n",
              "    <tr>\n",
              "      <th>3</th>\n",
              "      <td>3</td>\n",
              "      <td>48.0</td>\n",
              "      <td>70.0</td>\n",
              "      <td>1.005</td>\n",
              "      <td>4.0</td>\n",
              "      <td>0.0</td>\n",
              "      <td>normal</td>\n",
              "      <td>abnormal</td>\n",
              "      <td>present</td>\n",
              "      <td>notpresent</td>\n",
              "      <td>...</td>\n",
              "      <td>32.0</td>\n",
              "      <td>6700.0</td>\n",
              "      <td>3.9</td>\n",
              "      <td>yes</td>\n",
              "      <td>no</td>\n",
              "      <td>no</td>\n",
              "      <td>poor</td>\n",
              "      <td>yes</td>\n",
              "      <td>yes</td>\n",
              "      <td>ckd</td>\n",
              "    </tr>\n",
              "    <tr>\n",
              "      <th>4</th>\n",
              "      <td>4</td>\n",
              "      <td>51.0</td>\n",
              "      <td>80.0</td>\n",
              "      <td>1.010</td>\n",
              "      <td>2.0</td>\n",
              "      <td>0.0</td>\n",
              "      <td>normal</td>\n",
              "      <td>normal</td>\n",
              "      <td>notpresent</td>\n",
              "      <td>notpresent</td>\n",
              "      <td>...</td>\n",
              "      <td>35.0</td>\n",
              "      <td>7300.0</td>\n",
              "      <td>4.6</td>\n",
              "      <td>no</td>\n",
              "      <td>no</td>\n",
              "      <td>no</td>\n",
              "      <td>good</td>\n",
              "      <td>no</td>\n",
              "      <td>no</td>\n",
              "      <td>ckd</td>\n",
              "    </tr>\n",
              "  </tbody>\n",
              "</table>\n",
              "<p>5 rows × 26 columns</p>\n",
              "</div>\n",
              "      <button class=\"colab-df-convert\" onclick=\"convertToInteractive('df-a82763a2-07be-4e37-ba84-501c862aa8d9')\"\n",
              "              title=\"Convert this dataframe to an interactive table.\"\n",
              "              style=\"display:none;\">\n",
              "        \n",
              "  <svg xmlns=\"http://www.w3.org/2000/svg\" height=\"24px\"viewBox=\"0 0 24 24\"\n",
              "       width=\"24px\">\n",
              "    <path d=\"M0 0h24v24H0V0z\" fill=\"none\"/>\n",
              "    <path d=\"M18.56 5.44l.94 2.06.94-2.06 2.06-.94-2.06-.94-.94-2.06-.94 2.06-2.06.94zm-11 1L8.5 8.5l.94-2.06 2.06-.94-2.06-.94L8.5 2.5l-.94 2.06-2.06.94zm10 10l.94 2.06.94-2.06 2.06-.94-2.06-.94-.94-2.06-.94 2.06-2.06.94z\"/><path d=\"M17.41 7.96l-1.37-1.37c-.4-.4-.92-.59-1.43-.59-.52 0-1.04.2-1.43.59L10.3 9.45l-7.72 7.72c-.78.78-.78 2.05 0 2.83L4 21.41c.39.39.9.59 1.41.59.51 0 1.02-.2 1.41-.59l7.78-7.78 2.81-2.81c.8-.78.8-2.07 0-2.86zM5.41 20L4 18.59l7.72-7.72 1.47 1.35L5.41 20z\"/>\n",
              "  </svg>\n",
              "      </button>\n",
              "      \n",
              "  <style>\n",
              "    .colab-df-container {\n",
              "      display:flex;\n",
              "      flex-wrap:wrap;\n",
              "      gap: 12px;\n",
              "    }\n",
              "\n",
              "    .colab-df-convert {\n",
              "      background-color: #E8F0FE;\n",
              "      border: none;\n",
              "      border-radius: 50%;\n",
              "      cursor: pointer;\n",
              "      display: none;\n",
              "      fill: #1967D2;\n",
              "      height: 32px;\n",
              "      padding: 0 0 0 0;\n",
              "      width: 32px;\n",
              "    }\n",
              "\n",
              "    .colab-df-convert:hover {\n",
              "      background-color: #E2EBFA;\n",
              "      box-shadow: 0px 1px 2px rgba(60, 64, 67, 0.3), 0px 1px 3px 1px rgba(60, 64, 67, 0.15);\n",
              "      fill: #174EA6;\n",
              "    }\n",
              "\n",
              "    [theme=dark] .colab-df-convert {\n",
              "      background-color: #3B4455;\n",
              "      fill: #D2E3FC;\n",
              "    }\n",
              "\n",
              "    [theme=dark] .colab-df-convert:hover {\n",
              "      background-color: #434B5C;\n",
              "      box-shadow: 0px 1px 3px 1px rgba(0, 0, 0, 0.15);\n",
              "      filter: drop-shadow(0px 1px 2px rgba(0, 0, 0, 0.3));\n",
              "      fill: #FFFFFF;\n",
              "    }\n",
              "  </style>\n",
              "\n",
              "      <script>\n",
              "        const buttonEl =\n",
              "          document.querySelector('#df-a82763a2-07be-4e37-ba84-501c862aa8d9 button.colab-df-convert');\n",
              "        buttonEl.style.display =\n",
              "          google.colab.kernel.accessAllowed ? 'block' : 'none';\n",
              "\n",
              "        async function convertToInteractive(key) {\n",
              "          const element = document.querySelector('#df-a82763a2-07be-4e37-ba84-501c862aa8d9');\n",
              "          const dataTable =\n",
              "            await google.colab.kernel.invokeFunction('convertToInteractive',\n",
              "                                                     [key], {});\n",
              "          if (!dataTable) return;\n",
              "\n",
              "          const docLinkHtml = 'Like what you see? Visit the ' +\n",
              "            '<a target=\"_blank\" href=https://colab.research.google.com/notebooks/data_table.ipynb>data table notebook</a>'\n",
              "            + ' to learn more about interactive tables.';\n",
              "          element.innerHTML = '';\n",
              "          dataTable['output_type'] = 'display_data';\n",
              "          await google.colab.output.renderOutput(dataTable, element);\n",
              "          const docLink = document.createElement('div');\n",
              "          docLink.innerHTML = docLinkHtml;\n",
              "          element.appendChild(docLink);\n",
              "        }\n",
              "      </script>\n",
              "    </div>\n",
              "  </div>\n",
              "  "
            ],
            "text/plain": [
              "   id   age    bp     sg   al   su     rbc        pc         pcc          ba  \\\n",
              "0   0  48.0  80.0  1.020  1.0  0.0     NaN    normal  notpresent  notpresent   \n",
              "1   1   7.0  50.0  1.020  4.0  0.0     NaN    normal  notpresent  notpresent   \n",
              "2   2  62.0  80.0  1.010  2.0  3.0  normal    normal  notpresent  notpresent   \n",
              "3   3  48.0  70.0  1.005  4.0  0.0  normal  abnormal     present  notpresent   \n",
              "4   4  51.0  80.0  1.010  2.0  0.0  normal    normal  notpresent  notpresent   \n",
              "\n",
              "   ...   pcv      wc   rc  htn   dm  cad  appet   pe  ane classification  \n",
              "0  ...  44.0  7800.0  5.2  yes  yes   no   good   no   no            ckd  \n",
              "1  ...  38.0  6000.0  NaN   no   no   no   good   no   no            ckd  \n",
              "2  ...  31.0  7500.0  NaN   no  yes   no   poor   no  yes            ckd  \n",
              "3  ...  32.0  6700.0  3.9  yes   no   no   poor  yes  yes            ckd  \n",
              "4  ...  35.0  7300.0  4.6   no   no   no   good   no   no            ckd  \n",
              "\n",
              "[5 rows x 26 columns]"
            ]
          },
          "execution_count": 24,
          "metadata": {},
          "output_type": "execute_result"
        }
      ],
      "source": [
        "f.head()"
      ]
    },
    {
      "cell_type": "code",
      "execution_count": null,
      "metadata": {
        "colab": {
          "base_uri": "https://localhost:8080/"
        },
        "id": "F8V-iBrNcxPX",
        "outputId": "cf900040-4885-46e6-f3bf-75eee06f57c1"
      },
      "outputs": [
        {
          "name": "stdout",
          "output_type": "stream",
          "text": [
            "[nan 'normal' 'abnormal']\n",
            "['normal' 'abnormal' nan]\n",
            "['notpresent' 'present' nan]\n",
            "['notpresent' 'present' nan]\n",
            "['yes' 'no' nan]\n",
            "['yes' 'no' nan]\n",
            "['no' 'yes' nan]\n",
            "['good' 'poor' nan]\n",
            "['no' 'yes' nan]\n",
            "['no' 'yes' nan]\n",
            "['ckd' 'notckd']\n",
            "<class 'pandas.core.frame.DataFrame'>\n",
            "RangeIndex: 400 entries, 0 to 399\n",
            "Data columns (total 26 columns):\n",
            " #   Column          Non-Null Count  Dtype  \n",
            "---  ------          --------------  -----  \n",
            " 0   id              400 non-null    int64  \n",
            " 1   age             391 non-null    float64\n",
            " 2   bp              388 non-null    float64\n",
            " 3   sg              353 non-null    float64\n",
            " 4   al              354 non-null    float64\n",
            " 5   su              351 non-null    float64\n",
            " 6   rbc             248 non-null    object \n",
            " 7   pc              335 non-null    object \n",
            " 8   pcc             396 non-null    object \n",
            " 9   ba              396 non-null    object \n",
            " 10  bgr             356 non-null    float64\n",
            " 11  bu              381 non-null    float64\n",
            " 12  sc              383 non-null    float64\n",
            " 13  sod             313 non-null    float64\n",
            " 14  pot             312 non-null    float64\n",
            " 15  hemo            348 non-null    float64\n",
            " 16  pcv             329 non-null    float64\n",
            " 17  wc              294 non-null    float64\n",
            " 18  rc              269 non-null    float64\n",
            " 19  htn             398 non-null    object \n",
            " 20  dm              398 non-null    object \n",
            " 21  cad             398 non-null    object \n",
            " 22  appet           399 non-null    object \n",
            " 23  pe              399 non-null    object \n",
            " 24  ane             399 non-null    object \n",
            " 25  classification  400 non-null    int64  \n",
            "dtypes: float64(14), int64(2), object(10)\n",
            "memory usage: 81.4+ KB\n"
          ]
        }
      ],
      "source": [
        "for i in l2:\n",
        "    print(f[i].unique())\n",
        "f.classification=f.classification.replace(to_replace='ckd',value='1')\n",
        "f.classification=f.classification.replace(to_replace='notckd',value='0')\n",
        "f.classification=pd.to_numeric(f.classification,errors='coerce')\n",
        "f.info()"
      ]
    },
    {
      "cell_type": "markdown",
      "metadata": {
        "id": "GWRidWf4m4py"
      },
      "source": [
        "**Fill null values**"
      ]
    },
    {
      "cell_type": "code",
      "execution_count": null,
      "metadata": {
        "id": "xUQQDyz4dp1C"
      },
      "outputs": [],
      "source": [
        "for i in l1:\n",
        "    f.loc[f[i].isnull(),i]=f[i].mean()"
      ]
    },
    {
      "cell_type": "code",
      "execution_count": null,
      "metadata": {
        "colab": {
          "base_uri": "https://localhost:8080/"
        },
        "id": "5_qnH5mOduBW",
        "outputId": "a30038af-055b-4225-887c-66ec90947b41"
      },
      "outputs": [
        {
          "name": "stdout",
          "output_type": "stream",
          "text": [
            "<class 'pandas.core.frame.DataFrame'>\n",
            "RangeIndex: 400 entries, 0 to 399\n",
            "Data columns (total 26 columns):\n",
            " #   Column          Non-Null Count  Dtype  \n",
            "---  ------          --------------  -----  \n",
            " 0   id              400 non-null    float64\n",
            " 1   age             400 non-null    float64\n",
            " 2   bp              400 non-null    float64\n",
            " 3   sg              400 non-null    float64\n",
            " 4   al              400 non-null    float64\n",
            " 5   su              400 non-null    float64\n",
            " 6   rbc             249 non-null    object \n",
            " 7   pc              335 non-null    object \n",
            " 8   pcc             396 non-null    object \n",
            " 9   ba              396 non-null    object \n",
            " 10  bgr             400 non-null    float64\n",
            " 11  bu              400 non-null    float64\n",
            " 12  sc              400 non-null    float64\n",
            " 13  sod             400 non-null    float64\n",
            " 14  pot             400 non-null    float64\n",
            " 15  hemo            400 non-null    float64\n",
            " 16  pcv             400 non-null    float64\n",
            " 17  wc              400 non-null    float64\n",
            " 18  rc              400 non-null    float64\n",
            " 19  htn             398 non-null    object \n",
            " 20  dm              398 non-null    object \n",
            " 21  cad             398 non-null    object \n",
            " 22  appet           399 non-null    object \n",
            " 23  pe              399 non-null    object \n",
            " 24  ane             399 non-null    object \n",
            " 25  classification  400 non-null    int64  \n",
            "dtypes: float64(15), int64(1), object(10)\n",
            "memory usage: 81.4+ KB\n"
          ]
        }
      ],
      "source": [
        "for i in l2:\n",
        "    f[i]=f[i].fillna(f[i].mode())\n",
        "f.info()"
      ]
    },
    {
      "cell_type": "markdown",
      "metadata": {
        "id": "CyzTfiXhnJ3m"
      },
      "source": [
        "**box plot of attributes**"
      ]
    },
    {
      "cell_type": "code",
      "execution_count": null,
      "metadata": {
        "id": "NdUpRrtreuTX"
      },
      "outputs": [],
      "source": [
        "import seaborn as sns\n",
        "import matplotlib.pyplot as plt"
      ]
    },
    {
      "cell_type": "code",
      "execution_count": null,
      "metadata": {
        "colab": {
          "base_uri": "https://localhost:8080/",
          "height": 430
        },
        "id": "-1250TNrgl2-",
        "outputId": "c2f0e150-1902-4873-a08d-5c364e14f06d"
      },
      "outputs": [
        {
          "data": {
            "image/png": "[encoded data removed]",
            "text/plain": [
              "<Figure size 640x480 with 1 Axes>"
            ]
          },
          "metadata": {},
          "output_type": "display_data"
        }
      ],
      "source": [
        "fig=sns.boxplot(data=f.loc[:,l1[1:-2]])"
      ]
    },
    {
      "cell_type": "code",
      "execution_count": null,
      "metadata": {
        "colab": {
          "base_uri": "https://localhost:8080/",
          "height": 430
        },
        "id": "MfrBb9TTgxz2",
        "outputId": "832ce066-941e-4fc8-c3f8-bb502cf3665a"
      },
      "outputs": [
        {
          "data": {
            "image/png": "[encoded data removed]",
            "text/plain": [
              "<Figure size 640x480 with 1 Axes>"
            ]
          },
          "metadata": {},
          "output_type": "display_data"
        }
      ],
      "source": [
        "fo=sns.boxplot(data=f.loc[:,[\"wc\"]])"
      ]
    },
    {
      "cell_type": "code",
      "execution_count": null,
      "metadata": {
        "colab": {
          "base_uri": "https://localhost:8080/",
          "height": 430
        },
        "id": "KimEL7_Fg-M4",
        "outputId": "513dd5f0-4c3f-4431-ec2a-9975ccf8e060"
      },
      "outputs": [
        {
          "data": {
            "image/png": "[encoded data removed]",
            "text/plain": [
              "<Figure size 640x480 with 1 Axes>"
            ]
          },
          "metadata": {},
          "output_type": "display_data"
        }
      ],
      "source": [
        "fo1=sns.boxplot(data=f.loc[:,\"rc\"])"
      ]
    },
    {
      "cell_type": "code",
      "execution_count": null,
      "metadata": {
        "colab": {
          "base_uri": "https://localhost:8080/",
          "height": 542
        },
        "id": "-2ETmRA3hUiZ",
        "outputId": "30acff55-241c-40d0-ff60-19dbed81562c"
      },
      "outputs": [
        {
          "data": {
            "text/html": [
              "<html>\n",
              "<head><meta charset=\"utf-8\" /></head>\n",
              "<body>\n",
              "    <div>            <script src=\"https://cdnjs.cloudflare.com/ajax/libs/mathjax/2.7.5/MathJax.js?config=TeX-AMS-MML_SVG\"></script><script type=\"text/javascript\">if (window.MathJax && window.MathJax.Hub && window.MathJax.Hub.Config) {window.MathJax.Hub.Config({SVG: {font: \"STIX-Web\"}});}</script>                <script type=\"text/javascript\">window.PlotlyConfig = {MathJaxConfig: 'local'};</script>\n",
              "        <script src=\"https://cdn.plot.ly/plotly-2.18.2.min.js\"></script>                <div id=\"4539ee65-8c41-4154-a752-cf07aca81cc3\" class=\"plotly-graph-div\" style=\"height:525px; width:100%;\"></div>            <script type=\"text/javascript\">                                    window.PLOTLYENV=window.PLOTLYENV || {};                                    if (document.getElementById(\"4539ee65-8c41-4154-a752-cf07aca81cc3\")) {                    Plotly.newPlot(                        \"4539ee65-8c41-4154-a752-cf07aca81cc3\",                        [{\"alignmentgroup\":\"True\",\"hovertemplate\":\"variable=%{x}<br>value=%{y}<extra></extra>\",\"legendgroup\":\"\",\"marker\":{\"color\":\"#636efa\"},\"name\":\"\",\"notched\":false,\"offsetgroup\":\"\",\"orientation\":\"v\",\"showlegend\":false,\"x\":[\"id\",\"id\",\"id\",\"id\",\"id\",\"id\",\"id\",\"id\",\"id\",\"id\",\"id\",\"id\",\"id\",\"id\",\"id\",\"id\",\"id\",\"id\",\"id\",\"id\",\"id\",\"id\",\"id\",\"id\",\"id\",\"id\",\"id\",\"id\",\"id\",\"id\",\"id\",\"id\",\"id\",\"id\",\"id\",\"id\",\"id\",\"id\",\"id\",\"id\",\"id\",\"id\",\"id\",\"id\",\"id\",\"id\",\"id\",\"id\",\"id\",\"id\",\"id\",\"id\",\"id\",\"id\",\"id\",\"id\",\"id\",\"id\",\"id\",\"id\",\"id\",\"id\",\"id\",\"id\",\"id\",\"id\",\"id\",\"id\",\"id\",\"id\",\"id\",\"id\",\"id\",\"id\",\"id\",\"id\",\"id\",\"id\",\"id\",\"id\",\"id\",\"id\",\"id\",\"id\",\"id\",\"id\",\"id\",\"id\",\"id\",\"id\",\"id\",\"id\",\"id\",\"id\",\"id\",\"id\",\"id\",\"id\",\"id\",\"id\",\"id\",\"id\",\"id\",\"id\",\"id\",\"id\",\"id\",\"id\",\"id\",\"id\",\"id\",\"id\",\"id\",\"id\",\"id\",\"id\",\"id\",\"id\",\"id\",\"id\",\"id\",\"id\",\"id\",\"id\",\"id\",\"id\",\"id\",\"id\",\"id\",\"id\",\"id\",\"id\",\"id\",\"id\",\"id\",\"id\",\"id\",\"id\",\"id\",\"id\",\"id\",\"id\",\"id\",\"id\",\"id\",\"id\",\"id\",\"id\",\"id\",\"id\",\"id\",\"id\",\"id\",\"id\",\"id\",\"id\",\"id\",\"id\",\"id\",\"id\",\"id\",\"id\",\"id\",\"id\",\"id\",\"id\",\"id\",\"id\",\"id\",\"id\",\"id\",\"id\",\"id\",\"id\",\"id\",\"id\",\"id\",\"id\",\"id\",\"id\",\"id\",\"id\",\"id\",\"id\",\"id\",\"id\",\"id\",\"id\",\"id\",\"id\",\"id\",\"id\",\"id\",\"id\",\"id\",\"id\",\"id\",\"id\",\"id\",\"id\",\"id\",\"id\",\"id\",\"id\",\"id\",\"id\",\"id\",\"id\",\"id\",\"id\",\"id\",\"id\",\"id\",\"id\",\"id\",\"id\",\"id\",\"id\",\"id\",\"id\",\"id\",\"id\",\"id\",\"id\",\"id\",\"id\",\"id\",\"id\",\"id\",\"id\",\"id\",\"id\",\"id\",\"id\",\"id\",\"id\",\"id\",\"id\",\"id\",\"id\",\"id\",\"id\",\"id\",\"id\",\"id\",\"id\",\"id\",\"id\",\"id\",\"id\",\"id\",\"id\",\"id\",\"id\",\"id\",\"id\",\"id\",\"id\",\"id\",\"id\",\"id\",\"id\",\"id\",\"id\",\"id\",\"id\",\"id\",\"id\",\"id\",\"id\",\"id\",\"id\",\"id\",\"id\",\"id\",\"id\",\"id\",\"id\",\"id\",\"id\",\"id\",\"id\",\"id\",\"id\",\"id\",\"id\",\"id\",\"id\",\"id\",\"id\",\"id\",\"id\",\"id\",\"id\",\"id\",\"id\",\"id\",\"id\",\"id\",\"id\",\"id\",\"id\",\"id\",\"id\",\"id\",\"id\",\"id\",\"id\",\"id\",\"id\",\"id\",\"id\",\"id\",\"id\",\"id\",\"id\",\"id\",\"id\",\"id\",\"id\",\"id\",\"id\",\"id\",\"id\",\"id\",\"id\",\"id\",\"id\",\"id\",\"id\",\"id\",\"id\",\"id\",\"id\",\"id\",\"id\",\"id\",\"id\",\"id\",\"id\",\"id\",\"id\",\"id\",\"id\",\"id\",\"id\",\"id\",\"id\",\"id\",\"id\",\"id\",\"id\",\"id\",\"id\",\"id\",\"id\",\"id\",\"id\",\"id\",\"id\",\"id\",\"id\",\"id\",\"id\",\"id\",\"id\",\"id\",\"id\",\"id\",\"id\",\"id\",\"id\",\"id\",\"id\",\"id\",\"id\",\"id\",\"id\",\"id\",\"id\",\"id\",\"id\",\"id\",\"id\",\"id\",\"id\",\"id\",\"id\",\"id\",\"id\",\"id\",\"id\",\"id\",\"id\",\"id\",\"id\",\"id\",\"id\",\"id\",\"id\",\"age\",\"age\",\"age\",\"age\",\"age\",\"age\",\"age\",\"age\",\"age\",\"age\",\"age\",\"age\",\"age\",\"age\",\"age\",\"age\",\"age\",\"age\",\"age\",\"age\",\"age\",\"age\",\"age\",\"age\",\"age\",\"age\",\"age\",\"age\",\"age\",\"age\",\"age\",\"age\",\"age\",\"age\",\"age\",\"age\",\"age\",\"age\",\"age\",\"age\",\"age\",\"age\",\"age\",\"age\",\"age\",\"age\",\"age\",\"age\",\"age\",\"age\",\"age\",\"age\",\"age\",\"age\",\"age\",\"age\",\"age\",\"age\",\"age\",\"age\",\"age\",\"age\",\"age\",\"age\",\"age\",\"age\",\"age\",\"age\",\"age\",\"age\",\"age\",\"age\",\"age\",\"age\",\"age\",\"age\",\"age\",\"age\",\"age\",\"age\",\"age\",\"age\",\"age\",\"age\",\"age\",\"age\",\"age\",\"age\",\"age\",\"age\",\"age\",\"age\",\"age\",\"age\",\"age\",\"age\",\"age\",\"age\",\"age\",\"age\",\"age\",\"age\",\"age\",\"age\",\"age\",\"age\",\"age\",\"age\",\"age\",\"age\",\"age\",\"age\",\"age\",\"age\",\"age\",\"age\",\"age\",\"age\",\"age\",\"age\",\"age\",\"age\",\"age\",\"age\",\"age\",\"age\",\"age\",\"age\",\"age\",\"age\",\"age\",\"age\",\"age\",\"age\",\"age\",\"age\",\"age\",\"age\",\"age\",\"age\",\"age\",\"age\",\"age\",\"age\",\"age\",\"age\",\"age\",\"age\",\"age\",\"age\",\"age\",\"age\",\"age\",\"age\",\"age\",\"age\",\"age\",\"age\",\"age\",\"age\",\"age\",\"age\",\"age\",\"age\",\"age\",\"age\",\"age\",\"age\",\"age\",\"age\",\"age\",\"age\",\"age\",\"age\",\"age\",\"age\",\"age\",\"age\",\"age\",\"age\",\"age\",\"age\",\"age\",\"age\",\"age\",\"age\",\"age\",\"age\",\"age\",\"age\",\"age\",\"age\",\"age\",\"age\",\"age\",\"age\",\"age\",\"age\",\"age\",\"age\",\"age\",\"age\",\"age\",\"age\",\"age\",\"age\",\"age\",\"age\",\"age\",\"age\",\"age\",\"age\",\"age\",\"age\",\"age\",\"age\",\"age\",\"age\",\"age\",\"age\",\"age\",\"age\",\"age\",\"age\",\"age\",\"age\",\"age\",\"age\",\"age\",\"age\",\"age\",\"age\",\"age\",\"age\",\"age\",\"age\",\"age\",\"age\",\"age\",\"age\",\"age\",\"age\",\"age\",\"age\",\"age\",\"age\",\"age\",\"age\",\"age\",\"age\",\"age\",\"age\",\"age\",\"age\",\"age\",\"age\",\"age\",\"age\",\"age\",\"age\",\"age\",\"age\",\"age\",\"age\",\"age\",\"age\",\"age\",\"age\",\"age\",\"age\",\"age\",\"age\",\"age\",\"age\",\"age\",\"age\",\"age\",\"age\",\"age\",\"age\",\"age\",\"age\",\"age\",\"age\",\"age\",\"age\",\"age\",\"age\",\"age\",\"age\",\"age\",\"age\",\"age\",\"age\",\"age\",\"age\",\"age\",\"age\",\"age\",\"age\",\"age\",\"age\",\"age\",\"age\",\"age\",\"age\",\"age\",\"age\",\"age\",\"age\",\"age\",\"age\",\"age\",\"age\",\"age\",\"age\",\"age\",\"age\",\"age\",\"age\",\"age\",\"age\",\"age\",\"age\",\"age\",\"age\",\"age\",\"age\",\"age\",\"age\",\"age\",\"age\",\"age\",\"age\",\"age\",\"age\",\"age\",\"age\",\"age\",\"age\",\"age\",\"age\",\"age\",\"age\",\"age\",\"age\",\"age\",\"age\",\"age\",\"age\",\"age\",\"age\",\"age\",\"age\",\"age\",\"age\",\"age\",\"age\",\"age\",\"age\",\"age\",\"age\",\"age\",\"age\",\"age\",\"age\",\"age\",\"age\",\"age\",\"age\",\"age\",\"age\",\"age\",\"age\",\"age\",\"age\",\"age\",\"age\",\"age\",\"age\",\"age\",\"age\",\"age\",\"age\",\"age\",\"age\",\"age\",\"age\",\"age\",\"age\",\"age\",\"age\",\"age\",\"age\",\"age\",\"age\",\"age\",\"age\",\"age\",\"age\",\"bp\",\"bp\",\"bp\",\"bp\",\"bp\",\"bp\",\"bp\",\"bp\",\"bp\",\"bp\",\"bp\",\"bp\",\"bp\",\"bp\",\"bp\",\"bp\",\"bp\",\"bp\",\"bp\",\"bp\",\"bp\",\"bp\",\"bp\",\"bp\",\"bp\",\"bp\",\"bp\",\"bp\",\"bp\",\"bp\",\"bp\",\"bp\",\"bp\",\"bp\",\"bp\",\"bp\",\"bp\",\"bp\",\"bp\",\"bp\",\"bp\",\"bp\",\"bp\",\"bp\",\"bp\",\"bp\",\"bp\",\"bp\",\"bp\",\"bp\",\"bp\",\"bp\",\"bp\",\"bp\",\"bp\",\"bp\",\"bp\",\"bp\",\"bp\",\"bp\",\"bp\",\"bp\",\"bp\",\"bp\",\"bp\",\"bp\",\"bp\",\"bp\",\"bp\",\"bp\",\"bp\",\"bp\",\"bp\",\"bp\",\"bp\",\"bp\",\"bp\",\"bp\",\"bp\",\"bp\",\"bp\",\"bp\",\"bp\",\"bp\",\"bp\",\"bp\",\"bp\",\"bp\",\"bp\",\"bp\",\"bp\",\"bp\",\"bp\",\"bp\",\"bp\",\"bp\",\"bp\",\"bp\",\"bp\",\"bp\",\"bp\",\"bp\",\"bp\",\"bp\",\"bp\",\"bp\",\"bp\",\"bp\",\"bp\",\"bp\",\"bp\",\"bp\",\"bp\",\"bp\",\"bp\",\"bp\",\"bp\",\"bp\",\"bp\",\"bp\",\"bp\",\"bp\",\"bp\",\"bp\",\"bp\",\"bp\",\"bp\",\"bp\",\"bp\",\"bp\",\"bp\",\"bp\",\"bp\",\"bp\",\"bp\",\"bp\",\"bp\",\"bp\",\"bp\",\"bp\",\"bp\",\"bp\",\"bp\",\"bp\",\"bp\",\"bp\",\"bp\",\"bp\",\"bp\",\"bp\",\"bp\",\"bp\",\"bp\",\"bp\",\"bp\",\"bp\",\"bp\",\"bp\",\"bp\",\"bp\",\"bp\",\"bp\",\"bp\",\"bp\",\"bp\",\"bp\",\"bp\",\"bp\",\"bp\",\"bp\",\"bp\",\"bp\",\"bp\",\"bp\",\"bp\",\"bp\",\"bp\",\"bp\",\"bp\",\"bp\",\"bp\",\"bp\",\"bp\",\"bp\",\"bp\",\"bp\",\"bp\",\"bp\",\"bp\",\"bp\",\"bp\",\"bp\",\"bp\",\"bp\",\"bp\",\"bp\",\"bp\",\"bp\",\"bp\",\"bp\",\"bp\",\"bp\",\"bp\",\"bp\",\"bp\",\"bp\",\"bp\",\"bp\",\"bp\",\"bp\",\"bp\",\"bp\",\"bp\",\"bp\",\"bp\",\"bp\",\"bp\",\"bp\",\"bp\",\"bp\",\"bp\",\"bp\",\"bp\",\"bp\",\"bp\",\"bp\",\"bp\",\"bp\",\"bp\",\"bp\",\"bp\",\"bp\",\"bp\",\"bp\",\"bp\",\"bp\",\"bp\",\"bp\",\"bp\",\"bp\",\"bp\",\"bp\",\"bp\",\"bp\",\"bp\",\"bp\",\"bp\",\"bp\",\"bp\",\"bp\",\"bp\",\"bp\",\"bp\",\"bp\",\"bp\",\"bp\",\"bp\",\"bp\",\"bp\",\"bp\",\"bp\",\"bp\",\"bp\",\"bp\",\"bp\",\"bp\",\"bp\",\"bp\",\"bp\",\"bp\",\"bp\",\"bp\",\"bp\",\"bp\",\"bp\",\"bp\",\"bp\",\"bp\",\"bp\",\"bp\",\"bp\",\"bp\",\"bp\",\"bp\",\"bp\",\"bp\",\"bp\",\"bp\",\"bp\",\"bp\",\"bp\",\"bp\",\"bp\",\"bp\",\"bp\",\"bp\",\"bp\",\"bp\",\"bp\",\"bp\",\"bp\",\"bp\",\"bp\",\"bp\",\"bp\",\"bp\",\"bp\",\"bp\",\"bp\",\"bp\",\"bp\",\"bp\",\"bp\",\"bp\",\"bp\",\"bp\",\"bp\",\"bp\",\"bp\",\"bp\",\"bp\",\"bp\",\"bp\",\"bp\",\"bp\",\"bp\",\"bp\",\"bp\",\"bp\",\"bp\",\"bp\",\"bp\",\"bp\",\"bp\",\"bp\",\"bp\",\"bp\",\"bp\",\"bp\",\"bp\",\"bp\",\"bp\",\"bp\",\"bp\",\"bp\",\"bp\",\"bp\",\"bp\",\"bp\",\"bp\",\"bp\",\"bp\",\"bp\",\"bp\",\"bp\",\"bp\",\"bp\",\"bp\",\"bp\",\"bp\",\"bp\",\"bp\",\"bp\",\"bp\",\"bp\",\"bp\",\"bp\",\"bp\",\"bp\",\"bp\",\"bp\",\"bp\",\"bp\",\"bp\",\"bp\",\"bp\",\"bp\",\"bp\",\"bp\",\"bp\",\"bp\",\"bp\",\"bp\",\"bp\",\"bp\",\"bp\",\"bp\",\"bp\",\"bp\",\"bp\",\"bp\",\"bp\",\"bp\",\"bp\",\"bp\",\"bp\",\"bp\",\"bp\",\"bp\",\"bp\",\"sg\",\"sg\",\"sg\",\"sg\",\"sg\",\"sg\",\"sg\",\"sg\",\"sg\",\"sg\",\"sg\",\"sg\",\"sg\",\"sg\",\"sg\",\"sg\",\"sg\",\"sg\",\"sg\",\"sg\",\"sg\",\"sg\",\"sg\",\"sg\",\"sg\",\"sg\",\"sg\",\"sg\",\"sg\",\"sg\",\"sg\",\"sg\",\"sg\",\"sg\",\"sg\",\"sg\",\"sg\",\"sg\",\"sg\",\"sg\",\"sg\",\"sg\",\"sg\",\"sg\",\"sg\",\"sg\",\"sg\",\"sg\",\"sg\",\"sg\",\"sg\",\"sg\",\"sg\",\"sg\",\"sg\",\"sg\",\"sg\",\"sg\",\"sg\",\"sg\",\"sg\",\"sg\",\"sg\",\"sg\",\"sg\",\"sg\",\"sg\",\"sg\",\"sg\",\"sg\",\"sg\",\"sg\",\"sg\",\"sg\",\"sg\",\"sg\",\"sg\",\"sg\",\"sg\",\"sg\",\"sg\",\"sg\",\"sg\",\"sg\",\"sg\",\"sg\",\"sg\",\"sg\",\"sg\",\"sg\",\"sg\",\"sg\",\"sg\",\"sg\",\"sg\",\"sg\",\"sg\",\"sg\",\"sg\",\"sg\",\"sg\",\"sg\",\"sg\",\"sg\",\"sg\",\"sg\",\"sg\",\"sg\",\"sg\",\"sg\",\"sg\",\"sg\",\"sg\",\"sg\",\"sg\",\"sg\",\"sg\",\"sg\",\"sg\",\"sg\",\"sg\",\"sg\",\"sg\",\"sg\",\"sg\",\"sg\",\"sg\",\"sg\",\"sg\",\"sg\",\"sg\",\"sg\",\"sg\",\"sg\",\"sg\",\"sg\",\"sg\",\"sg\",\"sg\",\"sg\",\"sg\",\"sg\",\"sg\",\"sg\",\"sg\",\"sg\",\"sg\",\"sg\",\"sg\",\"sg\",\"sg\",\"sg\",\"sg\",\"sg\",\"sg\",\"sg\",\"sg\",\"sg\",\"sg\",\"sg\",\"sg\",\"sg\",\"sg\",\"sg\",\"sg\",\"sg\",\"sg\",\"sg\",\"sg\",\"sg\",\"sg\",\"sg\",\"sg\",\"sg\",\"sg\",\"sg\",\"sg\",\"sg\",\"sg\",\"sg\",\"sg\",\"sg\",\"sg\",\"sg\",\"sg\",\"sg\",\"sg\",\"sg\",\"sg\",\"sg\",\"sg\",\"sg\",\"sg\",\"sg\",\"sg\",\"sg\",\"sg\",\"sg\",\"sg\",\"sg\",\"sg\",\"sg\",\"sg\",\"sg\",\"sg\",\"sg\",\"sg\",\"sg\",\"sg\",\"sg\",\"sg\",\"sg\",\"sg\",\"sg\",\"sg\",\"sg\",\"sg\",\"sg\",\"sg\",\"sg\",\"sg\",\"sg\",\"sg\",\"sg\",\"sg\",\"sg\",\"sg\",\"sg\",\"sg\",\"sg\",\"sg\",\"sg\",\"sg\",\"sg\",\"sg\",\"sg\",\"sg\",\"sg\",\"sg\",\"sg\",\"sg\",\"sg\",\"sg\",\"sg\",\"sg\",\"sg\",\"sg\",\"sg\",\"sg\",\"sg\",\"sg\",\"sg\",\"sg\",\"sg\",\"sg\",\"sg\",\"sg\",\"sg\",\"sg\",\"sg\",\"sg\",\"sg\",\"sg\",\"sg\",\"sg\",\"sg\",\"sg\",\"sg\",\"sg\",\"sg\",\"sg\",\"sg\",\"sg\",\"sg\",\"sg\",\"sg\",\"sg\",\"sg\",\"sg\",\"sg\",\"sg\",\"sg\",\"sg\",\"sg\",\"sg\",\"sg\",\"sg\",\"sg\",\"sg\",\"sg\",\"sg\",\"sg\",\"sg\",\"sg\",\"sg\",\"sg\",\"sg\",\"sg\",\"sg\",\"sg\",\"sg\",\"sg\",\"sg\",\"sg\",\"sg\",\"sg\",\"sg\",\"sg\",\"sg\",\"sg\",\"sg\",\"sg\",\"sg\",\"sg\",\"sg\",\"sg\",\"sg\",\"sg\",\"sg\",\"sg\",\"sg\",\"sg\",\"sg\",\"sg\",\"sg\",\"sg\",\"sg\",\"sg\",\"sg\",\"sg\",\"sg\",\"sg\",\"sg\",\"sg\",\"sg\",\"sg\",\"sg\",\"sg\",\"sg\",\"sg\",\"sg\",\"sg\",\"sg\",\"sg\",\"sg\",\"sg\",\"sg\",\"sg\",\"sg\",\"sg\",\"sg\",\"sg\",\"sg\",\"sg\",\"sg\",\"sg\",\"sg\",\"sg\",\"sg\",\"sg\",\"sg\",\"sg\",\"sg\",\"sg\",\"sg\",\"sg\",\"sg\",\"sg\",\"sg\",\"sg\",\"sg\",\"sg\",\"sg\",\"sg\",\"sg\",\"sg\",\"sg\",\"sg\",\"sg\",\"sg\",\"sg\",\"sg\",\"sg\",\"sg\",\"sg\",\"sg\",\"sg\",\"sg\",\"sg\",\"sg\",\"sg\",\"sg\",\"sg\",\"sg\",\"sg\",\"sg\",\"sg\",\"sg\",\"sg\",\"sg\",\"al\",\"al\",\"al\",\"al\",\"al\",\"al\",\"al\",\"al\",\"al\",\"al\",\"al\",\"al\",\"al\",\"al\",\"al\",\"al\",\"al\",\"al\",\"al\",\"al\",\"al\",\"al\",\"al\",\"al\",\"al\",\"al\",\"al\",\"al\",\"al\",\"al\",\"al\",\"al\",\"al\",\"al\",\"al\",\"al\",\"al\",\"al\",\"al\",\"al\",\"al\",\"al\",\"al\",\"al\",\"al\",\"al\",\"al\",\"al\",\"al\",\"al\",\"al\",\"al\",\"al\",\"al\",\"al\",\"al\",\"al\",\"al\",\"al\",\"al\",\"al\",\"al\",\"al\",\"al\",\"al\",\"al\",\"al\",\"al\",\"al\",\"al\",\"al\",\"al\",\"al\",\"al\",\"al\",\"al\",\"al\",\"al\",\"al\",\"al\",\"al\",\"al\",\"al\",\"al\",\"al\",\"al\",\"al\",\"al\",\"al\",\"al\",\"al\",\"al\",\"al\",\"al\",\"al\",\"al\",\"al\",\"al\",\"al\",\"al\",\"al\",\"al\",\"al\",\"al\",\"al\",\"al\",\"al\",\"al\",\"al\",\"al\",\"al\",\"al\",\"al\",\"al\",\"al\",\"al\",\"al\",\"al\",\"al\",\"al\",\"al\",\"al\",\"al\",\"al\",\"al\",\"al\",\"al\",\"al\",\"al\",\"al\",\"al\",\"al\",\"al\",\"al\",\"al\",\"al\",\"al\",\"al\",\"al\",\"al\",\"al\",\"al\",\"al\",\"al\",\"al\",\"al\",\"al\",\"al\",\"al\",\"al\",\"al\",\"al\",\"al\",\"al\",\"al\",\"al\",\"al\",\"al\",\"al\",\"al\",\"al\",\"al\",\"al\",\"al\",\"al\",\"al\",\"al\",\"al\",\"al\",\"al\",\"al\",\"al\",\"al\",\"al\",\"al\",\"al\",\"al\",\"al\",\"al\",\"al\",\"al\",\"al\",\"al\",\"al\",\"al\",\"al\",\"al\",\"al\",\"al\",\"al\",\"al\",\"al\",\"al\",\"al\",\"al\",\"al\",\"al\",\"al\",\"al\",\"al\",\"al\",\"al\",\"al\",\"al\",\"al\",\"al\",\"al\",\"al\",\"al\",\"al\",\"al\",\"al\",\"al\",\"al\",\"al\",\"al\",\"al\",\"al\",\"al\",\"al\",\"al\",\"al\",\"al\",\"al\",\"al\",\"al\",\"al\",\"al\",\"al\",\"al\",\"al\",\"al\",\"al\",\"al\",\"al\",\"al\",\"al\",\"al\",\"al\",\"al\",\"al\",\"al\",\"al\",\"al\",\"al\",\"al\",\"al\",\"al\",\"al\",\"al\",\"al\",\"al\",\"al\",\"al\",\"al\",\"al\",\"al\",\"al\",\"al\",\"al\",\"al\",\"al\",\"al\",\"al\",\"al\",\"al\",\"al\",\"al\",\"al\",\"al\",\"al\",\"al\",\"al\",\"al\",\"al\",\"al\",\"al\",\"al\",\"al\",\"al\",\"al\",\"al\",\"al\",\"al\",\"al\",\"al\",\"al\",\"al\",\"al\",\"al\",\"al\",\"al\",\"al\",\"al\",\"al\",\"al\",\"al\",\"al\",\"al\",\"al\",\"al\",\"al\",\"al\",\"al\",\"al\",\"al\",\"al\",\"al\",\"al\",\"al\",\"al\",\"al\",\"al\",\"al\",\"al\",\"al\",\"al\",\"al\",\"al\",\"al\",\"al\",\"al\",\"al\",\"al\",\"al\",\"al\",\"al\",\"al\",\"al\",\"al\",\"al\",\"al\",\"al\",\"al\",\"al\",\"al\",\"al\",\"al\",\"al\",\"al\",\"al\",\"al\",\"al\",\"al\",\"al\",\"al\",\"al\",\"al\",\"al\",\"al\",\"al\",\"al\",\"al\",\"al\",\"al\",\"al\",\"al\",\"al\",\"al\",\"al\",\"al\",\"al\",\"al\",\"al\",\"al\",\"al\",\"al\",\"al\",\"al\",\"al\",\"al\",\"al\",\"al\",\"al\",\"al\",\"al\",\"al\",\"al\",\"al\",\"al\",\"al\",\"al\",\"al\",\"al\",\"al\",\"al\",\"al\",\"al\",\"al\",\"al\",\"al\",\"al\",\"al\",\"al\",\"al\",\"al\",\"al\",\"al\",\"al\",\"al\",\"su\",\"su\",\"su\",\"su\",\"su\",\"su\",\"su\",\"su\",\"su\",\"su\",\"su\",\"su\",\"su\",\"su\",\"su\",\"su\",\"su\",\"su\",\"su\",\"su\",\"su\",\"su\",\"su\",\"su\",\"su\",\"su\",\"su\",\"su\",\"su\",\"su\",\"su\",\"su\",\"su\",\"su\",\"su\",\"su\",\"su\",\"su\",\"su\",\"su\",\"su\",\"su\",\"su\",\"su\",\"su\",\"su\",\"su\",\"su\",\"su\",\"su\",\"su\",\"su\",\"su\",\"su\",\"su\",\"su\",\"su\",\"su\",\"su\",\"su\",\"su\",\"su\",\"su\",\"su\",\"su\",\"su\",\"su\",\"su\",\"su\",\"su\",\"su\",\"su\",\"su\",\"su\",\"su\",\"su\",\"su\",\"su\",\"su\",\"su\",\"su\",\"su\",\"su\",\"su\",\"su\",\"su\",\"su\",\"su\",\"su\",\"su\",\"su\",\"su\",\"su\",\"su\",\"su\",\"su\",\"su\",\"su\",\"su\",\"su\",\"su\",\"su\",\"su\",\"su\",\"su\",\"su\",\"su\",\"su\",\"su\",\"su\",\"su\",\"su\",\"su\",\"su\",\"su\",\"su\",\"su\",\"su\",\"su\",\"su\",\"su\",\"su\",\"su\",\"su\",\"su\",\"su\",\"su\",\"su\",\"su\",\"su\",\"su\",\"su\",\"su\",\"su\",\"su\",\"su\",\"su\",\"su\",\"su\",\"su\",\"su\",\"su\",\"su\",\"su\",\"su\",\"su\",\"su\",\"su\",\"su\",\"su\",\"su\",\"su\",\"su\",\"su\",\"su\",\"su\",\"su\",\"su\",\"su\",\"su\",\"su\",\"su\",\"su\",\"su\",\"su\",\"su\",\"su\",\"su\",\"su\",\"su\",\"su\",\"su\",\"su\",\"su\",\"su\",\"su\",\"su\",\"su\",\"su\",\"su\",\"su\",\"su\",\"su\",\"su\",\"su\",\"su\",\"su\",\"su\",\"su\",\"su\",\"su\",\"su\",\"su\",\"su\",\"su\",\"su\",\"su\",\"su\",\"su\",\"su\",\"su\",\"su\",\"su\",\"su\",\"su\",\"su\",\"su\",\"su\",\"su\",\"su\",\"su\",\"su\",\"su\",\"su\",\"su\",\"su\",\"su\",\"su\",\"su\",\"su\",\"su\",\"su\",\"su\",\"su\",\"su\",\"su\",\"su\",\"su\",\"su\",\"su\",\"su\",\"su\",\"su\",\"su\",\"su\",\"su\",\"su\",\"su\",\"su\",\"su\",\"su\",\"su\",\"su\",\"su\",\"su\",\"su\",\"su\",\"su\",\"su\",\"su\",\"su\",\"su\",\"su\",\"su\",\"su\",\"su\",\"su\",\"su\",\"su\",\"su\",\"su\",\"su\",\"su\",\"su\",\"su\",\"su\",\"su\",\"su\",\"su\",\"su\",\"su\",\"su\",\"su\",\"su\",\"su\",\"su\",\"su\",\"su\",\"su\",\"su\",\"su\",\"su\",\"su\",\"su\",\"su\",\"su\",\"su\",\"su\",\"su\",\"su\",\"su\",\"su\",\"su\",\"su\",\"su\",\"su\",\"su\",\"su\",\"su\",\"su\",\"su\",\"su\",\"su\",\"su\",\"su\",\"su\",\"su\",\"su\",\"su\",\"su\",\"su\",\"su\",\"su\",\"su\",\"su\",\"su\",\"su\",\"su\",\"su\",\"su\",\"su\",\"su\",\"su\",\"su\",\"su\",\"su\",\"su\",\"su\",\"su\",\"su\",\"su\",\"su\",\"su\",\"su\",\"su\",\"su\",\"su\",\"su\",\"su\",\"su\",\"su\",\"su\",\"su\",\"su\",\"su\",\"su\",\"su\",\"su\",\"su\",\"su\",\"su\",\"su\",\"su\",\"su\",\"su\",\"su\",\"su\",\"su\",\"su\",\"su\",\"su\",\"su\",\"su\",\"su\",\"su\",\"su\",\"su\",\"su\",\"su\",\"su\",\"su\",\"su\",\"su\",\"su\",\"su\",\"su\",\"su\",\"su\",\"su\",\"su\",\"su\",\"su\",\"su\",\"su\",\"su\",\"su\",\"su\",\"su\",\"su\",\"su\",\"su\",\"su\",\"su\",\"su\",\"su\",\"su\",\"su\",\"su\",\"su\",\"su\",\"bgr\",\"bgr\",\"bgr\",\"bgr\",\"bgr\",\"bgr\",\"bgr\",\"bgr\",\"bgr\",\"bgr\",\"bgr\",\"bgr\",\"bgr\",\"bgr\",\"bgr\",\"bgr\",\"bgr\",\"bgr\",\"bgr\",\"bgr\",\"bgr\",\"bgr\",\"bgr\",\"bgr\",\"bgr\",\"bgr\",\"bgr\",\"bgr\",\"bgr\",\"bgr\",\"bgr\",\"bgr\",\"bgr\",\"bgr\",\"bgr\",\"bgr\",\"bgr\",\"bgr\",\"bgr\",\"bgr\",\"bgr\",\"bgr\",\"bgr\",\"bgr\",\"bgr\",\"bgr\",\"bgr\",\"bgr\",\"bgr\",\"bgr\",\"bgr\",\"bgr\",\"bgr\",\"bgr\",\"bgr\",\"bgr\",\"bgr\",\"bgr\",\"bgr\",\"bgr\",\"bgr\",\"bgr\",\"bgr\",\"bgr\",\"bgr\",\"bgr\",\"bgr\",\"bgr\",\"bgr\",\"bgr\",\"bgr\",\"bgr\",\"bgr\",\"bgr\",\"bgr\",\"bgr\",\"bgr\",\"bgr\",\"bgr\",\"bgr\",\"bgr\",\"bgr\",\"bgr\",\"bgr\",\"bgr\",\"bgr\",\"bgr\",\"bgr\",\"bgr\",\"bgr\",\"bgr\",\"bgr\",\"bgr\",\"bgr\",\"bgr\",\"bgr\",\"bgr\",\"bgr\",\"bgr\",\"bgr\",\"bgr\",\"bgr\",\"bgr\",\"bgr\",\"bgr\",\"bgr\",\"bgr\",\"bgr\",\"bgr\",\"bgr\",\"bgr\",\"bgr\",\"bgr\",\"bgr\",\"bgr\",\"bgr\",\"bgr\",\"bgr\",\"bgr\",\"bgr\",\"bgr\",\"bgr\",\"bgr\",\"bgr\",\"bgr\",\"bgr\",\"bgr\",\"bgr\",\"bgr\",\"bgr\",\"bgr\",\"bgr\",\"bgr\",\"bgr\",\"bgr\",\"bgr\",\"bgr\",\"bgr\",\"bgr\",\"bgr\",\"bgr\",\"bgr\",\"bgr\",\"bgr\",\"bgr\",\"bgr\",\"bgr\",\"bgr\",\"bgr\",\"bgr\",\"bgr\",\"bgr\",\"bgr\",\"bgr\",\"bgr\",\"bgr\",\"bgr\",\"bgr\",\"bgr\",\"bgr\",\"bgr\",\"bgr\",\"bgr\",\"bgr\",\"bgr\",\"bgr\",\"bgr\",\"bgr\",\"bgr\",\"bgr\",\"bgr\",\"bgr\",\"bgr\",\"bgr\",\"bgr\",\"bgr\",\"bgr\",\"bgr\",\"bgr\",\"bgr\",\"bgr\",\"bgr\",\"bgr\",\"bgr\",\"bgr\",\"bgr\",\"bgr\",\"bgr\",\"bgr\",\"bgr\",\"bgr\",\"bgr\",\"bgr\",\"bgr\",\"bgr\",\"bgr\",\"bgr\",\"bgr\",\"bgr\",\"bgr\",\"bgr\",\"bgr\",\"bgr\",\"bgr\",\"bgr\",\"bgr\",\"bgr\",\"bgr\",\"bgr\",\"bgr\",\"bgr\",\"bgr\",\"bgr\",\"bgr\",\"bgr\",\"bgr\",\"bgr\",\"bgr\",\"bgr\",\"bgr\",\"bgr\",\"bgr\",\"bgr\",\"bgr\",\"bgr\",\"bgr\",\"bgr\",\"bgr\",\"bgr\",\"bgr\",\"bgr\",\"bgr\",\"bgr\",\"bgr\",\"bgr\",\"bgr\",\"bgr\",\"bgr\",\"bgr\",\"bgr\",\"bgr\",\"bgr\",\"bgr\",\"bgr\",\"bgr\",\"bgr\",\"bgr\",\"bgr\",\"bgr\",\"bgr\",\"bgr\",\"bgr\",\"bgr\",\"bgr\",\"bgr\",\"bgr\",\"bgr\",\"bgr\",\"bgr\",\"bgr\",\"bgr\",\"bgr\",\"bgr\",\"bgr\",\"bgr\",\"bgr\",\"bgr\",\"bgr\",\"bgr\",\"bgr\",\"bgr\",\"bgr\",\"bgr\",\"bgr\",\"bgr\",\"bgr\",\"bgr\",\"bgr\",\"bgr\",\"bgr\",\"bgr\",\"bgr\",\"bgr\",\"bgr\",\"bgr\",\"bgr\",\"bgr\",\"bgr\",\"bgr\",\"bgr\",\"bgr\",\"bgr\",\"bgr\",\"bgr\",\"bgr\",\"bgr\",\"bgr\",\"bgr\",\"bgr\",\"bgr\",\"bgr\",\"bgr\",\"bgr\",\"bgr\",\"bgr\",\"bgr\",\"bgr\",\"bgr\",\"bgr\",\"bgr\",\"bgr\",\"bgr\",\"bgr\",\"bgr\",\"bgr\",\"bgr\",\"bgr\",\"bgr\",\"bgr\",\"bgr\",\"bgr\",\"bgr\",\"bgr\",\"bgr\",\"bgr\",\"bgr\",\"bgr\",\"bgr\",\"bgr\",\"bgr\",\"bgr\",\"bgr\",\"bgr\",\"bgr\",\"bgr\",\"bgr\",\"bgr\",\"bgr\",\"bgr\",\"bgr\",\"bgr\",\"bgr\",\"bgr\",\"bgr\",\"bgr\",\"bgr\",\"bgr\",\"bgr\",\"bgr\",\"bgr\",\"bgr\",\"bgr\",\"bgr\",\"bgr\",\"bgr\",\"bgr\",\"bgr\",\"bgr\",\"bgr\",\"bgr\",\"bgr\",\"bgr\",\"bgr\",\"bgr\",\"bgr\",\"bgr\",\"bgr\",\"bgr\",\"bgr\",\"bgr\",\"bgr\",\"bgr\",\"bgr\",\"bgr\",\"bgr\",\"bgr\",\"bgr\",\"bgr\",\"bgr\",\"bgr\",\"bgr\",\"bgr\",\"bgr\",\"bgr\",\"bgr\",\"bgr\",\"bgr\",\"bgr\",\"bgr\",\"bgr\",\"bgr\",\"bgr\",\"bgr\",\"bgr\",\"bgr\",\"bgr\",\"bgr\",\"bgr\",\"bgr\",\"bgr\",\"bu\",\"bu\",\"bu\",\"bu\",\"bu\",\"bu\",\"bu\",\"bu\",\"bu\",\"bu\",\"bu\",\"bu\",\"bu\",\"bu\",\"bu\",\"bu\",\"bu\",\"bu\",\"bu\",\"bu\",\"bu\",\"bu\",\"bu\",\"bu\",\"bu\",\"bu\",\"bu\",\"bu\",\"bu\",\"bu\",\"bu\",\"bu\",\"bu\",\"bu\",\"bu\",\"bu\",\"bu\",\"bu\",\"bu\",\"bu\",\"bu\",\"bu\",\"bu\",\"bu\",\"bu\",\"bu\",\"bu\",\"bu\",\"bu\",\"bu\",\"bu\",\"bu\",\"bu\",\"bu\",\"bu\",\"bu\",\"bu\",\"bu\",\"bu\",\"bu\",\"bu\",\"bu\",\"bu\",\"bu\",\"bu\",\"bu\",\"bu\",\"bu\",\"bu\",\"bu\",\"bu\",\"bu\",\"bu\",\"bu\",\"bu\",\"bu\",\"bu\",\"bu\",\"bu\",\"bu\",\"bu\",\"bu\",\"bu\",\"bu\",\"bu\",\"bu\",\"bu\",\"bu\",\"bu\",\"bu\",\"bu\",\"bu\",\"bu\",\"bu\",\"bu\",\"bu\",\"bu\",\"bu\",\"bu\",\"bu\",\"bu\",\"bu\",\"bu\",\"bu\",\"bu\",\"bu\",\"bu\",\"bu\",\"bu\",\"bu\",\"bu\",\"bu\",\"bu\",\"bu\",\"bu\",\"bu\",\"bu\",\"bu\",\"bu\",\"bu\",\"bu\",\"bu\",\"bu\",\"bu\",\"bu\",\"bu\",\"bu\",\"bu\",\"bu\",\"bu\",\"bu\",\"bu\",\"bu\",\"bu\",\"bu\",\"bu\",\"bu\",\"bu\",\"bu\",\"bu\",\"bu\",\"bu\",\"bu\",\"bu\",\"bu\",\"bu\",\"bu\",\"bu\",\"bu\",\"bu\",\"bu\",\"bu\",\"bu\",\"bu\",\"bu\",\"bu\",\"bu\",\"bu\",\"bu\",\"bu\",\"bu\",\"bu\",\"bu\",\"bu\",\"bu\",\"bu\",\"bu\",\"bu\",\"bu\",\"bu\",\"bu\",\"bu\",\"bu\",\"bu\",\"bu\",\"bu\",\"bu\",\"bu\",\"bu\",\"bu\",\"bu\",\"bu\",\"bu\",\"bu\",\"bu\",\"bu\",\"bu\",\"bu\",\"bu\",\"bu\",\"bu\",\"bu\",\"bu\",\"bu\",\"bu\",\"bu\",\"bu\",\"bu\",\"bu\",\"bu\",\"bu\",\"bu\",\"bu\",\"bu\",\"bu\",\"bu\",\"bu\",\"bu\",\"bu\",\"bu\",\"bu\",\"bu\",\"bu\",\"bu\",\"bu\",\"bu\",\"bu\",\"bu\",\"bu\",\"bu\",\"bu\",\"bu\",\"bu\",\"bu\",\"bu\",\"bu\",\"bu\",\"bu\",\"bu\",\"bu\",\"bu\",\"bu\",\"bu\",\"bu\",\"bu\",\"bu\",\"bu\",\"bu\",\"bu\",\"bu\",\"bu\",\"bu\",\"bu\",\"bu\",\"bu\",\"bu\",\"bu\",\"bu\",\"bu\",\"bu\",\"bu\",\"bu\",\"bu\",\"bu\",\"bu\",\"bu\",\"bu\",\"bu\",\"bu\",\"bu\",\"bu\",\"bu\",\"bu\",\"bu\",\"bu\",\"bu\",\"bu\",\"bu\",\"bu\",\"bu\",\"bu\",\"bu\",\"bu\",\"bu\",\"bu\",\"bu\",\"bu\",\"bu\",\"bu\",\"bu\",\"bu\",\"bu\",\"bu\",\"bu\",\"bu\",\"bu\",\"bu\",\"bu\",\"bu\",\"bu\",\"bu\",\"bu\",\"bu\",\"bu\",\"bu\",\"bu\",\"bu\",\"bu\",\"bu\",\"bu\",\"bu\",\"bu\",\"bu\",\"bu\",\"bu\",\"bu\",\"bu\",\"bu\",\"bu\",\"bu\",\"bu\",\"bu\",\"bu\",\"bu\",\"bu\",\"bu\",\"bu\",\"bu\",\"bu\",\"bu\",\"bu\",\"bu\",\"bu\",\"bu\",\"bu\",\"bu\",\"bu\",\"bu\",\"bu\",\"bu\",\"bu\",\"bu\",\"bu\",\"bu\",\"bu\",\"bu\",\"bu\",\"bu\",\"bu\",\"bu\",\"bu\",\"bu\",\"bu\",\"bu\",\"bu\",\"bu\",\"bu\",\"bu\",\"bu\",\"bu\",\"bu\",\"bu\",\"bu\",\"bu\",\"bu\",\"bu\",\"bu\",\"bu\",\"bu\",\"bu\",\"bu\",\"bu\",\"bu\",\"bu\",\"bu\",\"bu\",\"bu\",\"bu\",\"bu\",\"bu\",\"bu\",\"bu\",\"bu\",\"bu\",\"bu\",\"bu\",\"bu\",\"bu\",\"bu\",\"bu\",\"bu\",\"bu\",\"bu\",\"bu\",\"bu\",\"bu\",\"bu\",\"bu\",\"bu\",\"bu\",\"bu\",\"bu\",\"bu\",\"bu\",\"bu\",\"bu\",\"bu\",\"bu\",\"bu\",\"bu\",\"sc\",\"sc\",\"sc\",\"sc\",\"sc\",\"sc\",\"sc\",\"sc\",\"sc\",\"sc\",\"sc\",\"sc\",\"sc\",\"sc\",\"sc\",\"sc\",\"sc\",\"sc\",\"sc\",\"sc\",\"sc\",\"sc\",\"sc\",\"sc\",\"sc\",\"sc\",\"sc\",\"sc\",\"sc\",\"sc\",\"sc\",\"sc\",\"sc\",\"sc\",\"sc\",\"sc\",\"sc\",\"sc\",\"sc\",\"sc\",\"sc\",\"sc\",\"sc\",\"sc\",\"sc\",\"sc\",\"sc\",\"sc\",\"sc\",\"sc\",\"sc\",\"sc\",\"sc\",\"sc\",\"sc\",\"sc\",\"sc\",\"sc\",\"sc\",\"sc\",\"sc\",\"sc\",\"sc\",\"sc\",\"sc\",\"sc\",\"sc\",\"sc\",\"sc\",\"sc\",\"sc\",\"sc\",\"sc\",\"sc\",\"sc\",\"sc\",\"sc\",\"sc\",\"sc\",\"sc\",\"sc\",\"sc\",\"sc\",\"sc\",\"sc\",\"sc\",\"sc\",\"sc\",\"sc\",\"sc\",\"sc\",\"sc\",\"sc\",\"sc\",\"sc\",\"sc\",\"sc\",\"sc\",\"sc\",\"sc\",\"sc\",\"sc\",\"sc\",\"sc\",\"sc\",\"sc\",\"sc\",\"sc\",\"sc\",\"sc\",\"sc\",\"sc\",\"sc\",\"sc\",\"sc\",\"sc\",\"sc\",\"sc\",\"sc\",\"sc\",\"sc\",\"sc\",\"sc\",\"sc\",\"sc\",\"sc\",\"sc\",\"sc\",\"sc\",\"sc\",\"sc\",\"sc\",\"sc\",\"sc\",\"sc\",\"sc\",\"sc\",\"sc\",\"sc\",\"sc\",\"sc\",\"sc\",\"sc\",\"sc\",\"sc\",\"sc\",\"sc\",\"sc\",\"sc\",\"sc\",\"sc\",\"sc\",\"sc\",\"sc\",\"sc\",\"sc\",\"sc\",\"sc\",\"sc\",\"sc\",\"sc\",\"sc\",\"sc\",\"sc\",\"sc\",\"sc\",\"sc\",\"sc\",\"sc\",\"sc\",\"sc\",\"sc\",\"sc\",\"sc\",\"sc\",\"sc\",\"sc\",\"sc\",\"sc\",\"sc\",\"sc\",\"sc\",\"sc\",\"sc\",\"sc\",\"sc\",\"sc\",\"sc\",\"sc\",\"sc\",\"sc\",\"sc\",\"sc\",\"sc\",\"sc\",\"sc\",\"sc\",\"sc\",\"sc\",\"sc\",\"sc\",\"sc\",\"sc\",\"sc\",\"sc\",\"sc\",\"sc\",\"sc\",\"sc\",\"sc\",\"sc\",\"sc\",\"sc\",\"sc\",\"sc\",\"sc\",\"sc\",\"sc\",\"sc\",\"sc\",\"sc\",\"sc\",\"sc\",\"sc\",\"sc\",\"sc\",\"sc\",\"sc\",\"sc\",\"sc\",\"sc\",\"sc\",\"sc\",\"sc\",\"sc\",\"sc\",\"sc\",\"sc\",\"sc\",\"sc\",\"sc\",\"sc\",\"sc\",\"sc\",\"sc\",\"sc\",\"sc\",\"sc\",\"sc\",\"sc\",\"sc\",\"sc\",\"sc\",\"sc\",\"sc\",\"sc\",\"sc\",\"sc\",\"sc\",\"sc\",\"sc\",\"sc\",\"sc\",\"sc\",\"sc\",\"sc\",\"sc\",\"sc\",\"sc\",\"sc\",\"sc\",\"sc\",\"sc\",\"sc\",\"sc\",\"sc\",\"sc\",\"sc\",\"sc\",\"sc\",\"sc\",\"sc\",\"sc\",\"sc\",\"sc\",\"sc\",\"sc\",\"sc\",\"sc\",\"sc\",\"sc\",\"sc\",\"sc\",\"sc\",\"sc\",\"sc\",\"sc\",\"sc\",\"sc\",\"sc\",\"sc\",\"sc\",\"sc\",\"sc\",\"sc\",\"sc\",\"sc\",\"sc\",\"sc\",\"sc\",\"sc\",\"sc\",\"sc\",\"sc\",\"sc\",\"sc\",\"sc\",\"sc\",\"sc\",\"sc\",\"sc\",\"sc\",\"sc\",\"sc\",\"sc\",\"sc\",\"sc\",\"sc\",\"sc\",\"sc\",\"sc\",\"sc\",\"sc\",\"sc\",\"sc\",\"sc\",\"sc\",\"sc\",\"sc\",\"sc\",\"sc\",\"sc\",\"sc\",\"sc\",\"sc\",\"sc\",\"sc\",\"sc\",\"sc\",\"sc\",\"sc\",\"sc\",\"sc\",\"sc\",\"sc\",\"sc\",\"sc\",\"sc\",\"sc\",\"sc\",\"sc\",\"sc\",\"sc\",\"sc\",\"sc\",\"sc\",\"sc\",\"sc\",\"sc\",\"sc\",\"sc\",\"sc\",\"sc\",\"sc\",\"sc\",\"sc\",\"sc\",\"sc\",\"sc\",\"sc\",\"sc\",\"sc\",\"sc\",\"sc\",\"sc\",\"sc\",\"sc\",\"sc\",\"sc\",\"sc\",\"sc\",\"sc\",\"sc\",\"sc\",\"sc\",\"sc\",\"sc\",\"sc\",\"sc\",\"sc\",\"sod\",\"sod\",\"sod\",\"sod\",\"sod\",\"sod\",\"sod\",\"sod\",\"sod\",\"sod\",\"sod\",\"sod\",\"sod\",\"sod\",\"sod\",\"sod\",\"sod\",\"sod\",\"sod\",\"sod\",\"sod\",\"sod\",\"sod\",\"sod\",\"sod\",\"sod\",\"sod\",\"sod\",\"sod\",\"sod\",\"sod\",\"sod\",\"sod\",\"sod\",\"sod\",\"sod\",\"sod\",\"sod\",\"sod\",\"sod\",\"sod\",\"sod\",\"sod\",\"sod\",\"sod\",\"sod\",\"sod\",\"sod\",\"sod\",\"sod\",\"sod\",\"sod\",\"sod\",\"sod\",\"sod\",\"sod\",\"sod\",\"sod\",\"sod\",\"sod\",\"sod\",\"sod\",\"sod\",\"sod\",\"sod\",\"sod\",\"sod\",\"sod\",\"sod\",\"sod\",\"sod\",\"sod\",\"sod\",\"sod\",\"sod\",\"sod\",\"sod\",\"sod\",\"sod\",\"sod\",\"sod\",\"sod\",\"sod\",\"sod\",\"sod\",\"sod\",\"sod\",\"sod\",\"sod\",\"sod\",\"sod\",\"sod\",\"sod\",\"sod\",\"sod\",\"sod\",\"sod\",\"sod\",\"sod\",\"sod\",\"sod\",\"sod\",\"sod\",\"sod\",\"sod\",\"sod\",\"sod\",\"sod\",\"sod\",\"sod\",\"sod\",\"sod\",\"sod\",\"sod\",\"sod\",\"sod\",\"sod\",\"sod\",\"sod\",\"sod\",\"sod\",\"sod\",\"sod\",\"sod\",\"sod\",\"sod\",\"sod\",\"sod\",\"sod\",\"sod\",\"sod\",\"sod\",\"sod\",\"sod\",\"sod\",\"sod\",\"sod\",\"sod\",\"sod\",\"sod\",\"sod\",\"sod\",\"sod\",\"sod\",\"sod\",\"sod\",\"sod\",\"sod\",\"sod\",\"sod\",\"sod\",\"sod\",\"sod\",\"sod\",\"sod\",\"sod\",\"sod\",\"sod\",\"sod\",\"sod\",\"sod\",\"sod\",\"sod\",\"sod\",\"sod\",\"sod\",\"sod\",\"sod\",\"sod\",\"sod\",\"sod\",\"sod\",\"sod\",\"sod\",\"sod\",\"sod\",\"sod\",\"sod\",\"sod\",\"sod\",\"sod\",\"sod\",\"sod\",\"sod\",\"sod\",\"sod\",\"sod\",\"sod\",\"sod\",\"sod\",\"sod\",\"sod\",\"sod\",\"sod\",\"sod\",\"sod\",\"sod\",\"sod\",\"sod\",\"sod\",\"sod\",\"sod\",\"sod\",\"sod\",\"sod\",\"sod\",\"sod\",\"sod\",\"sod\",\"sod\",\"sod\",\"sod\",\"sod\",\"sod\",\"sod\",\"sod\",\"sod\",\"sod\",\"sod\",\"sod\",\"sod\",\"sod\",\"sod\",\"sod\",\"sod\",\"sod\",\"sod\",\"sod\",\"sod\",\"sod\",\"sod\",\"sod\",\"sod\",\"sod\",\"sod\",\"sod\",\"sod\",\"sod\",\"sod\",\"sod\",\"sod\",\"sod\",\"sod\",\"sod\",\"sod\",\"sod\",\"sod\",\"sod\",\"sod\",\"sod\",\"sod\",\"sod\",\"sod\",\"sod\",\"sod\",\"sod\",\"sod\",\"sod\",\"sod\",\"sod\",\"sod\",\"sod\",\"sod\",\"sod\",\"sod\",\"sod\",\"sod\",\"sod\",\"sod\",\"sod\",\"sod\",\"sod\",\"sod\",\"sod\",\"sod\",\"sod\",\"sod\",\"sod\",\"sod\",\"sod\",\"sod\",\"sod\",\"sod\",\"sod\",\"sod\",\"sod\",\"sod\",\"sod\",\"sod\",\"sod\",\"sod\",\"sod\",\"sod\",\"sod\",\"sod\",\"sod\",\"sod\",\"sod\",\"sod\",\"sod\",\"sod\",\"sod\",\"sod\",\"sod\",\"sod\",\"sod\",\"sod\",\"sod\",\"sod\",\"sod\",\"sod\",\"sod\",\"sod\",\"sod\",\"sod\",\"sod\",\"sod\",\"sod\",\"sod\",\"sod\",\"sod\",\"sod\",\"sod\",\"sod\",\"sod\",\"sod\",\"sod\",\"sod\",\"sod\",\"sod\",\"sod\",\"sod\",\"sod\",\"sod\",\"sod\",\"sod\",\"sod\",\"sod\",\"sod\",\"sod\",\"sod\",\"sod\",\"sod\",\"sod\",\"sod\",\"sod\",\"sod\",\"sod\",\"sod\",\"sod\",\"sod\",\"sod\",\"sod\",\"sod\",\"sod\",\"sod\",\"sod\",\"sod\",\"sod\",\"sod\",\"sod\",\"sod\",\"sod\",\"sod\",\"sod\",\"sod\",\"sod\",\"sod\",\"sod\",\"sod\",\"sod\",\"sod\",\"sod\",\"sod\",\"sod\",\"sod\",\"sod\",\"sod\",\"sod\",\"sod\",\"sod\",\"sod\",\"sod\",\"sod\",\"sod\",\"sod\",\"sod\",\"sod\",\"sod\",\"sod\",\"sod\",\"sod\",\"sod\",\"sod\",\"sod\",\"sod\",\"sod\",\"sod\",\"sod\",\"sod\",\"pot\",\"pot\",\"pot\",\"pot\",\"pot\",\"pot\",\"pot\",\"pot\",\"pot\",\"pot\",\"pot\",\"pot\",\"pot\",\"pot\",\"pot\",\"pot\",\"pot\",\"pot\",\"pot\",\"pot\",\"pot\",\"pot\",\"pot\",\"pot\",\"pot\",\"pot\",\"pot\",\"pot\",\"pot\",\"pot\",\"pot\",\"pot\",\"pot\",\"pot\",\"pot\",\"pot\",\"pot\",\"pot\",\"pot\",\"pot\",\"pot\",\"pot\",\"pot\",\"pot\",\"pot\",\"pot\",\"pot\",\"pot\",\"pot\",\"pot\",\"pot\",\"pot\",\"pot\",\"pot\",\"pot\",\"pot\",\"pot\",\"pot\",\"pot\",\"pot\",\"pot\",\"pot\",\"pot\",\"pot\",\"pot\",\"pot\",\"pot\",\"pot\",\"pot\",\"pot\",\"pot\",\"pot\",\"pot\",\"pot\",\"pot\",\"pot\",\"pot\",\"pot\",\"pot\",\"pot\",\"pot\",\"pot\",\"pot\",\"pot\",\"pot\",\"pot\",\"pot\",\"pot\",\"pot\",\"pot\",\"pot\",\"pot\",\"pot\",\"pot\",\"pot\",\"pot\",\"pot\",\"pot\",\"pot\",\"pot\",\"pot\",\"pot\",\"pot\",\"pot\",\"pot\",\"pot\",\"pot\",\"pot\",\"pot\",\"pot\",\"pot\",\"pot\",\"pot\",\"pot\",\"pot\",\"pot\",\"pot\",\"pot\",\"pot\",\"pot\",\"pot\",\"pot\",\"pot\",\"pot\",\"pot\",\"pot\",\"pot\",\"pot\",\"pot\",\"pot\",\"pot\",\"pot\",\"pot\",\"pot\",\"pot\",\"pot\",\"pot\",\"pot\",\"pot\",\"pot\",\"pot\",\"pot\",\"pot\",\"pot\",\"pot\",\"pot\",\"pot\",\"pot\",\"pot\",\"pot\",\"pot\",\"pot\",\"pot\",\"pot\",\"pot\",\"pot\",\"pot\",\"pot\",\"pot\",\"pot\",\"pot\",\"pot\",\"pot\",\"pot\",\"pot\",\"pot\",\"pot\",\"pot\",\"pot\",\"pot\",\"pot\",\"pot\",\"pot\",\"pot\",\"pot\",\"pot\",\"pot\",\"pot\",\"pot\",\"pot\",\"pot\",\"pot\",\"pot\",\"pot\",\"pot\",\"pot\",\"pot\",\"pot\",\"pot\",\"pot\",\"pot\",\"pot\",\"pot\",\"pot\",\"pot\",\"pot\",\"pot\",\"pot\",\"pot\",\"pot\",\"pot\",\"pot\",\"pot\",\"pot\",\"pot\",\"pot\",\"pot\",\"pot\",\"pot\",\"pot\",\"pot\",\"pot\",\"pot\",\"pot\",\"pot\",\"pot\",\"pot\",\"pot\",\"pot\",\"pot\",\"pot\",\"pot\",\"pot\",\"pot\",\"pot\",\"pot\",\"pot\",\"pot\",\"pot\",\"pot\",\"pot\",\"pot\",\"pot\",\"pot\",\"pot\",\"pot\",\"pot\",\"pot\",\"pot\",\"pot\",\"pot\",\"pot\",\"pot\",\"pot\",\"pot\",\"pot\",\"pot\",\"pot\",\"pot\",\"pot\",\"pot\",\"pot\",\"pot\",\"pot\",\"pot\",\"pot\",\"pot\",\"pot\",\"pot\",\"pot\",\"pot\",\"pot\",\"pot\",\"pot\",\"pot\",\"pot\",\"pot\",\"pot\",\"pot\",\"pot\",\"pot\",\"pot\",\"pot\",\"pot\",\"pot\",\"pot\",\"pot\",\"pot\",\"pot\",\"pot\",\"pot\",\"pot\",\"pot\",\"pot\",\"pot\",\"pot\",\"pot\",\"pot\",\"pot\",\"pot\",\"pot\",\"pot\",\"pot\",\"pot\",\"pot\",\"pot\",\"pot\",\"pot\",\"pot\",\"pot\",\"pot\",\"pot\",\"pot\",\"pot\",\"pot\",\"pot\",\"pot\",\"pot\",\"pot\",\"pot\",\"pot\",\"pot\",\"pot\",\"pot\",\"pot\",\"pot\",\"pot\",\"pot\",\"pot\",\"pot\",\"pot\",\"pot\",\"pot\",\"pot\",\"pot\",\"pot\",\"pot\",\"pot\",\"pot\",\"pot\",\"pot\",\"pot\",\"pot\",\"pot\",\"pot\",\"pot\",\"pot\",\"pot\",\"pot\",\"pot\",\"pot\",\"pot\",\"pot\",\"pot\",\"pot\",\"pot\",\"pot\",\"pot\",\"pot\",\"pot\",\"pot\",\"pot\",\"pot\",\"pot\",\"pot\",\"pot\",\"pot\",\"pot\",\"pot\",\"pot\",\"pot\",\"pot\",\"pot\",\"pot\",\"pot\",\"pot\",\"pot\",\"pot\",\"pot\",\"pot\",\"pot\",\"pot\",\"pot\",\"pot\",\"pot\",\"pot\",\"pot\",\"pot\",\"pot\",\"pot\",\"pot\",\"pot\",\"pot\",\"pot\",\"pot\",\"pot\",\"pot\",\"pot\",\"pot\",\"pot\",\"pot\",\"pot\",\"pot\",\"pot\",\"pot\",\"pot\",\"pot\",\"pot\",\"pot\",\"pot\",\"hemo\",\"hemo\",\"hemo\",\"hemo\",\"hemo\",\"hemo\",\"hemo\",\"hemo\",\"hemo\",\"hemo\",\"hemo\",\"hemo\",\"hemo\",\"hemo\",\"hemo\",\"hemo\",\"hemo\",\"hemo\",\"hemo\",\"hemo\",\"hemo\",\"hemo\",\"hemo\",\"hemo\",\"hemo\",\"hemo\",\"hemo\",\"hemo\",\"hemo\",\"hemo\",\"hemo\",\"hemo\",\"hemo\",\"hemo\",\"hemo\",\"hemo\",\"hemo\",\"hemo\",\"hemo\",\"hemo\",\"hemo\",\"hemo\",\"hemo\",\"hemo\",\"hemo\",\"hemo\",\"hemo\",\"hemo\",\"hemo\",\"hemo\",\"hemo\",\"hemo\",\"hemo\",\"hemo\",\"hemo\",\"hemo\",\"hemo\",\"hemo\",\"hemo\",\"hemo\",\"hemo\",\"hemo\",\"hemo\",\"hemo\",\"hemo\",\"hemo\",\"hemo\",\"hemo\",\"hemo\",\"hemo\",\"hemo\",\"hemo\",\"hemo\",\"hemo\",\"hemo\",\"hemo\",\"hemo\",\"hemo\",\"hemo\",\"hemo\",\"hemo\",\"hemo\",\"hemo\",\"hemo\",\"hemo\",\"hemo\",\"hemo\",\"hemo\",\"hemo\",\"hemo\",\"hemo\",\"hemo\",\"hemo\",\"hemo\",\"hemo\",\"hemo\",\"hemo\",\"hemo\",\"hemo\",\"hemo\",\"hemo\",\"hemo\",\"hemo\",\"hemo\",\"hemo\",\"hemo\",\"hemo\",\"hemo\",\"hemo\",\"hemo\",\"hemo\",\"hemo\",\"hemo\",\"hemo\",\"hemo\",\"hemo\",\"hemo\",\"hemo\",\"hemo\",\"hemo\",\"hemo\",\"hemo\",\"hemo\",\"hemo\",\"hemo\",\"hemo\",\"hemo\",\"hemo\",\"hemo\",\"hemo\",\"hemo\",\"hemo\",\"hemo\",\"hemo\",\"hemo\",\"hemo\",\"hemo\",\"hemo\",\"hemo\",\"hemo\",\"hemo\",\"hemo\",\"hemo\",\"hemo\",\"hemo\",\"hemo\",\"hemo\",\"hemo\",\"hemo\",\"hemo\",\"hemo\",\"hemo\",\"hemo\",\"hemo\",\"hemo\",\"hemo\",\"hemo\",\"hemo\",\"hemo\",\"hemo\",\"hemo\",\"hemo\",\"hemo\",\"hemo\",\"hemo\",\"hemo\",\"hemo\",\"hemo\",\"hemo\",\"hemo\",\"hemo\",\"hemo\",\"hemo\",\"hemo\",\"hemo\",\"hemo\",\"hemo\",\"hemo\",\"hemo\",\"hemo\",\"hemo\",\"hemo\",\"hemo\",\"hemo\",\"hemo\",\"hemo\",\"hemo\",\"hemo\",\"hemo\",\"hemo\",\"hemo\",\"hemo\",\"hemo\",\"hemo\",\"hemo\",\"hemo\",\"hemo\",\"hemo\",\"hemo\",\"hemo\",\"hemo\",\"hemo\",\"hemo\",\"hemo\",\"hemo\",\"hemo\",\"hemo\",\"hemo\",\"hemo\",\"hemo\",\"hemo\",\"hemo\",\"hemo\",\"hemo\",\"hemo\",\"hemo\",\"hemo\",\"hemo\",\"hemo\",\"hemo\",\"hemo\",\"hemo\",\"hemo\",\"hemo\",\"hemo\",\"hemo\",\"hemo\",\"hemo\",\"hemo\",\"hemo\",\"hemo\",\"hemo\",\"hemo\",\"hemo\",\"hemo\",\"hemo\",\"hemo\",\"hemo\",\"hemo\",\"hemo\",\"hemo\",\"hemo\",\"hemo\",\"hemo\",\"hemo\",\"hemo\",\"hemo\",\"hemo\",\"hemo\",\"hemo\",\"hemo\",\"hemo\",\"hemo\",\"hemo\",\"hemo\",\"hemo\",\"hemo\",\"hemo\",\"hemo\",\"hemo\",\"hemo\",\"hemo\",\"hemo\",\"hemo\",\"hemo\",\"hemo\",\"hemo\",\"hemo\",\"hemo\",\"hemo\",\"hemo\",\"hemo\",\"hemo\",\"hemo\",\"hemo\",\"hemo\",\"hemo\",\"hemo\",\"hemo\",\"hemo\",\"hemo\",\"hemo\",\"hemo\",\"hemo\",\"hemo\",\"hemo\",\"hemo\",\"hemo\",\"hemo\",\"hemo\",\"hemo\",\"hemo\",\"hemo\",\"hemo\",\"hemo\",\"hemo\",\"hemo\",\"hemo\",\"hemo\",\"hemo\",\"hemo\",\"hemo\",\"hemo\",\"hemo\",\"hemo\",\"hemo\",\"hemo\",\"hemo\",\"hemo\",\"hemo\",\"hemo\",\"hemo\",\"hemo\",\"hemo\",\"hemo\",\"hemo\",\"hemo\",\"hemo\",\"hemo\",\"hemo\",\"hemo\",\"hemo\",\"hemo\",\"hemo\",\"hemo\",\"hemo\",\"hemo\",\"hemo\",\"hemo\",\"hemo\",\"hemo\",\"hemo\",\"hemo\",\"hemo\",\"hemo\",\"hemo\",\"hemo\",\"hemo\",\"hemo\",\"hemo\",\"hemo\",\"hemo\",\"hemo\",\"hemo\",\"hemo\",\"hemo\",\"hemo\",\"hemo\",\"hemo\",\"hemo\",\"hemo\",\"hemo\",\"hemo\",\"hemo\",\"hemo\",\"hemo\",\"hemo\",\"hemo\",\"hemo\",\"hemo\",\"hemo\",\"hemo\",\"hemo\",\"hemo\",\"hemo\",\"hemo\",\"hemo\",\"hemo\",\"hemo\",\"hemo\",\"hemo\",\"hemo\",\"hemo\",\"hemo\",\"hemo\",\"hemo\",\"hemo\",\"hemo\",\"hemo\",\"hemo\",\"hemo\",\"hemo\",\"hemo\",\"hemo\",\"hemo\",\"hemo\",\"hemo\",\"hemo\",\"hemo\",\"hemo\",\"hemo\",\"hemo\",\"hemo\",\"hemo\",\"hemo\",\"hemo\",\"hemo\",\"hemo\",\"hemo\",\"hemo\",\"pcv\",\"pcv\",\"pcv\",\"pcv\",\"pcv\",\"pcv\",\"pcv\",\"pcv\",\"pcv\",\"pcv\",\"pcv\",\"pcv\",\"pcv\",\"pcv\",\"pcv\",\"pcv\",\"pcv\",\"pcv\",\"pcv\",\"pcv\",\"pcv\",\"pcv\",\"pcv\",\"pcv\",\"pcv\",\"pcv\",\"pcv\",\"pcv\",\"pcv\",\"pcv\",\"pcv\",\"pcv\",\"pcv\",\"pcv\",\"pcv\",\"pcv\",\"pcv\",\"pcv\",\"pcv\",\"pcv\",\"pcv\",\"pcv\",\"pcv\",\"pcv\",\"pcv\",\"pcv\",\"pcv\",\"pcv\",\"pcv\",\"pcv\",\"pcv\",\"pcv\",\"pcv\",\"pcv\",\"pcv\",\"pcv\",\"pcv\",\"pcv\",\"pcv\",\"pcv\",\"pcv\",\"pcv\",\"pcv\",\"pcv\",\"pcv\",\"pcv\",\"pcv\",\"pcv\",\"pcv\",\"pcv\",\"pcv\",\"pcv\",\"pcv\",\"pcv\",\"pcv\",\"pcv\",\"pcv\",\"pcv\",\"pcv\",\"pcv\",\"pcv\",\"pcv\",\"pcv\",\"pcv\",\"pcv\",\"pcv\",\"pcv\",\"pcv\",\"pcv\",\"pcv\",\"pcv\",\"pcv\",\"pcv\",\"pcv\",\"pcv\",\"pcv\",\"pcv\",\"pcv\",\"pcv\",\"pcv\",\"pcv\",\"pcv\",\"pcv\",\"pcv\",\"pcv\",\"pcv\",\"pcv\",\"pcv\",\"pcv\",\"pcv\",\"pcv\",\"pcv\",\"pcv\",\"pcv\",\"pcv\",\"pcv\",\"pcv\",\"pcv\",\"pcv\",\"pcv\",\"pcv\",\"pcv\",\"pcv\",\"pcv\",\"pcv\",\"pcv\",\"pcv\",\"pcv\",\"pcv\",\"pcv\",\"pcv\",\"pcv\",\"pcv\",\"pcv\",\"pcv\",\"pcv\",\"pcv\",\"pcv\",\"pcv\",\"pcv\",\"pcv\",\"pcv\",\"pcv\",\"pcv\",\"pcv\",\"pcv\",\"pcv\",\"pcv\",\"pcv\",\"pcv\",\"pcv\",\"pcv\",\"pcv\",\"pcv\",\"pcv\",\"pcv\",\"pcv\",\"pcv\",\"pcv\",\"pcv\",\"pcv\",\"pcv\",\"pcv\",\"pcv\",\"pcv\",\"pcv\",\"pcv\",\"pcv\",\"pcv\",\"pcv\",\"pcv\",\"pcv\",\"pcv\",\"pcv\",\"pcv\",\"pcv\",\"pcv\",\"pcv\",\"pcv\",\"pcv\",\"pcv\",\"pcv\",\"pcv\",\"pcv\",\"pcv\",\"pcv\",\"pcv\",\"pcv\",\"pcv\",\"pcv\",\"pcv\",\"pcv\",\"pcv\",\"pcv\",\"pcv\",\"pcv\",\"pcv\",\"pcv\",\"pcv\",\"pcv\",\"pcv\",\"pcv\",\"pcv\",\"pcv\",\"pcv\",\"pcv\",\"pcv\",\"pcv\",\"pcv\",\"pcv\",\"pcv\",\"pcv\",\"pcv\",\"pcv\",\"pcv\",\"pcv\",\"pcv\",\"pcv\",\"pcv\",\"pcv\",\"pcv\",\"pcv\",\"pcv\",\"pcv\",\"pcv\",\"pcv\",\"pcv\",\"pcv\",\"pcv\",\"pcv\",\"pcv\",\"pcv\",\"pcv\",\"pcv\",\"pcv\",\"pcv\",\"pcv\",\"pcv\",\"pcv\",\"pcv\",\"pcv\",\"pcv\",\"pcv\",\"pcv\",\"pcv\",\"pcv\",\"pcv\",\"pcv\",\"pcv\",\"pcv\",\"pcv\",\"pcv\",\"pcv\",\"pcv\",\"pcv\",\"pcv\",\"pcv\",\"pcv\",\"pcv\",\"pcv\",\"pcv\",\"pcv\",\"pcv\",\"pcv\",\"pcv\",\"pcv\",\"pcv\",\"pcv\",\"pcv\",\"pcv\",\"pcv\",\"pcv\",\"pcv\",\"pcv\",\"pcv\",\"pcv\",\"pcv\",\"pcv\",\"pcv\",\"pcv\",\"pcv\",\"pcv\",\"pcv\",\"pcv\",\"pcv\",\"pcv\",\"pcv\",\"pcv\",\"pcv\",\"pcv\",\"pcv\",\"pcv\",\"pcv\",\"pcv\",\"pcv\",\"pcv\",\"pcv\",\"pcv\",\"pcv\",\"pcv\",\"pcv\",\"pcv\",\"pcv\",\"pcv\",\"pcv\",\"pcv\",\"pcv\",\"pcv\",\"pcv\",\"pcv\",\"pcv\",\"pcv\",\"pcv\",\"pcv\",\"pcv\",\"pcv\",\"pcv\",\"pcv\",\"pcv\",\"pcv\",\"pcv\",\"pcv\",\"pcv\",\"pcv\",\"pcv\",\"pcv\",\"pcv\",\"pcv\",\"pcv\",\"pcv\",\"pcv\",\"pcv\",\"pcv\",\"pcv\",\"pcv\",\"pcv\",\"pcv\",\"pcv\",\"pcv\",\"pcv\",\"pcv\",\"pcv\",\"pcv\",\"pcv\",\"pcv\",\"pcv\",\"pcv\",\"pcv\",\"pcv\",\"pcv\",\"pcv\",\"pcv\",\"pcv\",\"pcv\",\"pcv\",\"pcv\",\"pcv\",\"pcv\",\"pcv\",\"pcv\",\"pcv\",\"pcv\",\"pcv\",\"pcv\",\"pcv\",\"pcv\",\"pcv\",\"pcv\",\"pcv\",\"pcv\",\"pcv\",\"pcv\",\"pcv\",\"pcv\",\"pcv\",\"pcv\",\"pcv\",\"pcv\",\"pcv\",\"pcv\",\"pcv\",\"pcv\",\"pcv\",\"pcv\",\"pcv\",\"pcv\",\"pcv\",\"pcv\",\"pcv\",\"pcv\",\"pcv\",\"pcv\",\"pcv\",\"pcv\",\"pcv\",\"pcv\",\"pcv\",\"pcv\",\"pcv\",\"pcv\"],\"x0\":\" \",\"xaxis\":\"x\",\"y\":[0.0,1.0,2.0,3.0,4.0,5.0,6.0,7.0,8.0,9.0,10.0,11.0,12.0,13.0,14.0,15.0,16.0,17.0,18.0,19.0,20.0,21.0,22.0,23.0,24.0,25.0,26.0,27.0,28.0,29.0,30.0,31.0,32.0,33.0,34.0,35.0,36.0,37.0,38.0,39.0,40.0,41.0,42.0,43.0,44.0,45.0,46.0,47.0,48.0,49.0,50.0,51.0,52.0,53.0,54.0,55.0,56.0,57.0,58.0,59.0,60.0,61.0,62.0,63.0,64.0,65.0,66.0,67.0,68.0,69.0,70.0,71.0,72.0,73.0,74.0,75.0,76.0,77.0,78.0,79.0,80.0,81.0,82.0,83.0,84.0,85.0,86.0,87.0,88.0,89.0,90.0,91.0,92.0,93.0,94.0,95.0,96.0,97.0,98.0,99.0,100.0,101.0,102.0,103.0,104.0,105.0,106.0,107.0,108.0,109.0,110.0,111.0,112.0,113.0,114.0,115.0,116.0,117.0,118.0,119.0,120.0,121.0,122.0,123.0,124.0,125.0,126.0,127.0,128.0,129.0,130.0,131.0,132.0,133.0,134.0,135.0,136.0,137.0,138.0,139.0,140.0,141.0,142.0,143.0,144.0,145.0,146.0,147.0,148.0,149.0,150.0,151.0,152.0,153.0,154.0,155.0,156.0,157.0,158.0,159.0,160.0,161.0,162.0,163.0,164.0,165.0,166.0,167.0,168.0,169.0,170.0,171.0,172.0,173.0,174.0,175.0,176.0,177.0,178.0,179.0,180.0,181.0,182.0,183.0,184.0,185.0,186.0,187.0,188.0,189.0,190.0,191.0,192.0,193.0,194.0,195.0,196.0,197.0,198.0,199.0,200.0,201.0,202.0,203.0,204.0,205.0,206.0,207.0,208.0,209.0,210.0,211.0,212.0,213.0,214.0,215.0,216.0,217.0,218.0,219.0,220.0,221.0,222.0,223.0,224.0,225.0,226.0,227.0,228.0,229.0,230.0,231.0,232.0,233.0,234.0,235.0,236.0,237.0,238.0,239.0,240.0,241.0,242.0,243.0,244.0,245.0,246.0,247.0,248.0,249.0,250.0,251.0,252.0,253.0,254.0,255.0,256.0,257.0,258.0,259.0,260.0,261.0,262.0,263.0,264.0,265.0,266.0,267.0,268.0,269.0,270.0,271.0,272.0,273.0,274.0,275.0,276.0,277.0,278.0,279.0,280.0,281.0,282.0,283.0,284.0,285.0,286.0,287.0,288.0,289.0,290.0,291.0,292.0,293.0,294.0,295.0,296.0,297.0,298.0,299.0,300.0,301.0,302.0,303.0,304.0,305.0,306.0,307.0,308.0,309.0,310.0,311.0,312.0,313.0,314.0,315.0,316.0,317.0,318.0,319.0,320.0,321.0,322.0,323.0,324.0,325.0,326.0,327.0,328.0,329.0,330.0,331.0,332.0,333.0,334.0,335.0,336.0,337.0,338.0,339.0,340.0,341.0,342.0,343.0,344.0,345.0,346.0,347.0,348.0,349.0,350.0,351.0,352.0,353.0,354.0,355.0,356.0,357.0,358.0,359.0,360.0,361.0,362.0,363.0,364.0,365.0,366.0,367.0,368.0,369.0,370.0,371.0,372.0,373.0,374.0,375.0,376.0,377.0,378.0,379.0,380.0,381.0,382.0,383.0,384.0,385.0,386.0,387.0,388.0,389.0,390.0,391.0,392.0,393.0,394.0,395.0,396.0,397.0,398.0,399.0,48.0,7.0,62.0,48.0,51.0,60.0,68.0,24.0,52.0,53.0,50.0,63.0,68.0,68.0,68.0,40.0,47.0,47.0,60.0,62.0,61.0,60.0,48.0,21.0,42.0,61.0,75.0,69.0,75.0,68.0,51.48337595907928,73.0,61.0,60.0,70.0,65.0,76.0,72.0,69.0,82.0,46.0,45.0,47.0,35.0,54.0,54.0,48.0,11.0,73.0,60.0,53.0,54.0,53.0,62.0,63.0,35.0,76.0,76.0,73.0,59.0,67.0,67.0,15.0,46.0,55.0,44.0,67.0,45.0,65.0,26.0,61.0,46.0,64.0,51.48337595907928,56.0,5.0,48.0,67.0,70.0,56.0,74.0,45.0,38.0,48.0,59.0,70.0,56.0,70.0,58.0,50.0,63.0,56.0,71.0,73.0,65.0,62.0,60.0,65.0,50.0,56.0,34.0,71.0,17.0,76.0,55.0,65.0,50.0,55.0,45.0,54.0,63.0,65.0,51.48337595907928,61.0,12.0,47.0,51.48337595907928,51.48337595907928,55.0,60.0,72.0,54.0,34.0,43.0,65.0,72.0,70.0,71.0,52.0,75.0,50.0,5.0,50.0,70.0,47.0,48.0,46.0,45.0,73.0,41.0,69.0,67.0,72.0,41.0,60.0,57.0,53.0,60.0,69.0,65.0,8.0,76.0,39.0,55.0,56.0,50.0,66.0,62.0,71.0,59.0,81.0,62.0,59.0,46.0,14.0,60.0,27.0,34.0,65.0,51.48337595907928,66.0,83.0,62.0,17.0,54.0,60.0,21.0,65.0,42.0,72.0,73.0,45.0,61.0,30.0,54.0,4.0,8.0,3.0,8.0,64.0,6.0,51.48337595907928,46.0,32.0,80.0,70.0,49.0,57.0,59.0,65.0,90.0,64.0,78.0,51.48337595907928,65.0,61.0,60.0,50.0,67.0,19.0,59.0,54.0,40.0,55.0,68.0,2.0,64.0,63.0,33.0,68.0,36.0,66.0,74.0,71.0,34.0,60.0,64.0,57.0,60.0,59.0,65.0,60.0,50.0,51.0,37.0,45.0,65.0,80.0,72.0,34.0,65.0,57.0,69.0,62.0,64.0,48.0,48.0,54.0,59.0,56.0,40.0,23.0,45.0,57.0,51.0,34.0,60.0,38.0,42.0,35.0,30.0,49.0,55.0,45.0,42.0,50.0,55.0,48.0,51.48337595907928,25.0,23.0,30.0,56.0,47.0,19.0,52.0,20.0,46.0,48.0,24.0,47.0,55.0,20.0,60.0,33.0,66.0,71.0,39.0,56.0,42.0,54.0,47.0,30.0,50.0,75.0,44.0,41.0,53.0,34.0,73.0,45.0,44.0,29.0,55.0,33.0,41.0,52.0,47.0,43.0,51.0,46.0,56.0,80.0,55.0,39.0,44.0,35.0,58.0,61.0,30.0,57.0,65.0,70.0,43.0,40.0,58.0,47.0,30.0,28.0,33.0,43.0,59.0,34.0,23.0,24.0,60.0,25.0,44.0,62.0,25.0,32.0,63.0,44.0,37.0,64.0,22.0,33.0,43.0,38.0,35.0,65.0,29.0,37.0,39.0,32.0,23.0,34.0,66.0,47.0,74.0,35.0,29.0,33.0,67.0,73.0,24.0,60.0,68.0,30.0,75.0,69.0,28.0,72.0,61.0,79.0,70.0,58.0,64.0,71.0,62.0,59.0,71.0,48.0,80.0,57.0,63.0,46.0,15.0,51.0,41.0,52.0,36.0,57.0,43.0,50.0,55.0,42.0,12.0,17.0,58.0,80.0,50.0,80.0,70.0,80.0,90.0,70.0,76.46907216494846,100.0,90.0,60.0,70.0,70.0,70.0,80.0,80.0,70.0,80.0,100.0,60.0,80.0,90.0,80.0,70.0,100.0,60.0,80.0,70.0,70.0,70.0,70.0,90.0,90.0,100.0,70.0,90.0,70.0,80.0,80.0,80.0,90.0,70.0,100.0,80.0,80.0,80.0,70.0,80.0,70.0,70.0,60.0,100.0,90.0,80.0,80.0,80.0,70.0,90.0,80.0,100.0,90.0,80.0,60.0,70.0,80.0,90.0,70.0,80.0,70.0,70.0,80.0,60.0,90.0,100.0,90.0,76.46907216494846,80.0,70.0,80.0,80.0,80.0,90.0,70.0,70.0,70.0,70.0,80.0,100.0,110.0,70.0,100.0,70.0,70.0,100.0,70.0,90.0,80.0,60.0,140.0,180.0,70.0,90.0,60.0,70.0,90.0,80.0,90.0,100.0,80.0,70.0,90.0,80.0,60.0,90.0,60.0,80.0,70.0,70.0,70.0,70.0,90.0,60.0,70.0,80.0,100.0,90.0,90.0,60.0,90.0,70.0,90.0,50.0,76.46907216494846,100.0,100.0,80.0,90.0,60.0,76.46907216494846,70.0,70.0,70.0,90.0,80.0,90.0,90.0,100.0,60.0,60.0,70.0,60.0,90.0,70.0,90.0,90.0,70.0,90.0,70.0,60.0,80.0,60.0,76.46907216494846,70.0,80.0,76.46907216494846,80.0,60.0,70.0,70.0,70.0,70.0,70.0,80.0,70.0,70.0,50.0,90.0,80.0,90.0,90.0,90.0,70.0,80.0,70.0,60.0,76.46907216494846,50.0,76.46907216494846,76.46907216494846,60.0,60.0,70.0,110.0,90.0,70.0,90.0,100.0,80.0,100.0,80.0,90.0,70.0,60.0,90.0,90.0,70.0,70.0,70.0,80.0,70.0,100.0,120.0,70.0,80.0,80.0,76.46907216494846,70.0,100.0,90.0,90.0,80.0,70.0,60.0,90.0,60.0,90.0,100.0,80.0,70.0,50.0,60.0,90.0,90.0,100.0,100.0,70.0,80.0,70.0,100.0,90.0,70.0,70.0,70.0,90.0,90.0,100.0,110.0,90.0,70.0,90.0,80.0,80.0,80.0,80.0,60.0,80.0,80.0,60.0,80.0,80.0,80.0,80.0,80.0,80.0,80.0,80.0,80.0,80.0,80.0,80.0,80.0,80.0,80.0,80.0,80.0,80.0,60.0,60.0,60.0,70.0,80.0,80.0,70.0,70.0,80.0,70.0,70.0,70.0,70.0,70.0,70.0,80.0,80.0,76.46907216494846,60.0,70.0,70.0,60.0,60.0,60.0,60.0,60.0,70.0,70.0,80.0,80.0,80.0,60.0,80.0,60.0,60.0,60.0,70.0,80.0,70.0,70.0,76.46907216494846,70.0,70.0,60.0,60.0,60.0,60.0,80.0,80.0,80.0,60.0,60.0,70.0,60.0,80.0,70.0,70.0,80.0,80.0,60.0,60.0,70.0,80.0,70.0,70.0,70.0,60.0,60.0,60.0,60.0,60.0,60.0,80.0,70.0,70.0,80.0,60.0,60.0,60.0,60.0,70.0,70.0,60.0,60.0,60.0,80.0,80.0,80.0,80.0,80.0,80.0,60.0,80.0,70.0,70.0,60.0,60.0,70.0,80.0,80.0,70.0,70.0,60.0,80.0,60.0,70.0,80.0,80.0,60.0,70.0,70.0,80.0,80.0,80.0,80.0,80.0,80.0,60.0,80.0,80.0,70.0,80.0,60.0,80.0,1.02,1.02,1.01,1.005,1.01,1.015,1.01,1.015,1.015,1.02,1.01,1.01,1.015,1.0174079320113314,1.01,1.015,1.015,1.0174079320113314,1.025,1.015,1.015,1.0174079320113314,1.025,1.01,1.015,1.025,1.015,1.01,1.0174079320113314,1.005,1.0174079320113314,1.015,1.01,1.02,1.01,1.02,1.015,1.0174079320113314,1.02,1.01,1.01,1.01,1.01,1.01,1.01,1.02,1.015,1.01,1.005,1.01,1.0174079320113314,1.015,1.015,1.015,1.01,1.005,1.015,1.0174079320113314,1.02,1.0174079320113314,1.02,1.01,1.02,1.015,1.01,1.01,1.02,1.02,1.01,1.015,1.015,1.01,1.01,1.015,1.015,1.015,1.005,1.01,1.0174079320113314,1.01,1.01,1.0174079320113314,1.0174079320113314,1.015,1.01,1.015,1.0174079320113314,1.005,1.01,1.02,1.01,1.015,1.01,1.01,1.01,1.015,1.01,1.015,1.0174079320113314,1.0174079320113314,1.015,1.015,1.01,1.015,1.0174079320113314,1.015,1.0174079320113314,1.015,1.015,1.0174079320113314,1.015,1.01,1.015,1.015,1.015,1.01,1.015,1.02,1.01,1.01,1.025,1.0174079320113314,1.0174079320113314,1.015,1.015,1.0174079320113314,1.015,1.015,1.015,1.025,1.01,1.01,1.0174079320113314,1.015,1.01,1.015,1.02,1.01,1.01,1.015,1.01,1.01,1.0174079320113314,1.015,1.01,1.015,1.01,1.01,1.0174079320113314,1.02,1.025,1.0174079320113314,1.01,1.01,1.005,1.02,1.015,1.025,1.02,1.01,1.0174079320113314,1.015,1.0174079320113314,1.01,1.015,1.02,1.0174079320113314,1.02,1.015,1.01,1.015,1.02,1.01,1.015,1.0174079320113314,1.01,1.01,1.015,1.02,1.01,1.01,1.025,1.02,1.015,1.015,1.02,1.02,1.01,1.0174079320113314,1.01,1.01,1.01,1.015,1.025,1.01,1.02,1.01,1.0174079320113314,1.02,1.015,1.025,1.0174079320113314,1.0174079320113314,1.0174079320113314,1.01,1.0174079320113314,1.01,1.01,1.0174079320113314,1.02,1.015,1.015,1.015,1.01,1.015,1.01,1.01,1.01,1.015,1.01,1.01,1.02,1.0174079320113314,1.01,1.02,1.01,1.015,1.015,1.0174079320113314,1.01,1.01,1.0174079320113314,1.015,1.015,1.01,1.01,1.0174079320113314,1.015,1.0174079320113314,1.015,1.015,1.015,1.01,1.02,1.015,1.0174079320113314,1.015,1.025,1.01,1.01,1.025,1.025,1.025,1.025,1.025,1.025,1.025,1.02,1.02,1.02,1.02,1.02,1.02,1.02,1.02,1.02,1.02,1.025,1.0174079320113314,1.025,1.025,1.025,1.025,1.02,1.02,1.02,1.025,1.025,1.02,1.025,1.0174079320113314,1.025,1.02,1.02,1.025,1.02,1.02,1.025,1.025,1.02,1.02,1.025,1.02,1.02,1.02,1.0174079320113314,1.02,1.025,1.02,1.02,1.02,1.025,1.02,1.02,1.025,1.02,1.02,1.02,1.025,1.02,1.02,1.025,1.02,1.02,1.025,1.025,1.02,1.02,1.025,1.02,1.02,1.02,1.0174079320113314,1.025,1.02,1.02,1.02,1.025,1.02,1.025,1.02,1.025,1.025,1.02,1.025,1.02,1.02,1.025,1.02,1.02,1.025,1.025,1.02,1.025,1.02,1.025,1.0174079320113314,1.025,1.02,1.025,1.025,1.02,1.02,1.02,1.025,1.02,1.025,1.025,1.02,1.02,1.025,1.02,1.025,1.025,1.025,1.02,1.025,1.025,1.025,1.02,1.02,1.025,1.02,1.025,1.025,1.02,1.025,1.02,1.025,1.025,1.02,1.025,1.025,1.025,1.02,1.02,1.025,1.025,1.02,1.025,1.025,1.025,1.02,1.025,1.02,1.02,1.025,1.02,1.025,1.025,1.0,4.0,2.0,4.0,2.0,3.0,0.0,2.0,3.0,2.0,2.0,3.0,3.0,1.0169491525423728,3.0,3.0,2.0,1.0169491525423728,0.0,1.0,2.0,1.0169491525423728,4.0,0.0,4.0,0.0,0.0,3.0,1.0,1.0,1.0169491525423728,3.0,1.0,2.0,1.0,2.0,1.0,1.0169491525423728,3.0,2.0,2.0,0.0,0.0,1.0,3.0,3.0,0.0,3.0,0.0,2.0,1.0169491525423728,3.0,0.0,0.0,2.0,3.0,3.0,1.0169491525423728,2.0,1.0169491525423728,1.0,1.0,3.0,1.0,0.0,1.0,2.0,3.0,2.0,0.0,0.0,1.0,3.0,2.0,2.0,1.0,4.0,1.0,1.0169491525423728,1.0,0.0,1.0169491525423728,1.0169491525423728,1.0,3.0,2.0,1.0169491525423728,1.0,4.0,0.0,2.0,4.0,3.0,3.0,0.0,1.0,1.0,1.0,1.0169491525423728,0.0,4.0,2.0,0.0,2.0,1.0169491525423728,0.0,1.0169491525423728,1.0,0.0,1.0169491525423728,0.0,3.0,3.0,0.0,3.0,0.0,4.0,0.0,3.0,0.0,1.0,3.0,1.0169491525423728,2.0,0.0,1.0169491525423728,0.0,4.0,4.0,1.0,2.0,0.0,1.0169491525423728,4.0,1.0169491525423728,0.0,1.0169491525423728,2.0,1.0,2.0,0.0,1.0,1.0169491525423728,1.0,2.0,5.0,1.0,3.0,1.0169491525423728,1.0,3.0,1.0169491525423728,0.0,2.0,4.0,3.0,2.0,3.0,3.0,1.0,1.0169491525423728,3.0,1.0169491525423728,0.0,0.0,0.0,1.0169491525423728,0.0,4.0,0.0,2.0,3.0,1.0,1.0,1.0169491525423728,0.0,4.0,2.0,2.0,2.0,1.0,2.0,0.0,0.0,3.0,1.0,4.0,2.0,1.0169491525423728,4.0,4.0,3.0,0.0,1.0,2.0,2.0,3.0,1.0169491525423728,4.0,0.0,1.0,1.0169491525423728,1.0169491525423728,1.0169491525423728,4.0,1.0169491525423728,1.0,0.0,1.0169491525423728,0.0,4.0,0.0,3.0,3.0,0.0,3.0,0.0,1.0,0.0,0.0,0.0,1.0,1.0169491525423728,0.0,0.0,3.0,4.0,0.0,1.0169491525423728,3.0,2.0,1.0169491525423728,1.0,2.0,0.0,2.0,1.0169491525423728,2.0,1.0169491525423728,2.0,1.0,1.0,4.0,2.0,3.0,1.0169491525423728,3.0,1.0,1.0,4.0,0.0,0.0,0.0,0.0,0.0,0.0,0.0,0.0,0.0,0.0,0.0,0.0,0.0,0.0,0.0,0.0,0.0,0.0,1.0169491525423728,0.0,0.0,0.0,0.0,0.0,0.0,0.0,0.0,0.0,0.0,0.0,1.0169491525423728,0.0,0.0,0.0,0.0,0.0,0.0,0.0,0.0,0.0,0.0,0.0,0.0,0.0,0.0,1.0169491525423728,0.0,0.0,0.0,0.0,0.0,0.0,0.0,0.0,0.0,0.0,0.0,0.0,0.0,0.0,0.0,0.0,0.0,0.0,0.0,0.0,0.0,0.0,0.0,0.0,0.0,0.0,1.0169491525423728,0.0,0.0,0.0,0.0,0.0,0.0,0.0,0.0,0.0,0.0,0.0,0.0,0.0,0.0,0.0,0.0,0.0,0.0,0.0,0.0,0.0,0.0,0.0,1.0169491525423728,0.0,0.0,0.0,0.0,0.0,0.0,0.0,0.0,0.0,0.0,0.0,0.0,0.0,0.0,0.0,0.0,0.0,0.0,0.0,0.0,0.0,0.0,0.0,0.0,0.0,0.0,0.0,0.0,0.0,0.0,0.0,0.0,0.0,0.0,0.0,0.0,0.0,0.0,0.0,0.0,0.0,0.0,0.0,0.0,0.0,0.0,0.0,0.0,0.0,0.0,0.0,0.0,0.0,0.0,0.0,3.0,0.0,0.0,0.0,0.0,4.0,0.0,0.0,4.0,0.0,1.0,0.45014245014245013,2.0,0.0,0.0,0.45014245014245013,3.0,0.0,0.0,0.45014245014245013,0.0,0.0,0.0,0.0,0.0,4.0,3.0,0.0,0.45014245014245013,0.0,1.0,0.0,0.0,1.0,0.0,0.45014245014245013,0.0,2.0,0.0,0.0,0.0,0.0,0.0,0.0,0.0,0.0,0.0,0.0,0.45014245014245013,0.0,0.0,5.0,2.0,0.0,4.0,0.45014245014245013,0.0,0.45014245014245013,0.0,3.0,0.0,0.0,0.0,0.0,0.0,0.0,0.0,4.0,4.0,0.0,3.0,0.0,0.0,0.0,0.0,0.0,0.45014245014245013,0.0,0.0,0.45014245014245013,0.45014245014245013,0.0,0.0,0.45014245014245013,0.45014245014245013,0.0,0.0,0.0,2.0,1.0,0.0,2.0,0.0,0.0,1.0,0.0,0.45014245014245013,4.0,0.0,0.0,0.0,0.0,0.45014245014245013,0.0,0.45014245014245013,4.0,0.0,0.45014245014245013,0.0,3.0,0.0,2.0,0.0,0.0,0.0,0.0,0.0,0.0,3.0,0.45014245014245013,0.45014245014245013,3.0,0.0,0.45014245014245013,0.0,0.0,3.0,0.0,0.0,0.0,0.45014245014245013,0.0,0.45014245014245013,2.0,0.45014245014245013,0.0,0.0,0.0,4.0,0.0,0.45014245014245013,4.0,0.0,0.0,3.0,1.0,0.45014245014245013,0.0,0.0,0.45014245014245013,0.0,1.0,3.0,0.0,0.0,0.0,2.0,0.0,0.45014245014245013,0.0,0.45014245014245013,0.0,0.0,2.0,0.45014245014245013,0.0,4.0,2.0,5.0,0.0,2.0,0.0,0.45014245014245013,0.0,0.0,1.0,0.0,0.0,4.0,0.0,0.0,0.0,2.0,0.0,0.0,0.0,0.45014245014245013,1.0,0.0,0.0,0.0,0.0,0.45014245014245013,1.0,0.0,0.45014245014245013,2.0,0.0,0.0,0.45014245014245013,0.45014245014245013,0.45014245014245013,2.0,0.45014245014245013,0.0,0.0,0.45014245014245013,0.0,2.0,0.0,4.0,1.0,0.0,0.0,0.0,0.0,0.0,0.0,0.0,0.0,0.45014245014245013,3.0,0.0,5.0,2.0,0.0,0.45014245014245013,0.0,0.0,0.45014245014245013,0.0,0.0,0.0,0.0,0.45014245014245013,2.0,0.45014245014245013,0.0,0.0,0.0,3.0,1.0,2.0,0.45014245014245013,0.0,0.0,3.0,1.0,0.0,0.0,0.0,0.0,0.0,0.0,0.0,0.0,0.0,0.0,0.0,0.0,0.0,0.0,0.0,0.0,0.0,0.0,0.45014245014245013,0.0,0.0,0.0,0.0,0.0,0.0,0.0,0.0,0.0,0.0,0.0,0.45014245014245013,0.0,0.0,0.0,0.0,0.0,0.0,0.0,0.0,0.0,0.0,0.0,0.0,0.0,0.0,0.45014245014245013,0.0,0.0,0.0,0.0,0.0,0.0,0.0,0.0,0.0,0.0,0.0,0.0,0.0,0.0,0.0,0.0,0.0,0.0,0.0,0.0,0.0,0.0,0.0,0.0,0.0,0.0,0.45014245014245013,0.0,0.0,0.0,0.0,0.0,0.0,0.0,0.0,0.0,0.0,0.0,0.0,0.0,0.0,0.0,0.0,0.0,0.0,0.0,0.0,0.0,0.0,0.0,0.45014245014245013,0.0,0.0,0.0,0.0,0.0,0.0,0.0,0.0,0.0,0.0,0.0,0.0,0.0,0.0,0.0,0.0,0.0,0.0,0.0,0.0,0.0,0.0,0.0,0.0,0.0,0.0,0.0,0.0,0.0,0.0,0.0,0.0,0.0,0.0,0.0,0.0,0.0,0.0,0.0,0.0,0.0,0.0,0.0,0.0,0.0,0.0,0.0,0.0,0.0,0.0,0.0,0.0,0.0,121.0,148.0365168539326,423.0,117.0,106.0,74.0,100.0,410.0,138.0,70.0,490.0,380.0,208.0,98.0,157.0,76.0,99.0,114.0,263.0,100.0,173.0,148.0365168539326,95.0,148.0365168539326,148.0365168539326,108.0,156.0,264.0,123.0,148.0365168539326,93.0,107.0,159.0,140.0,171.0,270.0,92.0,137.0,148.0365168539326,140.0,99.0,148.0365168539326,204.0,79.0,207.0,208.0,124.0,148.0365168539326,70.0,144.0,91.0,162.0,148.0365168539326,246.0,148.0365168539326,148.0365168539326,148.0365168539326,93.0,253.0,148.0365168539326,141.0,182.0,86.0,150.0,146.0,148.0365168539326,150.0,425.0,112.0,250.0,360.0,163.0,148.0365168539326,129.0,129.0,148.0365168539326,133.0,102.0,158.0,165.0,132.0,360.0,104.0,127.0,76.0,148.0365168539326,415.0,169.0,251.0,109.0,280.0,210.0,219.0,295.0,93.0,94.0,172.0,91.0,101.0,298.0,153.0,88.0,92.0,226.0,143.0,115.0,89.0,297.0,107.0,233.0,123.0,294.0,148.0365168539326,148.0365168539326,148.0365168539326,148.0365168539326,104.0,219.0,99.0,140.0,323.0,125.0,148.0365168539326,148.0365168539326,90.0,308.0,144.0,118.0,224.0,158.0,128.0,148.0365168539326,219.0,118.0,122.0,214.0,213.0,268.0,95.0,148.0365168539326,256.0,148.0365168539326,84.0,210.0,105.0,148.0365168539326,213.0,288.0,171.0,139.0,78.0,172.0,121.0,273.0,242.0,123.0,153.0,122.0,424.0,303.0,148.0,148.0365168539326,204.0,160.0,192.0,148.0365168539326,76.0,139.0,307.0,220.0,447.0,102.0,309.0,22.0,111.0,261.0,107.0,215.0,93.0,124.0,234.0,117.0,131.0,101.0,352.0,99.0,148.0365168539326,148.0365168539326,80.0,239.0,94.0,110.0,130.0,148.0365168539326,148.0365168539326,184.0,129.0,148.0365168539326,252.0,92.0,139.0,113.0,114.0,207.0,172.0,100.0,109.0,230.0,341.0,148.0365168539326,255.0,103.0,253.0,214.0,171.0,148.0365168539326,107.0,78.0,92.0,238.0,103.0,248.0,108.0,303.0,117.0,490.0,163.0,120.0,124.0,241.0,192.0,269.0,148.0365168539326,93.0,148.0365168539326,113.0,74.0,141.0,201.0,104.0,203.0,165.0,214.0,169.0,463.0,103.0,106.0,150.0,424.0,176.0,140.0,70.0,82.0,119.0,99.0,121.0,131.0,91.0,98.0,104.0,131.0,122.0,118.0,117.0,132.0,97.0,133.0,122.0,100.0,121.0,111.0,96.0,139.0,95.0,107.0,125.0,148.0365168539326,123.0,112.0,140.0,93.0,130.0,123.0,148.0365168539326,100.0,94.0,81.0,124.0,70.0,93.0,76.0,124.0,89.0,92.0,110.0,106.0,125.0,116.0,91.0,127.0,114.0,96.0,127.0,107.0,128.0,122.0,128.0,137.0,81.0,129.0,102.0,132.0,148.0365168539326,104.0,131.0,148.0365168539326,99.0,102.0,120.0,138.0,105.0,109.0,120.0,130.0,119.0,100.0,109.0,120.0,131.0,80.0,114.0,130.0,148.0365168539326,99.0,125.0,134.0,119.0,92.0,132.0,88.0,100.0,130.0,95.0,111.0,106.0,97.0,130.0,108.0,99.0,82.0,85.0,83.0,109.0,86.0,102.0,95.0,87.0,107.0,117.0,88.0,105.0,70.0,89.0,99.0,118.0,93.0,81.0,125.0,82.0,107.0,83.0,79.0,109.0,133.0,111.0,74.0,88.0,97.0,148.0365168539326,78.0,113.0,79.0,75.0,119.0,132.0,113.0,100.0,93.0,94.0,112.0,99.0,85.0,133.0,117.0,137.0,140.0,75.0,100.0,114.0,131.0,36.0,18.0,53.0,56.0,26.0,25.0,54.0,31.0,60.0,107.0,55.0,60.0,72.0,86.0,90.0,162.0,46.0,87.0,27.0,31.0,148.0,180.0,163.0,57.425721784776904,50.0,75.0,45.0,87.0,31.0,28.0,155.0,33.0,39.0,55.0,153.0,39.0,29.0,65.0,103.0,70.0,80.0,20.0,29.0,202.0,77.0,89.0,24.0,17.0,32.0,72.0,114.0,66.0,38.0,24.0,57.425721784776904,57.425721784776904,164.0,155.0,142.0,96.0,66.0,391.0,15.0,111.0,57.425721784776904,20.0,55.0,57.425721784776904,73.0,20.0,19.0,92.0,35.0,107.0,107.0,16.0,139.0,48.0,85.0,55.0,98.0,45.0,77.0,19.0,186.0,46.0,37.0,47.0,52.0,32.0,35.0,26.0,82.0,90.0,66.0,25.0,32.0,51.0,106.0,24.0,22.0,80.0,32.0,217.0,88.0,32.0,118.0,53.0,15.0,50.1,19.0,71.0,34.0,57.425721784776904,51.0,28.0,16.0,36.0,25.0,27.0,40.0,21.0,219.0,30.0,98.0,36.0,125.0,125.0,166.0,49.0,208.0,25.0,176.0,125.0,57.425721784776904,24.0,68.0,86.0,51.0,68.0,40.0,106.0,145.0,165.0,53.0,322.0,23.0,36.0,26.0,29.0,27.0,46.0,20.0,235.0,132.0,40.0,76.0,42.0,48.0,35.0,39.0,57.425721784776904,34.0,40.0,15.0,57.425721784776904,44.0,19.0,28.0,68.0,41.0,60.0,113.0,1.5,146.0,58.0,40.0,133.0,153.0,53.0,56.0,52.0,23.0,106.0,137.0,23.0,46.0,22.0,66.0,58.0,67.0,115.0,16.0,223.0,49.0,98.6,158.0,111.0,40.0,37.0,89.0,94.0,74.0,80.0,82.0,28.0,96.0,50.0,37.0,57.425721784776904,132.0,18.0,150.0,73.0,30.0,57.425721784776904,15.0,61.0,19.0,57.0,57.425721784776904,30.0,68.0,30.0,28.0,95.0,54.0,48.0,52.0,191.0,17.0,51.0,57.425721784776904,20.0,19.0,93.0,66.0,53.0,241.0,50.0,46.0,45.0,96.0,48.0,64.0,79.0,215.0,18.0,55.0,309.0,10.0,36.0,49.0,17.0,38.0,27.0,10.0,36.0,20.0,31.0,38.0,32.0,18.0,46.0,24.0,40.0,17.0,33.0,49.0,19.0,34.0,25.0,15.0,35.0,23.0,22.0,57.425721784776904,46.0,44.0,23.0,33.0,50.0,44.0,57.425721784776904,37.0,19.0,18.0,22.0,46.0,32.0,28.0,44.0,42.0,19.0,50.0,25.0,38.0,26.0,49.0,48.0,26.0,33.0,44.0,26.0,38.0,25.0,30.0,17.0,46.0,25.0,27.0,18.0,57.425721784776904,28.0,46.0,57.425721784776904,30.0,48.0,29.0,15.0,49.0,39.0,40.0,30.0,15.0,50.0,25.0,31.0,29.0,25.0,32.0,39.0,33.0,46.0,57.425721784776904,45.0,27.0,40.0,34.0,42.0,29.0,37.0,46.0,35.0,27.0,18.0,41.0,25.0,19.0,36.0,20.0,49.0,47.0,37.0,17.0,24.0,38.0,16.0,22.0,50.0,39.0,16.0,19.0,40.0,44.0,46.0,15.0,41.0,42.0,48.0,42.0,50.0,26.0,38.0,44.0,41.0,16.0,27.0,57.425721784776904,45.0,23.0,47.0,22.0,46.0,18.0,25.0,47.0,17.0,15.0,48.0,25.0,16.0,48.0,45.0,46.0,49.0,31.0,26.0,50.0,18.0,1.2,0.8,1.8,3.8,1.4,1.1,24.0,1.1,1.9,7.2,4.0,2.7,2.1,4.6,4.1,9.6,2.2,5.2,1.3,1.6,3.9,76.0,7.7,3.072454308093995,1.4,1.9,2.4,2.7,1.4,1.4,7.3,1.5,1.5,2.5,5.2,2.0,1.8,3.4,4.1,3.4,2.1,0.7,1.0,10.8,6.3,5.9,1.2,0.8,0.9,3.0,3.25,1.6,2.2,1.0,3.4,3.072454308093995,9.7,7.3,4.6,6.4,3.2,32.0,0.6,6.1,3.072454308093995,1.1,1.6,3.072454308093995,3.3,1.1,0.7,3.3,1.3,6.7,6.7,0.7,8.5,3.2,3.2,1.8,2.8,2.4,1.9,1.0,15.0,1.5,1.9,2.9,2.2,1.4,3.2,1.7,3.6,5.6,1.6,1.1,2.7,2.2,6.5,1.2,0.9,4.4,2.1,10.2,2.0,11.5,6.1,2.8,1.0,1.9,2.0,4.4,1.2,3.072454308093995,1.8,0.9,0.5,1.3,1.2,1.2,2.2,1.3,12.2,1.1,2.5,2.5,4.0,5.3,5.6,1.4,9.2,0.6,13.8,5.3,16.9,1.3,2.8,4.0,1.6,2.8,1.2,6.0,7.1,18.0,2.3,13.0,1.0,1.7,48.1,1.0,0.9,1.7,0.8,14.2,16.4,1.8,3.3,1.7,1.5,1.3,2.1,3.072454308093995,1.5,2.0,0.8,3.072454308093995,3.9,0.9,1.5,2.8,1.7,2.6,2.9,7.3,7.5,2.2,1.7,2.5,2.7,2.3,1.9,2.2,0.8,6.5,3.3,0.6,1.0,0.7,2.5,4.3,1.0,6.0,0.9,18.1,1.2,3.3,11.8,9.3,3.2,1.5,3.0,7.3,2.9,6.8,13.5,2.1,3.9,2.2,1.5,3.072454308093995,12.8,1.2,11.9,3.9,1.0,3.072454308093995,3.072454308093995,1.8,0.8,2.5,3.072454308093995,1.7,1.8,1.3,2.2,2.7,7.2,1.6,2.5,12.0,1.7,2.8,3.072454308093995,1.6,1.3,2.3,2.0,2.2,13.4,1.6,1.4,1.5,6.3,2.4,2.8,5.3,15.2,1.2,1.7,13.3,1.2,1.0,0.6,1.2,0.8,1.2,0.5,0.7,0.5,1.2,1.0,1.2,0.9,1.2,0.7,0.6,1.2,0.9,1.0,1.2,1.1,0.5,1.2,0.9,0.7,1.2,3.072454308093995,1.0,1.2,0.6,0.9,1.2,1.0,3.072454308093995,1.2,0.7,0.8,0.6,1.2,0.9,0.6,1.0,0.5,1.2,0.7,0.9,0.6,1.0,1.2,0.5,0.7,0.9,1.2,1.1,0.6,0.8,1.2,0.5,0.6,1.2,0.7,1.1,3.072454308093995,0.9,0.6,3.072454308093995,0.5,1.2,0.7,1.1,1.2,1.0,0.5,1.1,0.7,1.2,1.1,0.8,0.6,0.9,1.1,0.7,1.0,1.2,3.072454308093995,0.5,0.5,0.9,0.8,0.5,1.1,0.9,0.5,0.8,0.7,1.2,0.9,1.0,0.5,1.1,1.0,0.9,1.1,0.6,0.4,0.8,0.5,1.1,1.2,0.6,0.5,0.7,1.1,0.5,0.7,1.0,0.5,1.1,0.7,0.8,1.2,0.5,0.9,1.0,1.2,0.5,1.1,0.7,0.9,0.6,1.1,0.5,0.8,0.7,1.1,0.6,0.5,0.9,1.2,0.7,0.8,1.1,1.2,0.7,0.8,0.5,1.2,0.6,1.0,1.1,137.52875399361022,137.52875399361022,137.52875399361022,111.0,137.52875399361022,142.0,104.0,137.52875399361022,137.52875399361022,114.0,137.52875399361022,131.0,138.0,135.0,130.0,141.0,138.0,139.0,135.0,137.52875399361022,135.0,4.5,136.0,137.52875399361022,129.0,141.0,140.0,130.0,137.52875399361022,137.52875399361022,132.0,141.0,133.0,137.52875399361022,137.52875399361022,137.52875399361022,133.0,141.0,132.0,136.0,137.52875399361022,137.52875399361022,139.0,134.0,134.0,130.0,142.0,137.52875399361022,125.0,137.52875399361022,142.0,136.0,137.52875399361022,137.52875399361022,136.0,137.52875399361022,131.0,132.0,138.0,137.52875399361022,138.0,163.0,138.0,131.0,137.52875399361022,137.52875399361022,131.0,137.52875399361022,137.52875399361022,137.52875399361022,137.0,141.0,137.52875399361022,132.0,131.0,138.0,132.0,137.0,141.0,137.52875399361022,133.0,128.0,140.0,134.0,135.0,137.52875399361022,137.52875399361022,137.52875399361022,137.52875399361022,139.0,143.0,136.0,133.0,140.0,137.0,131.0,137.52875399361022,132.0,135.0,139.0,133.0,139.0,141.0,137.52875399361022,137.52875399361022,139.0,127.0,139.0,141.0,137.52875399361022,142.0,128.0,137.52875399361022,137.52875399361022,137.52875399361022,137.52875399361022,137.52875399361022,139.0,137.52875399361022,137.52875399361022,137.0,137.0,130.0,137.52875399361022,137.52875399361022,131.0,136.0,136.0,133.0,135.0,134.0,137.52875399361022,136.0,136.0,138.0,140.0,146.0,134.0,142.0,132.0,142.0,137.0,135.0,135.0,136.0,126.0,139.0,130.0,137.52875399361022,137.52875399361022,137.52875399361022,141.0,133.0,132.0,140.0,137.52875399361022,137.52875399361022,136.0,132.0,122.0,147.0,137.52875399361022,124.0,140.0,137.0,137.52875399361022,127.0,137.52875399361022,137.52875399361022,137.52875399361022,131.0,115.0,130.0,145.0,141.0,113.0,125.0,137.52875399361022,139.0,137.52875399361022,137.52875399361022,136.0,140.0,135.0,133.0,138.0,135.0,137.52875399361022,142.0,137.0,135.0,134.0,137.52875399361022,113.0,137.52875399361022,138.0,122.0,124.0,137.0,140.0,140.0,137.0,135.0,142.0,145.0,137.52875399361022,135.0,137.52875399361022,137.52875399361022,137.52875399361022,135.0,137.52875399361022,132.0,137.0,137.52875399361022,137.52875399361022,137.52875399361022,141.0,137.52875399361022,137.52875399361022,137.52875399361022,138.0,137.52875399361022,136.0,138.0,131.0,140.0,137.52875399361022,137.52875399361022,114.0,130.0,138.0,137.52875399361022,146.0,137.52875399361022,137.52875399361022,136.0,137.52875399361022,127.0,137.0,137.52875399361022,140.0,120.0,138.0,135.0,135.0,120.0,140.0,138.0,124.0,135.0,150.0,147.0,135.0,135.0,144.0,146.0,135.0,140.0,135.0,147.0,139.0,135.0,137.0,140.0,150.0,135.0,146.0,140.0,142.0,145.0,144.0,135.0,140.0,141.0,139.0,137.0,135.0,142.0,140.0,144.0,147.0,135.0,137.52875399361022,142.0,135.0,145.0,137.0,135.0,143.0,146.0,140.0,139.0,150.0,135.0,150.0,140.0,146.0,135.0,150.0,141.0,147.0,145.0,137.52875399361022,135.0,138.0,140.0,150.0,135.0,139.0,142.0,147.0,135.0,142.0,145.0,137.52875399361022,135.0,139.0,137.0,135.0,150.0,144.0,140.0,143.0,150.0,140.0,141.0,150.0,145.0,146.0,135.0,147.0,150.0,142.0,136.0,139.0,137.52875399361022,141.0,147.0,136.0,142.0,150.0,138.0,135.0,150.0,138.0,141.0,144.0,147.0,150.0,142.0,139.0,141.0,150.0,147.0,145.0,144.0,140.0,138.0,147.0,135.0,138.0,144.0,137.52875399361022,137.0,145.0,141.0,139.0,146.0,144.0,139.0,145.0,150.0,142.0,146.0,143.0,147.0,145.0,140.0,138.0,139.0,142.0,137.0,141.0,150.0,146.0,142.0,136.0,144.0,140.0,135.0,142.0,147.0,141.0,139.0,150.0,141.0,137.0,135.0,141.0,4.62724358974359,4.62724358974359,4.62724358974359,2.5,4.62724358974359,3.2,4.0,4.62724358974359,4.62724358974359,3.7,4.62724358974359,4.2,5.8,3.4,6.4,4.9,4.1,3.7,4.3,4.62724358974359,5.2,4.62724358974359,3.8,4.62724358974359,4.0,5.2,3.4,4.0,4.62724358974359,4.62724358974359,4.9,4.6,4.9,4.62724358974359,4.62724358974359,4.62724358974359,3.9,4.7,5.9,4.2,4.62724358974359,4.62724358974359,4.2,3.4,4.8,4.9,4.2,4.62724358974359,4.0,4.62724358974359,4.3,4.4,4.62724358974359,4.62724358974359,4.2,4.62724358974359,4.4,4.9,5.8,4.62724358974359,6.6,39.0,4.0,3.7,4.62724358974359,4.62724358974359,4.8,4.62724358974359,4.62724358974359,4.62724358974359,4.4,4.0,4.62724358974359,4.4,4.8,3.2,5.5,5.0,3.5,4.62724358974359,5.0,4.4,3.9,3.6,7.6,4.62724358974359,4.62724358974359,4.62724358974359,4.62724358974359,4.7,3.5,3.8,4.4,2.9,4.5,3.7,4.62724358974359,3.8,4.3,3.9,3.8,5.7,4.2,4.62724358974359,4.62724358974359,4.0,4.4,4.5,4.2,4.62724358974359,3.8,5.4,4.62724358974359,4.62724358974359,4.62724358974359,4.62724358974359,4.62724358974359,3.7,4.62724358974359,4.62724358974359,5.3,3.4,3.8,4.62724358974359,4.62724358974359,4.3,4.6,4.9,47.0,4.7,4.8,4.62724358974359,4.5,4.9,5.2,4.0,6.3,5.1,3.5,4.1,5.6,4.9,5.3,4.7,5.2,4.8,4.0,3.0,4.62724358974359,4.62724358974359,4.62724358974359,5.5,3.5,3.4,4.2,4.62724358974359,4.62724358974359,4.7,4.0,3.5,4.2,4.62724358974359,4.1,4.1,4.2,4.62724358974359,4.3,4.62724358974359,4.62724358974359,4.62724358974359,3.9,5.7,2.5,2.8,4.7,3.0,3.5,4.62724358974359,4.3,4.62724358974359,4.62724358974359,3.8,4.1,4.3,4.5,4.4,3.8,4.62724358974359,3.6,5.4,4.9,2.7,4.62724358974359,6.5,4.62724358974359,3.9,3.2,5.3,4.7,5.2,4.1,4.3,5.9,5.5,6.3,4.62724358974359,4.0,4.62724358974359,4.62724358974359,4.62724358974359,5.7,4.62724358974359,5.6,4.9,4.62724358974359,4.62724358974359,4.62724358974359,4.4,4.62724358974359,4.62724358974359,4.62724358974359,5.3,4.62724358974359,4.1,3.8,3.8,4.6,4.62724358974359,4.62724358974359,2.9,4.3,3.7,4.62724358974359,4.5,4.62724358974359,4.62724358974359,5.4,4.62724358974359,4.8,4.1,4.62724358974359,3.3,3.9,2.9,4.1,6.3,5.7,4.2,4.5,6.5,5.0,4.6,4.4,4.7,3.7,3.9,5.0,3.7,3.5,5.0,3.8,3.9,3.6,5.0,4.1,4.5,4.8,3.9,5.0,4.9,4.0,4.8,5.0,4.1,4.2,4.6,4.7,5.0,4.9,4.7,4.5,5.0,3.8,4.62724358974359,4.0,3.9,5.0,3.8,4.9,4.7,3.5,4.9,5.0,4.8,5.0,3.6,5.0,4.9,4.5,3.5,4.2,4.5,5.0,4.62724358974359,3.9,5.0,4.5,3.5,4.9,5.0,4.9,4.7,4.1,4.8,5.0,4.62724358974359,4.9,4.3,3.5,4.4,4.7,3.5,4.6,5.0,4.9,3.5,4.7,4.6,4.9,3.5,3.9,4.7,5.0,4.0,3.5,4.8,4.62724358974359,4.9,3.5,3.5,4.5,5.0,4.2,4.1,3.3,4.3,4.4,5.0,3.5,3.5,4.8,3.3,4.9,5.0,4.7,5.0,4.8,3.6,3.5,3.7,3.9,3.5,5.0,4.62724358974359,3.5,3.5,3.6,3.8,5.0,3.5,3.7,5.0,4.9,3.6,3.6,4.5,3.5,4.8,4.8,3.5,3.5,4.8,5.0,4.9,4.7,4.9,3.5,3.9,3.7,5.0,3.7,4.1,4.3,4.4,5.0,4.9,3.5,4.4,4.9,3.5,15.4,11.3,9.6,11.2,11.6,12.2,12.4,12.4,10.8,9.5,9.4,10.8,9.7,9.8,5.6,7.6,12.6,12.1,12.7,10.3,7.7,10.9,9.8,12.526436781609195,11.1,9.9,11.6,12.5,12.526436781609195,12.9,12.526436781609195,10.1,11.3,10.1,12.526436781609195,12.0,10.3,9.7,12.5,13.0,11.1,12.526436781609195,9.7,7.9,9.7,9.3,12.4,15.0,10.0,9.7,8.6,10.3,10.9,13.6,13.0,9.5,10.2,12.526436781609195,10.5,6.6,12.526436781609195,12.526436781609195,11.0,7.5,9.8,15.0,12.526436781609195,12.526436781609195,10.9,15.6,15.2,9.8,10.3,4.8,9.1,8.1,10.3,11.9,10.1,13.5,10.8,8.3,12.526436781609195,12.526436781609195,7.1,9.9,12.526436781609195,11.1,12.526436781609195,12.526436781609195,13.0,16.1,10.4,9.2,11.6,12.526436781609195,11.2,10.0,6.2,11.2,12.526436781609195,11.3,13.9,10.2,12.526436781609195,14.1,6.0,11.2,11.8,11.7,11.7,10.0,10.8,12.526436781609195,12.1,12.4,12.526436781609195,12.5,11.4,12.526436781609195,12.6,15.0,6.0,14.0,9.1,12.526436781609195,12.0,11.4,8.1,11.1,8.2,11.8,8.6,12.0,10.8,13.2,9.3,10.0,12.526436781609195,11.1,12.526436781609195,6.1,12.526436781609195,12.526436781609195,11.1,8.0,12.526436781609195,7.9,12.526436781609195,10.5,12.3,9.6,10.9,8.3,8.4,11.1,12.526436781609195,12.6,10.9,10.4,10.9,14.3,9.8,9.0,14.3,12.526436781609195,12.526436781609195,12.7,11.0,8.7,12.5,8.7,10.6,13.1,11.0,12.526436781609195,8.3,13.2,9.8,11.9,10.3,10.0,11.3,12.526436781609195,11.3,12.0,12.526436781609195,10.7,12.2,9.5,9.9,9.1,12.526436781609195,5.5,12.526436781609195,5.8,8.1,6.8,11.2,8.8,12.0,7.9,8.0,8.5,8.8,12.6,13.8,12.0,12.3,11.5,7.3,12.526436781609195,10.9,10.9,13.7,12.526436781609195,12.8,12.2,11.8,9.8,11.9,12.526436781609195,12.526436781609195,13.0,12.526436781609195,11.5,7.9,11.3,12.526436781609195,9.6,12.526436781609195,11.5,12.526436781609195,12.526436781609195,15.0,7.9,9.1,12.7,9.4,11.9,11.4,10.4,9.4,13.4,12.2,6.3,8.6,12.526436781609195,12.6,3.1,15.0,17.0,15.9,15.4,13.0,13.6,14.5,14.0,13.9,16.1,14.1,17.0,15.5,16.2,14.4,14.2,13.2,13.9,16.3,15.0,14.3,13.8,14.8,12.526436781609195,14.4,16.5,14.0,15.7,14.5,16.3,13.3,15.5,14.6,16.4,16.9,16.0,14.7,13.4,15.9,16.6,14.8,14.9,16.7,14.9,14.3,15.0,16.8,15.8,13.5,15.1,15.0,16.9,14.8,17.0,13.1,17.1,15.2,13.6,13.9,17.2,13.2,13.7,15.3,17.3,15.6,13.8,15.4,15.0,17.4,12.526436781609195,15.7,13.9,16.0,15.9,12.526436781609195,14.0,15.8,13.4,12.526436781609195,14.1,12.526436781609195,13.5,15.3,17.7,15.4,14.2,15.2,14.0,17.8,13.3,14.3,13.4,15.0,16.2,14.4,13.5,15.5,17.8,13.6,14.5,16.1,17.5,15.0,13.6,14.6,15.0,17.1,13.6,13.0,17.2,14.7,13.7,15.0,17.8,14.8,12.526436781609195,15.0,17.4,14.9,13.6,16.2,17.6,15.0,13.7,16.3,15.1,16.4,13.8,15.2,16.1,15.3,16.6,16.8,13.9,15.4,16.5,16.4,16.7,15.5,17.0,15.0,15.6,14.8,13.0,14.1,15.7,16.5,15.8,14.2,15.8,44.0,38.0,31.0,32.0,35.0,39.0,36.0,44.0,33.0,29.0,28.0,32.0,28.0,38.88449848024316,16.0,24.0,38.88449848024316,38.88449848024316,37.0,30.0,24.0,32.0,32.0,38.88449848024316,39.0,29.0,35.0,37.0,38.88449848024316,38.0,38.88449848024316,30.0,34.0,29.0,38.88449848024316,36.0,32.0,28.0,38.88449848024316,40.0,32.0,38.88449848024316,33.0,24.0,28.0,38.88449848024316,37.0,45.0,29.0,29.0,28.0,33.0,34.0,40.0,40.0,28.0,30.0,38.88449848024316,33.0,38.88449848024316,38.88449848024316,38.88449848024316,33.0,27.0,38.88449848024316,48.0,38.88449848024316,38.88449848024316,37.0,52.0,44.0,28.0,38.88449848024316,14.0,29.0,38.88449848024316,36.0,34.0,30.0,40.0,31.0,29.0,38.88449848024316,38.88449848024316,22.0,38.88449848024316,38.88449848024316,32.0,38.88449848024316,38.88449848024316,40.0,52.0,33.0,30.0,36.0,38.88449848024316,36.0,32.0,18.0,32.0,38.88449848024316,33.0,52.0,36.0,38.88449848024316,42.0,17.0,34.0,37.0,38.88449848024316,34.0,32.0,33.0,38.88449848024316,38.88449848024316,44.0,38.88449848024316,37.0,38.88449848024316,38.88449848024316,38.88449848024316,46.0,38.88449848024316,42.0,28.0,38.88449848024316,37.0,35.0,23.0,38.88449848024316,22.0,36.0,24.0,37.0,33.0,39.0,38.88449848024316,29.0,38.88449848024316,33.0,38.88449848024316,19.0,38.88449848024316,38.88449848024316,33.0,24.0,38.88449848024316,25.0,38.88449848024316,32.0,41.0,30.0,32.0,22.0,26.0,36.0,38.88449848024316,39.0,31.0,35.0,35.0,42.0,37.0,27.0,40.0,38.88449848024316,38.88449848024316,42.0,39.0,27.0,33.0,26.0,34.0,41.0,35.0,38.88449848024316,23.0,41.0,34.0,39.0,28.0,30.0,35.0,38.88449848024316,31.0,34.0,38.88449848024316,34.0,38.0,29.0,30.0,26.0,38.88449848024316,15.0,38.88449848024316,38.88449848024316,24.0,38.88449848024316,30.0,25.0,37.0,21.0,24.0,38.88449848024316,31.0,43.0,41.0,41.0,41.0,38.88449848024316,20.0,38.88449848024316,31.0,34.0,43.0,38.88449848024316,38.0,36.0,34.0,28.0,36.0,38.88449848024316,38.88449848024316,38.0,38.88449848024316,35.0,26.0,36.0,38.88449848024316,31.0,38.88449848024316,35.0,38.88449848024316,38.88449848024316,44.0,26.0,25.0,40.0,28.0,39.0,36.0,31.0,28.0,47.0,40.0,19.0,26.0,38.88449848024316,37.0,9.0,48.0,52.0,46.0,42.0,49.0,52.0,41.0,46.0,44.0,45.0,45.0,41.0,43.0,45.0,50.0,48.0,41.0,48.0,53.0,48.0,41.0,42.0,42.0,38.88449848024316,44.0,43.0,41.0,50.0,44.0,48.0,52.0,41.0,44.0,43.0,52.0,41.0,44.0,43.0,50.0,43.0,52.0,41.0,52.0,48.0,40.0,50.0,41.0,45.0,48.0,52.0,43.0,41.0,48.0,50.0,45.0,41.0,52.0,44.0,48.0,40.0,44.0,45.0,48.0,52.0,41.0,48.0,48.0,40.0,52.0,38.88449848024316,44.0,48.0,43.0,45.0,38.88449848024316,50.0,41.0,44.0,45.0,48.0,42.0,46.0,44.0,46.0,43.0,48.0,40.0,52.0,44.0,48.0,43.0,41.0,50.0,50.0,42.0,42.0,52.0,43.0,44.0,52.0,43.0,40.0,48.0,51.0,41.0,52.0,47.0,42.0,45.0,53.0,43.0,54.0,40.0,44.0,45.0,38.88449848024316,46.0,50.0,45.0,46.0,50.0,51.0,52.0,47.0,40.0,48.0,53.0,49.0,42.0,50.0,54.0,40.0,51.0,49.0,42.0,52.0,43.0,50.0,46.0,52.0,52.0,44.0,46.0,54.0,45.0,47.0,54.0,49.0,51.0,53.0],\"y0\":\" \",\"yaxis\":\"y\",\"type\":\"box\"}],                        {\"template\":{\"data\":{\"histogram2dcontour\":[{\"type\":\"histogram2dcontour\",\"colorbar\":{\"outlinewidth\":0,\"ticks\":\"\"},\"colorscale\":[[0.0,\"#0d0887\"],[0.1111111111111111,\"#46039f\"],[0.2222222222222222,\"#7201a8\"],[0.3333333333333333,\"#9c179e\"],[0.4444444444444444,\"#bd3786\"],[0.5555555555555556,\"#d8576b\"],[0.6666666666666666,\"#ed7953\"],[0.7777777777777778,\"#fb9f3a\"],[0.8888888888888888,\"#fdca26\"],[1.0,\"#f0f921\"]]}],\"choropleth\":[{\"type\":\"choropleth\",\"colorbar\":{\"outlinewidth\":0,\"ticks\":\"\"}}],\"histogram2d\":[{\"type\":\"histogram2d\",\"colorbar\":{\"outlinewidth\":0,\"ticks\":\"\"},\"colorscale\":[[0.0,\"#0d0887\"],[0.1111111111111111,\"#46039f\"],[0.2222222222222222,\"#7201a8\"],[0.3333333333333333,\"#9c179e\"],[0.4444444444444444,\"#bd3786\"],[0.5555555555555556,\"#d8576b\"],[0.6666666666666666,\"#ed7953\"],[0.7777777777777778,\"#fb9f3a\"],[0.8888888888888888,\"#fdca26\"],[1.0,\"#f0f921\"]]}],\"heatmap\":[{\"type\":\"heatmap\",\"colorbar\":{\"outlinewidth\":0,\"ticks\":\"\"},\"colorscale\":[[0.0,\"#0d0887\"],[0.1111111111111111,\"#46039f\"],[0.2222222222222222,\"#7201a8\"],[0.3333333333333333,\"#9c179e\"],[0.4444444444444444,\"#bd3786\"],[0.5555555555555556,\"#d8576b\"],[0.6666666666666666,\"#ed7953\"],[0.7777777777777778,\"#fb9f3a\"],[0.8888888888888888,\"#fdca26\"],[1.0,\"#f0f921\"]]}],\"heatmapgl\":[{\"type\":\"heatmapgl\",\"colorbar\":{\"outlinewidth\":0,\"ticks\":\"\"},\"colorscale\":[[0.0,\"#0d0887\"],[0.1111111111111111,\"#46039f\"],[0.2222222222222222,\"#7201a8\"],[0.3333333333333333,\"#9c179e\"],[0.4444444444444444,\"#bd3786\"],[0.5555555555555556,\"#d8576b\"],[0.6666666666666666,\"#ed7953\"],[0.7777777777777778,\"#fb9f3a\"],[0.8888888888888888,\"#fdca26\"],[1.0,\"#f0f921\"]]}],\"contourcarpet\":[{\"type\":\"contourcarpet\",\"colorbar\":{\"outlinewidth\":0,\"ticks\":\"\"}}],\"contour\":[{\"type\":\"contour\",\"colorbar\":{\"outlinewidth\":0,\"ticks\":\"\"},\"colorscale\":[[0.0,\"#0d0887\"],[0.1111111111111111,\"#46039f\"],[0.2222222222222222,\"#7201a8\"],[0.3333333333333333,\"#9c179e\"],[0.4444444444444444,\"#bd3786\"],[0.5555555555555556,\"#d8576b\"],[0.6666666666666666,\"#ed7953\"],[0.7777777777777778,\"#fb9f3a\"],[0.8888888888888888,\"#fdca26\"],[1.0,\"#f0f921\"]]}],\"surface\":[{\"type\":\"surface\",\"colorbar\":{\"outlinewidth\":0,\"ticks\":\"\"},\"colorscale\":[[0.0,\"#0d0887\"],[0.1111111111111111,\"#46039f\"],[0.2222222222222222,\"#7201a8\"],[0.3333333333333333,\"#9c179e\"],[0.4444444444444444,\"#bd3786\"],[0.5555555555555556,\"#d8576b\"],[0.6666666666666666,\"#ed7953\"],[0.7777777777777778,\"#fb9f3a\"],[0.8888888888888888,\"#fdca26\"],[1.0,\"#f0f921\"]]}],\"mesh3d\":[{\"type\":\"mesh3d\",\"colorbar\":{\"outlinewidth\":0,\"ticks\":\"\"}}],\"scatter\":[{\"fillpattern\":{\"fillmode\":\"overlay\",\"size\":10,\"solidity\":0.2},\"type\":\"scatter\"}],\"parcoords\":[{\"type\":\"parcoords\",\"line\":{\"colorbar\":{\"outlinewidth\":0,\"ticks\":\"\"}}}],\"scatterpolargl\":[{\"type\":\"scatterpolargl\",\"marker\":{\"colorbar\":{\"outlinewidth\":0,\"ticks\":\"\"}}}],\"bar\":[{\"error_x\":{\"color\":\"#2a3f5f\"},\"error_y\":{\"color\":\"#2a3f5f\"},\"marker\":{\"line\":{\"color\":\"#E5ECF6\",\"width\":0.5},\"pattern\":{\"fillmode\":\"overlay\",\"size\":10,\"solidity\":0.2}},\"type\":\"bar\"}],\"scattergeo\":[{\"type\":\"scattergeo\",\"marker\":{\"colorbar\":{\"outlinewidth\":0,\"ticks\":\"\"}}}],\"scatterpolar\":[{\"type\":\"scatterpolar\",\"marker\":{\"colorbar\":{\"outlinewidth\":0,\"ticks\":\"\"}}}],\"histogram\":[{\"marker\":{\"pattern\":{\"fillmode\":\"overlay\",\"size\":10,\"solidity\":0.2}},\"type\":\"histogram\"}],\"scattergl\":[{\"type\":\"scattergl\",\"marker\":{\"colorbar\":{\"outlinewidth\":0,\"ticks\":\"\"}}}],\"scatter3d\":[{\"type\":\"scatter3d\",\"line\":{\"colorbar\":{\"outlinewidth\":0,\"ticks\":\"\"}},\"marker\":{\"colorbar\":{\"outlinewidth\":0,\"ticks\":\"\"}}}],\"scattermapbox\":[{\"type\":\"scattermapbox\",\"marker\":{\"colorbar\":{\"outlinewidth\":0,\"ticks\":\"\"}}}],\"scatterternary\":[{\"type\":\"scatterternary\",\"marker\":{\"colorbar\":{\"outlinewidth\":0,\"ticks\":\"\"}}}],\"scattercarpet\":[{\"type\":\"scattercarpet\",\"marker\":{\"colorbar\":{\"outlinewidth\":0,\"ticks\":\"\"}}}],\"carpet\":[{\"aaxis\":{\"endlinecolor\":\"#2a3f5f\",\"gridcolor\":\"white\",\"linecolor\":\"white\",\"minorgridcolor\":\"white\",\"startlinecolor\":\"#2a3f5f\"},\"baxis\":{\"endlinecolor\":\"#2a3f5f\",\"gridcolor\":\"white\",\"linecolor\":\"white\",\"minorgridcolor\":\"white\",\"startlinecolor\":\"#2a3f5f\"},\"type\":\"carpet\"}],\"table\":[{\"cells\":{\"fill\":{\"color\":\"#EBF0F8\"},\"line\":{\"color\":\"white\"}},\"header\":{\"fill\":{\"color\":\"#C8D4E3\"},\"line\":{\"color\":\"white\"}},\"type\":\"table\"}],\"barpolar\":[{\"marker\":{\"line\":{\"color\":\"#E5ECF6\",\"width\":0.5},\"pattern\":{\"fillmode\":\"overlay\",\"size\":10,\"solidity\":0.2}},\"type\":\"barpolar\"}],\"pie\":[{\"automargin\":true,\"type\":\"pie\"}]},\"layout\":{\"autotypenumbers\":\"strict\",\"colorway\":[\"#636efa\",\"#EF553B\",\"#00cc96\",\"#ab63fa\",\"#FFA15A\",\"#19d3f3\",\"#FF6692\",\"#B6E880\",\"#FF97FF\",\"#FECB52\"],\"font\":{\"color\":\"#2a3f5f\"},\"hovermode\":\"closest\",\"hoverlabel\":{\"align\":\"left\"},\"paper_bgcolor\":\"white\",\"plot_bgcolor\":\"#E5ECF6\",\"polar\":{\"bgcolor\":\"#E5ECF6\",\"angularaxis\":{\"gridcolor\":\"white\",\"linecolor\":\"white\",\"ticks\":\"\"},\"radialaxis\":{\"gridcolor\":\"white\",\"linecolor\":\"white\",\"ticks\":\"\"}},\"ternary\":{\"bgcolor\":\"#E5ECF6\",\"aaxis\":{\"gridcolor\":\"white\",\"linecolor\":\"white\",\"ticks\":\"\"},\"baxis\":{\"gridcolor\":\"white\",\"linecolor\":\"white\",\"ticks\":\"\"},\"caxis\":{\"gridcolor\":\"white\",\"linecolor\":\"white\",\"ticks\":\"\"}},\"coloraxis\":{\"colorbar\":{\"outlinewidth\":0,\"ticks\":\"\"}},\"colorscale\":{\"sequential\":[[0.0,\"#0d0887\"],[0.1111111111111111,\"#46039f\"],[0.2222222222222222,\"#7201a8\"],[0.3333333333333333,\"#9c179e\"],[0.4444444444444444,\"#bd3786\"],[0.5555555555555556,\"#d8576b\"],[0.6666666666666666,\"#ed7953\"],[0.7777777777777778,\"#fb9f3a\"],[0.8888888888888888,\"#fdca26\"],[1.0,\"#f0f921\"]],\"sequentialminus\":[[0.0,\"#0d0887\"],[0.1111111111111111,\"#46039f\"],[0.2222222222222222,\"#7201a8\"],[0.3333333333333333,\"#9c179e\"],[0.4444444444444444,\"#bd3786\"],[0.5555555555555556,\"#d8576b\"],[0.6666666666666666,\"#ed7953\"],[0.7777777777777778,\"#fb9f3a\"],[0.8888888888888888,\"#fdca26\"],[1.0,\"#f0f921\"]],\"diverging\":[[0,\"#8e0152\"],[0.1,\"#c51b7d\"],[0.2,\"#de77ae\"],[0.3,\"#f1b6da\"],[0.4,\"#fde0ef\"],[0.5,\"#f7f7f7\"],[0.6,\"#e6f5d0\"],[0.7,\"#b8e186\"],[0.8,\"#7fbc41\"],[0.9,\"#4d9221\"],[1,\"#276419\"]]},\"xaxis\":{\"gridcolor\":\"white\",\"linecolor\":\"white\",\"ticks\":\"\",\"title\":{\"standoff\":15},\"zerolinecolor\":\"white\",\"automargin\":true,\"zerolinewidth\":2},\"yaxis\":{\"gridcolor\":\"white\",\"linecolor\":\"white\",\"ticks\":\"\",\"title\":{\"standoff\":15},\"zerolinecolor\":\"white\",\"automargin\":true,\"zerolinewidth\":2},\"scene\":{\"xaxis\":{\"backgroundcolor\":\"#E5ECF6\",\"gridcolor\":\"white\",\"linecolor\":\"white\",\"showbackground\":true,\"ticks\":\"\",\"zerolinecolor\":\"white\",\"gridwidth\":2},\"yaxis\":{\"backgroundcolor\":\"#E5ECF6\",\"gridcolor\":\"white\",\"linecolor\":\"white\",\"showbackground\":true,\"ticks\":\"\",\"zerolinecolor\":\"white\",\"gridwidth\":2},\"zaxis\":{\"backgroundcolor\":\"#E5ECF6\",\"gridcolor\":\"white\",\"linecolor\":\"white\",\"showbackground\":true,\"ticks\":\"\",\"zerolinecolor\":\"white\",\"gridwidth\":2}},\"shapedefaults\":{\"line\":{\"color\":\"#2a3f5f\"}},\"annotationdefaults\":{\"arrowcolor\":\"#2a3f5f\",\"arrowhead\":0,\"arrowwidth\":1},\"geo\":{\"bgcolor\":\"white\",\"landcolor\":\"#E5ECF6\",\"subunitcolor\":\"white\",\"showland\":true,\"showlakes\":true,\"lakecolor\":\"white\"},\"title\":{\"x\":0.05},\"mapbox\":{\"style\":\"light\"}}},\"xaxis\":{\"anchor\":\"y\",\"domain\":[0.0,1.0],\"title\":{\"text\":\"variable\"}},\"yaxis\":{\"anchor\":\"x\",\"domain\":[0.0,1.0],\"title\":{\"text\":\"value\"}},\"legend\":{\"tracegroupgap\":0},\"margin\":{\"t\":60},\"boxmode\":\"group\"},                        {\"responsive\": true}                    ).then(function(){\n",
              "                            \n",
              "var gd = document.getElementById('4539ee65-8c41-4154-a752-cf07aca81cc3');\n",
              "var x = new MutationObserver(function (mutations, observer) {{\n",
              "        var display = window.getComputedStyle(gd).display;\n",
              "        if (!display || display === 'none') {{\n",
              "            console.log([gd, 'removed!']);\n",
              "            Plotly.purge(gd);\n",
              "            observer.disconnect();\n",
              "        }}\n",
              "}});\n",
              "\n",
              "// Listen for the removal of the full notebook cells\n",
              "var notebookContainer = gd.closest('#notebook-container');\n",
              "if (notebookContainer) {{\n",
              "    x.observe(notebookContainer, {childList: true});\n",
              "}}\n",
              "\n",
              "// Listen for the clearing of the current output cell\n",
              "var outputEl = gd.closest('.output');\n",
              "if (outputEl) {{\n",
              "    x.observe(outputEl, {childList: true});\n",
              "}}\n",
              "\n",
              "                        })                };                            </script>        </div>\n",
              "</body>\n",
              "</html>"
            ]
          },
          "metadata": {},
          "output_type": "display_data"
        }
      ],
      "source": [
        "import plotly.express as px\n",
        "f1=px.box(f.loc[:,l1[:-2]],y=l1[:-2])\n",
        "f1.show()"
      ]
    },
    {
      "cell_type": "markdown",
      "metadata": {
        "id": "DNtqnTrFnY4F"
      },
      "source": [
        "**Handling outliers**"
      ]
    },
    {
      "cell_type": "code",
      "execution_count": null,
      "metadata": {
        "colab": {
          "base_uri": "https://localhost:8080/"
        },
        "id": "N8zfI2QhhyF9",
        "outputId": "57fa8682-e9bb-46b5-dcc2-6e9fe9d89fe2"
      },
      "outputs": [
        {
          "name": "stderr",
          "output_type": "stream",
          "text": [
            "<ipython-input-33-cdd97787a044>:4: DeprecationWarning:\n",
            "\n",
            "the `interpolation=` argument to percentile was renamed to `method=`, which has additional options.\n",
            "Users of the modes 'nearest', 'lower', 'higher', or 'midpoint' are encouraged to review the method they. (Deprecated NumPy 1.22)\n",
            "\n",
            "<ipython-input-33-cdd97787a044>:7: DeprecationWarning:\n",
            "\n",
            "the `interpolation=` argument to percentile was renamed to `method=`, which has additional options.\n",
            "Users of the modes 'nearest', 'lower', 'higher', or 'midpoint' are encouraged to review the method they. (Deprecated NumPy 1.22)\n",
            "\n",
            "<ipython-input-33-cdd97787a044>:10: DeprecationWarning:\n",
            "\n",
            "the `interpolation=` argument to percentile was renamed to `method=`, which has additional options.\n",
            "Users of the modes 'nearest', 'lower', 'higher', or 'midpoint' are encouraged to review the method they. (Deprecated NumPy 1.22)\n",
            "\n"
          ]
        }
      ],
      "source": [
        "import numpy as np\n",
        "def outlienes(col):\n",
        "\n",
        "    Q1 = np.percentile(f[col], 25,\n",
        "                       interpolation = 'midpoint')\n",
        "\n",
        "    Q3 = np.percentile(f[col], 75,\n",
        "                       interpolation = 'midpoint')\n",
        "\n",
        "    per_95 = np.percentile(f[col], 95,\n",
        "                       interpolation = 'midpoint')\n",
        "\n",
        "    IQR = Q3 - Q1\n",
        "\n",
        "    upper = Q3+1.5*IQR\n",
        "    lower = Q1-1.5*IQR\n",
        "\n",
        "    f[col] = np.where(f[col] > upper, per_95, f[col])\n",
        "    f[col] = np.where(f[col] < lower, lower, f[col])\n",
        "\n",
        "    return f\n",
        "for col in l1:\n",
        "    f = outlienes(col)"
      ]
    },
    {
      "cell_type": "code",
      "execution_count": null,
      "metadata": {
        "colab": {
          "base_uri": "https://localhost:8080/",
          "height": 542
        },
        "id": "Zu5J09IvlZEY",
        "outputId": "cd910623-2cd9-4366-b029-ca411933e333"
      },
      "outputs": [
        {
          "data": {
            "text/html": [
              "<html>\n",
              "<head><meta charset=\"utf-8\" /></head>\n",
              "<body>\n",
              "    <div>            <script src=\"https://cdnjs.cloudflare.com/ajax/libs/mathjax/2.7.5/MathJax.js?config=TeX-AMS-MML_SVG\"></script><script type=\"text/javascript\">if (window.MathJax && window.MathJax.Hub && window.MathJax.Hub.Config) {window.MathJax.Hub.Config({SVG: {font: \"STIX-Web\"}});}</script>                <script type=\"text/javascript\">window.PlotlyConfig = {MathJaxConfig: 'local'};</script>\n",
              "        <script src=\"https://cdn.plot.ly/plotly-2.18.2.min.js\"></script>                <div id=\"fe2ebfd9-8e87-49b2-8918-2e899d227447\" class=\"plotly-graph-div\" style=\"height:525px; width:100%;\"></div>            <script type=\"text/javascript\">                                    window.PLOTLYENV=window.PLOTLYENV || {};                                    if (document.getElementById(\"fe2ebfd9-8e87-49b2-8918-2e899d227447\")) {                    Plotly.newPlot(                        \"fe2ebfd9-8e87-49b2-8918-2e899d227447\",                        [{\"alignmentgroup\":\"True\",\"hovertemplate\":\"variable=%{x}<br>value=%{y}<extra></extra>\",\"legendgroup\":\"\",\"marker\":{\"color\":\"#636efa\"},\"name\":\"\",\"notched\":false,\"offsetgroup\":\"\",\"orientation\":\"v\",\"showlegend\":false,\"x\":[\"id\",\"id\",\"id\",\"id\",\"id\",\"id\",\"id\",\"id\",\"id\",\"id\",\"id\",\"id\",\"id\",\"id\",\"id\",\"id\",\"id\",\"id\",\"id\",\"id\",\"id\",\"id\",\"id\",\"id\",\"id\",\"id\",\"id\",\"id\",\"id\",\"id\",\"id\",\"id\",\"id\",\"id\",\"id\",\"id\",\"id\",\"id\",\"id\",\"id\",\"id\",\"id\",\"id\",\"id\",\"id\",\"id\",\"id\",\"id\",\"id\",\"id\",\"id\",\"id\",\"id\",\"id\",\"id\",\"id\",\"id\",\"id\",\"id\",\"id\",\"id\",\"id\",\"id\",\"id\",\"id\",\"id\",\"id\",\"id\",\"id\",\"id\",\"id\",\"id\",\"id\",\"id\",\"id\",\"id\",\"id\",\"id\",\"id\",\"id\",\"id\",\"id\",\"id\",\"id\",\"id\",\"id\",\"id\",\"id\",\"id\",\"id\",\"id\",\"id\",\"id\",\"id\",\"id\",\"id\",\"id\",\"id\",\"id\",\"id\",\"id\",\"id\",\"id\",\"id\",\"id\",\"id\",\"id\",\"id\",\"id\",\"id\",\"id\",\"id\",\"id\",\"id\",\"id\",\"id\",\"id\",\"id\",\"id\",\"id\",\"id\",\"id\",\"id\",\"id\",\"id\",\"id\",\"id\",\"id\",\"id\",\"id\",\"id\",\"id\",\"id\",\"id\",\"id\",\"id\",\"id\",\"id\",\"id\",\"id\",\"id\",\"id\",\"id\",\"id\",\"id\",\"id\",\"id\",\"id\",\"id\",\"id\",\"id\",\"id\",\"id\",\"id\",\"id\",\"id\",\"id\",\"id\",\"id\",\"id\",\"id\",\"id\",\"id\",\"id\",\"id\",\"id\",\"id\",\"id\",\"id\",\"id\",\"id\",\"id\",\"id\",\"id\",\"id\",\"id\",\"id\",\"id\",\"id\",\"id\",\"id\",\"id\",\"id\",\"id\",\"id\",\"id\",\"id\",\"id\",\"id\",\"id\",\"id\",\"id\",\"id\",\"id\",\"id\",\"id\",\"id\",\"id\",\"id\",\"id\",\"id\",\"id\",\"id\",\"id\",\"id\",\"id\",\"id\",\"id\",\"id\",\"id\",\"id\",\"id\",\"id\",\"id\",\"id\",\"id\",\"id\",\"id\",\"id\",\"id\",\"id\",\"id\",\"id\",\"id\",\"id\",\"id\",\"id\",\"id\",\"id\",\"id\",\"id\",\"id\",\"id\",\"id\",\"id\",\"id\",\"id\",\"id\",\"id\",\"id\",\"id\",\"id\",\"id\",\"id\",\"id\",\"id\",\"id\",\"id\",\"id\",\"id\",\"id\",\"id\",\"id\",\"id\",\"id\",\"id\",\"id\",\"id\",\"id\",\"id\",\"id\",\"id\",\"id\",\"id\",\"id\",\"id\",\"id\",\"id\",\"id\",\"id\",\"id\",\"id\",\"id\",\"id\",\"id\",\"id\",\"id\",\"id\",\"id\",\"id\",\"id\",\"id\",\"id\",\"id\",\"id\",\"id\",\"id\",\"id\",\"id\",\"id\",\"id\",\"id\",\"id\",\"id\",\"id\",\"id\",\"id\",\"id\",\"id\",\"id\",\"id\",\"id\",\"id\",\"id\",\"id\",\"id\",\"id\",\"id\",\"id\",\"id\",\"id\",\"id\",\"id\",\"id\",\"id\",\"id\",\"id\",\"id\",\"id\",\"id\",\"id\",\"id\",\"id\",\"id\",\"id\",\"id\",\"id\",\"id\",\"id\",\"id\",\"id\",\"id\",\"id\",\"id\",\"id\",\"id\",\"id\",\"id\",\"id\",\"id\",\"id\",\"id\",\"id\",\"id\",\"id\",\"id\",\"id\",\"id\",\"id\",\"id\",\"id\",\"id\",\"id\",\"id\",\"id\",\"id\",\"id\",\"id\",\"id\",\"id\",\"id\",\"id\",\"id\",\"id\",\"id\",\"id\",\"id\",\"id\",\"id\",\"id\",\"id\",\"id\",\"id\",\"id\",\"id\",\"id\",\"id\",\"id\",\"id\",\"id\",\"id\",\"id\",\"id\",\"id\",\"id\",\"id\",\"id\",\"id\",\"id\",\"id\",\"id\",\"id\",\"id\",\"id\",\"id\",\"id\",\"id\",\"id\",\"id\",\"id\",\"age\",\"age\",\"age\",\"age\",\"age\",\"age\",\"age\",\"age\",\"age\",\"age\",\"age\",\"age\",\"age\",\"age\",\"age\",\"age\",\"age\",\"age\",\"age\",\"age\",\"age\",\"age\",\"age\",\"age\",\"age\",\"age\",\"age\",\"age\",\"age\",\"age\",\"age\",\"age\",\"age\",\"age\",\"age\",\"age\",\"age\",\"age\",\"age\",\"age\",\"age\",\"age\",\"age\",\"age\",\"age\",\"age\",\"age\",\"age\",\"age\",\"age\",\"age\",\"age\",\"age\",\"age\",\"age\",\"age\",\"age\",\"age\",\"age\",\"age\",\"age\",\"age\",\"age\",\"age\",\"age\",\"age\",\"age\",\"age\",\"age\",\"age\",\"age\",\"age\",\"age\",\"age\",\"age\",\"age\",\"age\",\"age\",\"age\",\"age\",\"age\",\"age\",\"age\",\"age\",\"age\",\"age\",\"age\",\"age\",\"age\",\"age\",\"age\",\"age\",\"age\",\"age\",\"age\",\"age\",\"age\",\"age\",\"age\",\"age\",\"age\",\"age\",\"age\",\"age\",\"age\",\"age\",\"age\",\"age\",\"age\",\"age\",\"age\",\"age\",\"age\",\"age\",\"age\",\"age\",\"age\",\"age\",\"age\",\"age\",\"age\",\"age\",\"age\",\"age\",\"age\",\"age\",\"age\",\"age\",\"age\",\"age\",\"age\",\"age\",\"age\",\"age\",\"age\",\"age\",\"age\",\"age\",\"age\",\"age\",\"age\",\"age\",\"age\",\"age\",\"age\",\"age\",\"age\",\"age\",\"age\",\"age\",\"age\",\"age\",\"age\",\"age\",\"age\",\"age\",\"age\",\"age\",\"age\",\"age\",\"age\",\"age\",\"age\",\"age\",\"age\",\"age\",\"age\",\"age\",\"age\",\"age\",\"age\",\"age\",\"age\",\"age\",\"age\",\"age\",\"age\",\"age\",\"age\",\"age\",\"age\",\"age\",\"age\",\"age\",\"age\",\"age\",\"age\",\"age\",\"age\",\"age\",\"age\",\"age\",\"age\",\"age\",\"age\",\"age\",\"age\",\"age\",\"age\",\"age\",\"age\",\"age\",\"age\",\"age\",\"age\",\"age\",\"age\",\"age\",\"age\",\"age\",\"age\",\"age\",\"age\",\"age\",\"age\",\"age\",\"age\",\"age\",\"age\",\"age\",\"age\",\"age\",\"age\",\"age\",\"age\",\"age\",\"age\",\"age\",\"age\",\"age\",\"age\",\"age\",\"age\",\"age\",\"age\",\"age\",\"age\",\"age\",\"age\",\"age\",\"age\",\"age\",\"age\",\"age\",\"age\",\"age\",\"age\",\"age\",\"age\",\"age\",\"age\",\"age\",\"age\",\"age\",\"age\",\"age\",\"age\",\"age\",\"age\",\"age\",\"age\",\"age\",\"age\",\"age\",\"age\",\"age\",\"age\",\"age\",\"age\",\"age\",\"age\",\"age\",\"age\",\"age\",\"age\",\"age\",\"age\",\"age\",\"age\",\"age\",\"age\",\"age\",\"age\",\"age\",\"age\",\"age\",\"age\",\"age\",\"age\",\"age\",\"age\",\"age\",\"age\",\"age\",\"age\",\"age\",\"age\",\"age\",\"age\",\"age\",\"age\",\"age\",\"age\",\"age\",\"age\",\"age\",\"age\",\"age\",\"age\",\"age\",\"age\",\"age\",\"age\",\"age\",\"age\",\"age\",\"age\",\"age\",\"age\",\"age\",\"age\",\"age\",\"age\",\"age\",\"age\",\"age\",\"age\",\"age\",\"age\",\"age\",\"age\",\"age\",\"age\",\"age\",\"age\",\"age\",\"age\",\"age\",\"age\",\"age\",\"age\",\"age\",\"age\",\"age\",\"age\",\"age\",\"age\",\"age\",\"age\",\"age\",\"age\",\"age\",\"age\",\"age\",\"age\",\"age\",\"age\",\"age\",\"age\",\"age\",\"age\",\"age\",\"age\",\"age\",\"age\",\"age\",\"age\",\"age\",\"age\",\"age\",\"age\",\"age\",\"age\",\"age\",\"age\",\"age\",\"age\",\"age\",\"age\",\"age\",\"age\",\"age\",\"age\",\"age\",\"age\",\"age\",\"age\",\"age\",\"age\",\"age\",\"age\",\"age\",\"age\",\"age\",\"age\",\"age\",\"age\",\"age\",\"age\",\"age\",\"bp\",\"bp\",\"bp\",\"bp\",\"bp\",\"bp\",\"bp\",\"bp\",\"bp\",\"bp\",\"bp\",\"bp\",\"bp\",\"bp\",\"bp\",\"bp\",\"bp\",\"bp\",\"bp\",\"bp\",\"bp\",\"bp\",\"bp\",\"bp\",\"bp\",\"bp\",\"bp\",\"bp\",\"bp\",\"bp\",\"bp\",\"bp\",\"bp\",\"bp\",\"bp\",\"bp\",\"bp\",\"bp\",\"bp\",\"bp\",\"bp\",\"bp\",\"bp\",\"bp\",\"bp\",\"bp\",\"bp\",\"bp\",\"bp\",\"bp\",\"bp\",\"bp\",\"bp\",\"bp\",\"bp\",\"bp\",\"bp\",\"bp\",\"bp\",\"bp\",\"bp\",\"bp\",\"bp\",\"bp\",\"bp\",\"bp\",\"bp\",\"bp\",\"bp\",\"bp\",\"bp\",\"bp\",\"bp\",\"bp\",\"bp\",\"bp\",\"bp\",\"bp\",\"bp\",\"bp\",\"bp\",\"bp\",\"bp\",\"bp\",\"bp\",\"bp\",\"bp\",\"bp\",\"bp\",\"bp\",\"bp\",\"bp\",\"bp\",\"bp\",\"bp\",\"bp\",\"bp\",\"bp\",\"bp\",\"bp\",\"bp\",\"bp\",\"bp\",\"bp\",\"bp\",\"bp\",\"bp\",\"bp\",\"bp\",\"bp\",\"bp\",\"bp\",\"bp\",\"bp\",\"bp\",\"bp\",\"bp\",\"bp\",\"bp\",\"bp\",\"bp\",\"bp\",\"bp\",\"bp\",\"bp\",\"bp\",\"bp\",\"bp\",\"bp\",\"bp\",\"bp\",\"bp\",\"bp\",\"bp\",\"bp\",\"bp\",\"bp\",\"bp\",\"bp\",\"bp\",\"bp\",\"bp\",\"bp\",\"bp\",\"bp\",\"bp\",\"bp\",\"bp\",\"bp\",\"bp\",\"bp\",\"bp\",\"bp\",\"bp\",\"bp\",\"bp\",\"bp\",\"bp\",\"bp\",\"bp\",\"bp\",\"bp\",\"bp\",\"bp\",\"bp\",\"bp\",\"bp\",\"bp\",\"bp\",\"bp\",\"bp\",\"bp\",\"bp\",\"bp\",\"bp\",\"bp\",\"bp\",\"bp\",\"bp\",\"bp\",\"bp\",\"bp\",\"bp\",\"bp\",\"bp\",\"bp\",\"bp\",\"bp\",\"bp\",\"bp\",\"bp\",\"bp\",\"bp\",\"bp\",\"bp\",\"bp\",\"bp\",\"bp\",\"bp\",\"bp\",\"bp\",\"bp\",\"bp\",\"bp\",\"bp\",\"bp\",\"bp\",\"bp\",\"bp\",\"bp\",\"bp\",\"bp\",\"bp\",\"bp\",\"bp\",\"bp\",\"bp\",\"bp\",\"bp\",\"bp\",\"bp\",\"bp\",\"bp\",\"bp\",\"bp\",\"bp\",\"bp\",\"bp\",\"bp\",\"bp\",\"bp\",\"bp\",\"bp\",\"bp\",\"bp\",\"bp\",\"bp\",\"bp\",\"bp\",\"bp\",\"bp\",\"bp\",\"bp\",\"bp\",\"bp\",\"bp\",\"bp\",\"bp\",\"bp\",\"bp\",\"bp\",\"bp\",\"bp\",\"bp\",\"bp\",\"bp\",\"bp\",\"bp\",\"bp\",\"bp\",\"bp\",\"bp\",\"bp\",\"bp\",\"bp\",\"bp\",\"bp\",\"bp\",\"bp\",\"bp\",\"bp\",\"bp\",\"bp\",\"bp\",\"bp\",\"bp\",\"bp\",\"bp\",\"bp\",\"bp\",\"bp\",\"bp\",\"bp\",\"bp\",\"bp\",\"bp\",\"bp\",\"bp\",\"bp\",\"bp\",\"bp\",\"bp\",\"bp\",\"bp\",\"bp\",\"bp\",\"bp\",\"bp\",\"bp\",\"bp\",\"bp\",\"bp\",\"bp\",\"bp\",\"bp\",\"bp\",\"bp\",\"bp\",\"bp\",\"bp\",\"bp\",\"bp\",\"bp\",\"bp\",\"bp\",\"bp\",\"bp\",\"bp\",\"bp\",\"bp\",\"bp\",\"bp\",\"bp\",\"bp\",\"bp\",\"bp\",\"bp\",\"bp\",\"bp\",\"bp\",\"bp\",\"bp\",\"bp\",\"bp\",\"bp\",\"bp\",\"bp\",\"bp\",\"bp\",\"bp\",\"bp\",\"bp\",\"bp\",\"bp\",\"bp\",\"bp\",\"bp\",\"bp\",\"bp\",\"bp\",\"bp\",\"bp\",\"bp\",\"bp\",\"bp\",\"bp\",\"bp\",\"bp\",\"bp\",\"bp\",\"bp\",\"bp\",\"bp\",\"bp\",\"bp\",\"bp\",\"bp\",\"bp\",\"bp\",\"bp\",\"bp\",\"bp\",\"bp\",\"bp\",\"bp\",\"bp\",\"bp\",\"bp\",\"bp\",\"bp\",\"bp\",\"bp\",\"bp\",\"bp\",\"bp\",\"bp\",\"bp\",\"bp\",\"bp\",\"bp\",\"bp\",\"bp\",\"bp\",\"bp\",\"bp\",\"bp\",\"bp\",\"bp\",\"bp\",\"bp\",\"sg\",\"sg\",\"sg\",\"sg\",\"sg\",\"sg\",\"sg\",\"sg\",\"sg\",\"sg\",\"sg\",\"sg\",\"sg\",\"sg\",\"sg\",\"sg\",\"sg\",\"sg\",\"sg\",\"sg\",\"sg\",\"sg\",\"sg\",\"sg\",\"sg\",\"sg\",\"sg\",\"sg\",\"sg\",\"sg\",\"sg\",\"sg\",\"sg\",\"sg\",\"sg\",\"sg\",\"sg\",\"sg\",\"sg\",\"sg\",\"sg\",\"sg\",\"sg\",\"sg\",\"sg\",\"sg\",\"sg\",\"sg\",\"sg\",\"sg\",\"sg\",\"sg\",\"sg\",\"sg\",\"sg\",\"sg\",\"sg\",\"sg\",\"sg\",\"sg\",\"sg\",\"sg\",\"sg\",\"sg\",\"sg\",\"sg\",\"sg\",\"sg\",\"sg\",\"sg\",\"sg\",\"sg\",\"sg\",\"sg\",\"sg\",\"sg\",\"sg\",\"sg\",\"sg\",\"sg\",\"sg\",\"sg\",\"sg\",\"sg\",\"sg\",\"sg\",\"sg\",\"sg\",\"sg\",\"sg\",\"sg\",\"sg\",\"sg\",\"sg\",\"sg\",\"sg\",\"sg\",\"sg\",\"sg\",\"sg\",\"sg\",\"sg\",\"sg\",\"sg\",\"sg\",\"sg\",\"sg\",\"sg\",\"sg\",\"sg\",\"sg\",\"sg\",\"sg\",\"sg\",\"sg\",\"sg\",\"sg\",\"sg\",\"sg\",\"sg\",\"sg\",\"sg\",\"sg\",\"sg\",\"sg\",\"sg\",\"sg\",\"sg\",\"sg\",\"sg\",\"sg\",\"sg\",\"sg\",\"sg\",\"sg\",\"sg\",\"sg\",\"sg\",\"sg\",\"sg\",\"sg\",\"sg\",\"sg\",\"sg\",\"sg\",\"sg\",\"sg\",\"sg\",\"sg\",\"sg\",\"sg\",\"sg\",\"sg\",\"sg\",\"sg\",\"sg\",\"sg\",\"sg\",\"sg\",\"sg\",\"sg\",\"sg\",\"sg\",\"sg\",\"sg\",\"sg\",\"sg\",\"sg\",\"sg\",\"sg\",\"sg\",\"sg\",\"sg\",\"sg\",\"sg\",\"sg\",\"sg\",\"sg\",\"sg\",\"sg\",\"sg\",\"sg\",\"sg\",\"sg\",\"sg\",\"sg\",\"sg\",\"sg\",\"sg\",\"sg\",\"sg\",\"sg\",\"sg\",\"sg\",\"sg\",\"sg\",\"sg\",\"sg\",\"sg\",\"sg\",\"sg\",\"sg\",\"sg\",\"sg\",\"sg\",\"sg\",\"sg\",\"sg\",\"sg\",\"sg\",\"sg\",\"sg\",\"sg\",\"sg\",\"sg\",\"sg\",\"sg\",\"sg\",\"sg\",\"sg\",\"sg\",\"sg\",\"sg\",\"sg\",\"sg\",\"sg\",\"sg\",\"sg\",\"sg\",\"sg\",\"sg\",\"sg\",\"sg\",\"sg\",\"sg\",\"sg\",\"sg\",\"sg\",\"sg\",\"sg\",\"sg\",\"sg\",\"sg\",\"sg\",\"sg\",\"sg\",\"sg\",\"sg\",\"sg\",\"sg\",\"sg\",\"sg\",\"sg\",\"sg\",\"sg\",\"sg\",\"sg\",\"sg\",\"sg\",\"sg\",\"sg\",\"sg\",\"sg\",\"sg\",\"sg\",\"sg\",\"sg\",\"sg\",\"sg\",\"sg\",\"sg\",\"sg\",\"sg\",\"sg\",\"sg\",\"sg\",\"sg\",\"sg\",\"sg\",\"sg\",\"sg\",\"sg\",\"sg\",\"sg\",\"sg\",\"sg\",\"sg\",\"sg\",\"sg\",\"sg\",\"sg\",\"sg\",\"sg\",\"sg\",\"sg\",\"sg\",\"sg\",\"sg\",\"sg\",\"sg\",\"sg\",\"sg\",\"sg\",\"sg\",\"sg\",\"sg\",\"sg\",\"sg\",\"sg\",\"sg\",\"sg\",\"sg\",\"sg\",\"sg\",\"sg\",\"sg\",\"sg\",\"sg\",\"sg\",\"sg\",\"sg\",\"sg\",\"sg\",\"sg\",\"sg\",\"sg\",\"sg\",\"sg\",\"sg\",\"sg\",\"sg\",\"sg\",\"sg\",\"sg\",\"sg\",\"sg\",\"sg\",\"sg\",\"sg\",\"sg\",\"sg\",\"sg\",\"sg\",\"sg\",\"sg\",\"sg\",\"sg\",\"sg\",\"sg\",\"sg\",\"sg\",\"sg\",\"sg\",\"sg\",\"sg\",\"sg\",\"sg\",\"sg\",\"sg\",\"sg\",\"sg\",\"sg\",\"sg\",\"sg\",\"sg\",\"sg\",\"sg\",\"sg\",\"sg\",\"sg\",\"sg\",\"sg\",\"sg\",\"sg\",\"sg\",\"sg\",\"sg\",\"sg\",\"sg\",\"sg\",\"sg\",\"sg\",\"sg\",\"sg\",\"sg\",\"sg\",\"sg\",\"sg\",\"sg\",\"sg\",\"sg\",\"sg\",\"sg\",\"sg\",\"sg\",\"sg\",\"sg\",\"sg\",\"sg\",\"sg\",\"al\",\"al\",\"al\",\"al\",\"al\",\"al\",\"al\",\"al\",\"al\",\"al\",\"al\",\"al\",\"al\",\"al\",\"al\",\"al\",\"al\",\"al\",\"al\",\"al\",\"al\",\"al\",\"al\",\"al\",\"al\",\"al\",\"al\",\"al\",\"al\",\"al\",\"al\",\"al\",\"al\",\"al\",\"al\",\"al\",\"al\",\"al\",\"al\",\"al\",\"al\",\"al\",\"al\",\"al\",\"al\",\"al\",\"al\",\"al\",\"al\",\"al\",\"al\",\"al\",\"al\",\"al\",\"al\",\"al\",\"al\",\"al\",\"al\",\"al\",\"al\",\"al\",\"al\",\"al\",\"al\",\"al\",\"al\",\"al\",\"al\",\"al\",\"al\",\"al\",\"al\",\"al\",\"al\",\"al\",\"al\",\"al\",\"al\",\"al\",\"al\",\"al\",\"al\",\"al\",\"al\",\"al\",\"al\",\"al\",\"al\",\"al\",\"al\",\"al\",\"al\",\"al\",\"al\",\"al\",\"al\",\"al\",\"al\",\"al\",\"al\",\"al\",\"al\",\"al\",\"al\",\"al\",\"al\",\"al\",\"al\",\"al\",\"al\",\"al\",\"al\",\"al\",\"al\",\"al\",\"al\",\"al\",\"al\",\"al\",\"al\",\"al\",\"al\",\"al\",\"al\",\"al\",\"al\",\"al\",\"al\",\"al\",\"al\",\"al\",\"al\",\"al\",\"al\",\"al\",\"al\",\"al\",\"al\",\"al\",\"al\",\"al\",\"al\",\"al\",\"al\",\"al\",\"al\",\"al\",\"al\",\"al\",\"al\",\"al\",\"al\",\"al\",\"al\",\"al\",\"al\",\"al\",\"al\",\"al\",\"al\",\"al\",\"al\",\"al\",\"al\",\"al\",\"al\",\"al\",\"al\",\"al\",\"al\",\"al\",\"al\",\"al\",\"al\",\"al\",\"al\",\"al\",\"al\",\"al\",\"al\",\"al\",\"al\",\"al\",\"al\",\"al\",\"al\",\"al\",\"al\",\"al\",\"al\",\"al\",\"al\",\"al\",\"al\",\"al\",\"al\",\"al\",\"al\",\"al\",\"al\",\"al\",\"al\",\"al\",\"al\",\"al\",\"al\",\"al\",\"al\",\"al\",\"al\",\"al\",\"al\",\"al\",\"al\",\"al\",\"al\",\"al\",\"al\",\"al\",\"al\",\"al\",\"al\",\"al\",\"al\",\"al\",\"al\",\"al\",\"al\",\"al\",\"al\",\"al\",\"al\",\"al\",\"al\",\"al\",\"al\",\"al\",\"al\",\"al\",\"al\",\"al\",\"al\",\"al\",\"al\",\"al\",\"al\",\"al\",\"al\",\"al\",\"al\",\"al\",\"al\",\"al\",\"al\",\"al\",\"al\",\"al\",\"al\",\"al\",\"al\",\"al\",\"al\",\"al\",\"al\",\"al\",\"al\",\"al\",\"al\",\"al\",\"al\",\"al\",\"al\",\"al\",\"al\",\"al\",\"al\",\"al\",\"al\",\"al\",\"al\",\"al\",\"al\",\"al\",\"al\",\"al\",\"al\",\"al\",\"al\",\"al\",\"al\",\"al\",\"al\",\"al\",\"al\",\"al\",\"al\",\"al\",\"al\",\"al\",\"al\",\"al\",\"al\",\"al\",\"al\",\"al\",\"al\",\"al\",\"al\",\"al\",\"al\",\"al\",\"al\",\"al\",\"al\",\"al\",\"al\",\"al\",\"al\",\"al\",\"al\",\"al\",\"al\",\"al\",\"al\",\"al\",\"al\",\"al\",\"al\",\"al\",\"al\",\"al\",\"al\",\"al\",\"al\",\"al\",\"al\",\"al\",\"al\",\"al\",\"al\",\"al\",\"al\",\"al\",\"al\",\"al\",\"al\",\"al\",\"al\",\"al\",\"al\",\"al\",\"al\",\"al\",\"al\",\"al\",\"al\",\"al\",\"al\",\"al\",\"al\",\"al\",\"al\",\"al\",\"al\",\"al\",\"al\",\"al\",\"al\",\"al\",\"al\",\"al\",\"al\",\"al\",\"al\",\"al\",\"al\",\"al\",\"al\",\"al\",\"al\",\"al\",\"al\",\"al\",\"al\",\"al\",\"al\",\"al\",\"al\",\"al\",\"al\",\"al\",\"al\",\"al\",\"al\",\"al\",\"al\",\"al\",\"al\",\"al\",\"su\",\"su\",\"su\",\"su\",\"su\",\"su\",\"su\",\"su\",\"su\",\"su\",\"su\",\"su\",\"su\",\"su\",\"su\",\"su\",\"su\",\"su\",\"su\",\"su\",\"su\",\"su\",\"su\",\"su\",\"su\",\"su\",\"su\",\"su\",\"su\",\"su\",\"su\",\"su\",\"su\",\"su\",\"su\",\"su\",\"su\",\"su\",\"su\",\"su\",\"su\",\"su\",\"su\",\"su\",\"su\",\"su\",\"su\",\"su\",\"su\",\"su\",\"su\",\"su\",\"su\",\"su\",\"su\",\"su\",\"su\",\"su\",\"su\",\"su\",\"su\",\"su\",\"su\",\"su\",\"su\",\"su\",\"su\",\"su\",\"su\",\"su\",\"su\",\"su\",\"su\",\"su\",\"su\",\"su\",\"su\",\"su\",\"su\",\"su\",\"su\",\"su\",\"su\",\"su\",\"su\",\"su\",\"su\",\"su\",\"su\",\"su\",\"su\",\"su\",\"su\",\"su\",\"su\",\"su\",\"su\",\"su\",\"su\",\"su\",\"su\",\"su\",\"su\",\"su\",\"su\",\"su\",\"su\",\"su\",\"su\",\"su\",\"su\",\"su\",\"su\",\"su\",\"su\",\"su\",\"su\",\"su\",\"su\",\"su\",\"su\",\"su\",\"su\",\"su\",\"su\",\"su\",\"su\",\"su\",\"su\",\"su\",\"su\",\"su\",\"su\",\"su\",\"su\",\"su\",\"su\",\"su\",\"su\",\"su\",\"su\",\"su\",\"su\",\"su\",\"su\",\"su\",\"su\",\"su\",\"su\",\"su\",\"su\",\"su\",\"su\",\"su\",\"su\",\"su\",\"su\",\"su\",\"su\",\"su\",\"su\",\"su\",\"su\",\"su\",\"su\",\"su\",\"su\",\"su\",\"su\",\"su\",\"su\",\"su\",\"su\",\"su\",\"su\",\"su\",\"su\",\"su\",\"su\",\"su\",\"su\",\"su\",\"su\",\"su\",\"su\",\"su\",\"su\",\"su\",\"su\",\"su\",\"su\",\"su\",\"su\",\"su\",\"su\",\"su\",\"su\",\"su\",\"su\",\"su\",\"su\",\"su\",\"su\",\"su\",\"su\",\"su\",\"su\",\"su\",\"su\",\"su\",\"su\",\"su\",\"su\",\"su\",\"su\",\"su\",\"su\",\"su\",\"su\",\"su\",\"su\",\"su\",\"su\",\"su\",\"su\",\"su\",\"su\",\"su\",\"su\",\"su\",\"su\",\"su\",\"su\",\"su\",\"su\",\"su\",\"su\",\"su\",\"su\",\"su\",\"su\",\"su\",\"su\",\"su\",\"su\",\"su\",\"su\",\"su\",\"su\",\"su\",\"su\",\"su\",\"su\",\"su\",\"su\",\"su\",\"su\",\"su\",\"su\",\"su\",\"su\",\"su\",\"su\",\"su\",\"su\",\"su\",\"su\",\"su\",\"su\",\"su\",\"su\",\"su\",\"su\",\"su\",\"su\",\"su\",\"su\",\"su\",\"su\",\"su\",\"su\",\"su\",\"su\",\"su\",\"su\",\"su\",\"su\",\"su\",\"su\",\"su\",\"su\",\"su\",\"su\",\"su\",\"su\",\"su\",\"su\",\"su\",\"su\",\"su\",\"su\",\"su\",\"su\",\"su\",\"su\",\"su\",\"su\",\"su\",\"su\",\"su\",\"su\",\"su\",\"su\",\"su\",\"su\",\"su\",\"su\",\"su\",\"su\",\"su\",\"su\",\"su\",\"su\",\"su\",\"su\",\"su\",\"su\",\"su\",\"su\",\"su\",\"su\",\"su\",\"su\",\"su\",\"su\",\"su\",\"su\",\"su\",\"su\",\"su\",\"su\",\"su\",\"su\",\"su\",\"su\",\"su\",\"su\",\"su\",\"su\",\"su\",\"su\",\"su\",\"su\",\"su\",\"su\",\"su\",\"su\",\"su\",\"su\",\"su\",\"su\",\"su\",\"su\",\"su\",\"su\",\"su\",\"su\",\"su\",\"su\",\"su\",\"su\",\"su\",\"su\",\"su\",\"su\",\"su\",\"su\",\"su\",\"su\",\"su\",\"su\",\"su\",\"su\",\"su\",\"su\",\"su\",\"su\",\"su\",\"su\",\"su\",\"su\",\"su\",\"su\",\"su\",\"su\",\"su\",\"su\",\"su\",\"su\",\"su\",\"bgr\",\"bgr\",\"bgr\",\"bgr\",\"bgr\",\"bgr\",\"bgr\",\"bgr\",\"bgr\",\"bgr\",\"bgr\",\"bgr\",\"bgr\",\"bgr\",\"bgr\",\"bgr\",\"bgr\",\"bgr\",\"bgr\",\"bgr\",\"bgr\",\"bgr\",\"bgr\",\"bgr\",\"bgr\",\"bgr\",\"bgr\",\"bgr\",\"bgr\",\"bgr\",\"bgr\",\"bgr\",\"bgr\",\"bgr\",\"bgr\",\"bgr\",\"bgr\",\"bgr\",\"bgr\",\"bgr\",\"bgr\",\"bgr\",\"bgr\",\"bgr\",\"bgr\",\"bgr\",\"bgr\",\"bgr\",\"bgr\",\"bgr\",\"bgr\",\"bgr\",\"bgr\",\"bgr\",\"bgr\",\"bgr\",\"bgr\",\"bgr\",\"bgr\",\"bgr\",\"bgr\",\"bgr\",\"bgr\",\"bgr\",\"bgr\",\"bgr\",\"bgr\",\"bgr\",\"bgr\",\"bgr\",\"bgr\",\"bgr\",\"bgr\",\"bgr\",\"bgr\",\"bgr\",\"bgr\",\"bgr\",\"bgr\",\"bgr\",\"bgr\",\"bgr\",\"bgr\",\"bgr\",\"bgr\",\"bgr\",\"bgr\",\"bgr\",\"bgr\",\"bgr\",\"bgr\",\"bgr\",\"bgr\",\"bgr\",\"bgr\",\"bgr\",\"bgr\",\"bgr\",\"bgr\",\"bgr\",\"bgr\",\"bgr\",\"bgr\",\"bgr\",\"bgr\",\"bgr\",\"bgr\",\"bgr\",\"bgr\",\"bgr\",\"bgr\",\"bgr\",\"bgr\",\"bgr\",\"bgr\",\"bgr\",\"bgr\",\"bgr\",\"bgr\",\"bgr\",\"bgr\",\"bgr\",\"bgr\",\"bgr\",\"bgr\",\"bgr\",\"bgr\",\"bgr\",\"bgr\",\"bgr\",\"bgr\",\"bgr\",\"bgr\",\"bgr\",\"bgr\",\"bgr\",\"bgr\",\"bgr\",\"bgr\",\"bgr\",\"bgr\",\"bgr\",\"bgr\",\"bgr\",\"bgr\",\"bgr\",\"bgr\",\"bgr\",\"bgr\",\"bgr\",\"bgr\",\"bgr\",\"bgr\",\"bgr\",\"bgr\",\"bgr\",\"bgr\",\"bgr\",\"bgr\",\"bgr\",\"bgr\",\"bgr\",\"bgr\",\"bgr\",\"bgr\",\"bgr\",\"bgr\",\"bgr\",\"bgr\",\"bgr\",\"bgr\",\"bgr\",\"bgr\",\"bgr\",\"bgr\",\"bgr\",\"bgr\",\"bgr\",\"bgr\",\"bgr\",\"bgr\",\"bgr\",\"bgr\",\"bgr\",\"bgr\",\"bgr\",\"bgr\",\"bgr\",\"bgr\",\"bgr\",\"bgr\",\"bgr\",\"bgr\",\"bgr\",\"bgr\",\"bgr\",\"bgr\",\"bgr\",\"bgr\",\"bgr\",\"bgr\",\"bgr\",\"bgr\",\"bgr\",\"bgr\",\"bgr\",\"bgr\",\"bgr\",\"bgr\",\"bgr\",\"bgr\",\"bgr\",\"bgr\",\"bgr\",\"bgr\",\"bgr\",\"bgr\",\"bgr\",\"bgr\",\"bgr\",\"bgr\",\"bgr\",\"bgr\",\"bgr\",\"bgr\",\"bgr\",\"bgr\",\"bgr\",\"bgr\",\"bgr\",\"bgr\",\"bgr\",\"bgr\",\"bgr\",\"bgr\",\"bgr\",\"bgr\",\"bgr\",\"bgr\",\"bgr\",\"bgr\",\"bgr\",\"bgr\",\"bgr\",\"bgr\",\"bgr\",\"bgr\",\"bgr\",\"bgr\",\"bgr\",\"bgr\",\"bgr\",\"bgr\",\"bgr\",\"bgr\",\"bgr\",\"bgr\",\"bgr\",\"bgr\",\"bgr\",\"bgr\",\"bgr\",\"bgr\",\"bgr\",\"bgr\",\"bgr\",\"bgr\",\"bgr\",\"bgr\",\"bgr\",\"bgr\",\"bgr\",\"bgr\",\"bgr\",\"bgr\",\"bgr\",\"bgr\",\"bgr\",\"bgr\",\"bgr\",\"bgr\",\"bgr\",\"bgr\",\"bgr\",\"bgr\",\"bgr\",\"bgr\",\"bgr\",\"bgr\",\"bgr\",\"bgr\",\"bgr\",\"bgr\",\"bgr\",\"bgr\",\"bgr\",\"bgr\",\"bgr\",\"bgr\",\"bgr\",\"bgr\",\"bgr\",\"bgr\",\"bgr\",\"bgr\",\"bgr\",\"bgr\",\"bgr\",\"bgr\",\"bgr\",\"bgr\",\"bgr\",\"bgr\",\"bgr\",\"bgr\",\"bgr\",\"bgr\",\"bgr\",\"bgr\",\"bgr\",\"bgr\",\"bgr\",\"bgr\",\"bgr\",\"bgr\",\"bgr\",\"bgr\",\"bgr\",\"bgr\",\"bgr\",\"bgr\",\"bgr\",\"bgr\",\"bgr\",\"bgr\",\"bgr\",\"bgr\",\"bgr\",\"bgr\",\"bgr\",\"bgr\",\"bgr\",\"bgr\",\"bgr\",\"bgr\",\"bgr\",\"bgr\",\"bgr\",\"bgr\",\"bgr\",\"bgr\",\"bgr\",\"bgr\",\"bgr\",\"bgr\",\"bgr\",\"bgr\",\"bgr\",\"bgr\",\"bgr\",\"bgr\",\"bgr\",\"bgr\",\"bgr\",\"bgr\",\"bgr\",\"bgr\",\"bgr\",\"bgr\",\"bgr\",\"bgr\",\"bgr\",\"bgr\",\"bgr\",\"bgr\",\"bgr\",\"bgr\",\"bgr\",\"bgr\",\"bgr\",\"bgr\",\"bgr\",\"bgr\",\"bgr\",\"bgr\",\"bgr\",\"bgr\",\"bgr\",\"bgr\",\"bgr\",\"bgr\",\"bgr\",\"bgr\",\"bgr\",\"bgr\",\"bgr\",\"bgr\",\"bgr\",\"bgr\",\"bgr\",\"bu\",\"bu\",\"bu\",\"bu\",\"bu\",\"bu\",\"bu\",\"bu\",\"bu\",\"bu\",\"bu\",\"bu\",\"bu\",\"bu\",\"bu\",\"bu\",\"bu\",\"bu\",\"bu\",\"bu\",\"bu\",\"bu\",\"bu\",\"bu\",\"bu\",\"bu\",\"bu\",\"bu\",\"bu\",\"bu\",\"bu\",\"bu\",\"bu\",\"bu\",\"bu\",\"bu\",\"bu\",\"bu\",\"bu\",\"bu\",\"bu\",\"bu\",\"bu\",\"bu\",\"bu\",\"bu\",\"bu\",\"bu\",\"bu\",\"bu\",\"bu\",\"bu\",\"bu\",\"bu\",\"bu\",\"bu\",\"bu\",\"bu\",\"bu\",\"bu\",\"bu\",\"bu\",\"bu\",\"bu\",\"bu\",\"bu\",\"bu\",\"bu\",\"bu\",\"bu\",\"bu\",\"bu\",\"bu\",\"bu\",\"bu\",\"bu\",\"bu\",\"bu\",\"bu\",\"bu\",\"bu\",\"bu\",\"bu\",\"bu\",\"bu\",\"bu\",\"bu\",\"bu\",\"bu\",\"bu\",\"bu\",\"bu\",\"bu\",\"bu\",\"bu\",\"bu\",\"bu\",\"bu\",\"bu\",\"bu\",\"bu\",\"bu\",\"bu\",\"bu\",\"bu\",\"bu\",\"bu\",\"bu\",\"bu\",\"bu\",\"bu\",\"bu\",\"bu\",\"bu\",\"bu\",\"bu\",\"bu\",\"bu\",\"bu\",\"bu\",\"bu\",\"bu\",\"bu\",\"bu\",\"bu\",\"bu\",\"bu\",\"bu\",\"bu\",\"bu\",\"bu\",\"bu\",\"bu\",\"bu\",\"bu\",\"bu\",\"bu\",\"bu\",\"bu\",\"bu\",\"bu\",\"bu\",\"bu\",\"bu\",\"bu\",\"bu\",\"bu\",\"bu\",\"bu\",\"bu\",\"bu\",\"bu\",\"bu\",\"bu\",\"bu\",\"bu\",\"bu\",\"bu\",\"bu\",\"bu\",\"bu\",\"bu\",\"bu\",\"bu\",\"bu\",\"bu\",\"bu\",\"bu\",\"bu\",\"bu\",\"bu\",\"bu\",\"bu\",\"bu\",\"bu\",\"bu\",\"bu\",\"bu\",\"bu\",\"bu\",\"bu\",\"bu\",\"bu\",\"bu\",\"bu\",\"bu\",\"bu\",\"bu\",\"bu\",\"bu\",\"bu\",\"bu\",\"bu\",\"bu\",\"bu\",\"bu\",\"bu\",\"bu\",\"bu\",\"bu\",\"bu\",\"bu\",\"bu\",\"bu\",\"bu\",\"bu\",\"bu\",\"bu\",\"bu\",\"bu\",\"bu\",\"bu\",\"bu\",\"bu\",\"bu\",\"bu\",\"bu\",\"bu\",\"bu\",\"bu\",\"bu\",\"bu\",\"bu\",\"bu\",\"bu\",\"bu\",\"bu\",\"bu\",\"bu\",\"bu\",\"bu\",\"bu\",\"bu\",\"bu\",\"bu\",\"bu\",\"bu\",\"bu\",\"bu\",\"bu\",\"bu\",\"bu\",\"bu\",\"bu\",\"bu\",\"bu\",\"bu\",\"bu\",\"bu\",\"bu\",\"bu\",\"bu\",\"bu\",\"bu\",\"bu\",\"bu\",\"bu\",\"bu\",\"bu\",\"bu\",\"bu\",\"bu\",\"bu\",\"bu\",\"bu\",\"bu\",\"bu\",\"bu\",\"bu\",\"bu\",\"bu\",\"bu\",\"bu\",\"bu\",\"bu\",\"bu\",\"bu\",\"bu\",\"bu\",\"bu\",\"bu\",\"bu\",\"bu\",\"bu\",\"bu\",\"bu\",\"bu\",\"bu\",\"bu\",\"bu\",\"bu\",\"bu\",\"bu\",\"bu\",\"bu\",\"bu\",\"bu\",\"bu\",\"bu\",\"bu\",\"bu\",\"bu\",\"bu\",\"bu\",\"bu\",\"bu\",\"bu\",\"bu\",\"bu\",\"bu\",\"bu\",\"bu\",\"bu\",\"bu\",\"bu\",\"bu\",\"bu\",\"bu\",\"bu\",\"bu\",\"bu\",\"bu\",\"bu\",\"bu\",\"bu\",\"bu\",\"bu\",\"bu\",\"bu\",\"bu\",\"bu\",\"bu\",\"bu\",\"bu\",\"bu\",\"bu\",\"bu\",\"bu\",\"bu\",\"bu\",\"bu\",\"bu\",\"bu\",\"bu\",\"bu\",\"bu\",\"bu\",\"bu\",\"bu\",\"bu\",\"bu\",\"bu\",\"bu\",\"bu\",\"bu\",\"bu\",\"bu\",\"bu\",\"bu\",\"bu\",\"bu\",\"bu\",\"bu\",\"bu\",\"bu\",\"bu\",\"bu\",\"bu\",\"bu\",\"bu\",\"bu\",\"bu\",\"bu\",\"bu\",\"bu\",\"bu\",\"bu\",\"bu\",\"bu\",\"bu\",\"bu\",\"bu\",\"bu\",\"bu\",\"bu\",\"bu\",\"bu\",\"bu\",\"bu\",\"bu\",\"bu\",\"bu\",\"bu\",\"bu\",\"bu\",\"bu\",\"bu\",\"bu\",\"bu\",\"bu\",\"sc\",\"sc\",\"sc\",\"sc\",\"sc\",\"sc\",\"sc\",\"sc\",\"sc\",\"sc\",\"sc\",\"sc\",\"sc\",\"sc\",\"sc\",\"sc\",\"sc\",\"sc\",\"sc\",\"sc\",\"sc\",\"sc\",\"sc\",\"sc\",\"sc\",\"sc\",\"sc\",\"sc\",\"sc\",\"sc\",\"sc\",\"sc\",\"sc\",\"sc\",\"sc\",\"sc\",\"sc\",\"sc\",\"sc\",\"sc\",\"sc\",\"sc\",\"sc\",\"sc\",\"sc\",\"sc\",\"sc\",\"sc\",\"sc\",\"sc\",\"sc\",\"sc\",\"sc\",\"sc\",\"sc\",\"sc\",\"sc\",\"sc\",\"sc\",\"sc\",\"sc\",\"sc\",\"sc\",\"sc\",\"sc\",\"sc\",\"sc\",\"sc\",\"sc\",\"sc\",\"sc\",\"sc\",\"sc\",\"sc\",\"sc\",\"sc\",\"sc\",\"sc\",\"sc\",\"sc\",\"sc\",\"sc\",\"sc\",\"sc\",\"sc\",\"sc\",\"sc\",\"sc\",\"sc\",\"sc\",\"sc\",\"sc\",\"sc\",\"sc\",\"sc\",\"sc\",\"sc\",\"sc\",\"sc\",\"sc\",\"sc\",\"sc\",\"sc\",\"sc\",\"sc\",\"sc\",\"sc\",\"sc\",\"sc\",\"sc\",\"sc\",\"sc\",\"sc\",\"sc\",\"sc\",\"sc\",\"sc\",\"sc\",\"sc\",\"sc\",\"sc\",\"sc\",\"sc\",\"sc\",\"sc\",\"sc\",\"sc\",\"sc\",\"sc\",\"sc\",\"sc\",\"sc\",\"sc\",\"sc\",\"sc\",\"sc\",\"sc\",\"sc\",\"sc\",\"sc\",\"sc\",\"sc\",\"sc\",\"sc\",\"sc\",\"sc\",\"sc\",\"sc\",\"sc\",\"sc\",\"sc\",\"sc\",\"sc\",\"sc\",\"sc\",\"sc\",\"sc\",\"sc\",\"sc\",\"sc\",\"sc\",\"sc\",\"sc\",\"sc\",\"sc\",\"sc\",\"sc\",\"sc\",\"sc\",\"sc\",\"sc\",\"sc\",\"sc\",\"sc\",\"sc\",\"sc\",\"sc\",\"sc\",\"sc\",\"sc\",\"sc\",\"sc\",\"sc\",\"sc\",\"sc\",\"sc\",\"sc\",\"sc\",\"sc\",\"sc\",\"sc\",\"sc\",\"sc\",\"sc\",\"sc\",\"sc\",\"sc\",\"sc\",\"sc\",\"sc\",\"sc\",\"sc\",\"sc\",\"sc\",\"sc\",\"sc\",\"sc\",\"sc\",\"sc\",\"sc\",\"sc\",\"sc\",\"sc\",\"sc\",\"sc\",\"sc\",\"sc\",\"sc\",\"sc\",\"sc\",\"sc\",\"sc\",\"sc\",\"sc\",\"sc\",\"sc\",\"sc\",\"sc\",\"sc\",\"sc\",\"sc\",\"sc\",\"sc\",\"sc\",\"sc\",\"sc\",\"sc\",\"sc\",\"sc\",\"sc\",\"sc\",\"sc\",\"sc\",\"sc\",\"sc\",\"sc\",\"sc\",\"sc\",\"sc\",\"sc\",\"sc\",\"sc\",\"sc\",\"sc\",\"sc\",\"sc\",\"sc\",\"sc\",\"sc\",\"sc\",\"sc\",\"sc\",\"sc\",\"sc\",\"sc\",\"sc\",\"sc\",\"sc\",\"sc\",\"sc\",\"sc\",\"sc\",\"sc\",\"sc\",\"sc\",\"sc\",\"sc\",\"sc\",\"sc\",\"sc\",\"sc\",\"sc\",\"sc\",\"sc\",\"sc\",\"sc\",\"sc\",\"sc\",\"sc\",\"sc\",\"sc\",\"sc\",\"sc\",\"sc\",\"sc\",\"sc\",\"sc\",\"sc\",\"sc\",\"sc\",\"sc\",\"sc\",\"sc\",\"sc\",\"sc\",\"sc\",\"sc\",\"sc\",\"sc\",\"sc\",\"sc\",\"sc\",\"sc\",\"sc\",\"sc\",\"sc\",\"sc\",\"sc\",\"sc\",\"sc\",\"sc\",\"sc\",\"sc\",\"sc\",\"sc\",\"sc\",\"sc\",\"sc\",\"sc\",\"sc\",\"sc\",\"sc\",\"sc\",\"sc\",\"sc\",\"sc\",\"sc\",\"sc\",\"sc\",\"sc\",\"sc\",\"sc\",\"sc\",\"sc\",\"sc\",\"sc\",\"sc\",\"sc\",\"sc\",\"sc\",\"sc\",\"sc\",\"sc\",\"sc\",\"sc\",\"sc\",\"sc\",\"sc\",\"sc\",\"sc\",\"sc\",\"sc\",\"sc\",\"sc\",\"sc\",\"sc\",\"sc\",\"sc\",\"sc\",\"sc\",\"sc\",\"sc\",\"sc\",\"sc\",\"sc\",\"sc\",\"sc\",\"sc\",\"sc\",\"sc\",\"sc\",\"sc\",\"sc\",\"sc\",\"sc\",\"sc\",\"sc\",\"sc\",\"sc\",\"sc\",\"sc\",\"sc\",\"sc\",\"sc\",\"sc\",\"sc\",\"sc\",\"sc\",\"sc\",\"sc\",\"sod\",\"sod\",\"sod\",\"sod\",\"sod\",\"sod\",\"sod\",\"sod\",\"sod\",\"sod\",\"sod\",\"sod\",\"sod\",\"sod\",\"sod\",\"sod\",\"sod\",\"sod\",\"sod\",\"sod\",\"sod\",\"sod\",\"sod\",\"sod\",\"sod\",\"sod\",\"sod\",\"sod\",\"sod\",\"sod\",\"sod\",\"sod\",\"sod\",\"sod\",\"sod\",\"sod\",\"sod\",\"sod\",\"sod\",\"sod\",\"sod\",\"sod\",\"sod\",\"sod\",\"sod\",\"sod\",\"sod\",\"sod\",\"sod\",\"sod\",\"sod\",\"sod\",\"sod\",\"sod\",\"sod\",\"sod\",\"sod\",\"sod\",\"sod\",\"sod\",\"sod\",\"sod\",\"sod\",\"sod\",\"sod\",\"sod\",\"sod\",\"sod\",\"sod\",\"sod\",\"sod\",\"sod\",\"sod\",\"sod\",\"sod\",\"sod\",\"sod\",\"sod\",\"sod\",\"sod\",\"sod\",\"sod\",\"sod\",\"sod\",\"sod\",\"sod\",\"sod\",\"sod\",\"sod\",\"sod\",\"sod\",\"sod\",\"sod\",\"sod\",\"sod\",\"sod\",\"sod\",\"sod\",\"sod\",\"sod\",\"sod\",\"sod\",\"sod\",\"sod\",\"sod\",\"sod\",\"sod\",\"sod\",\"sod\",\"sod\",\"sod\",\"sod\",\"sod\",\"sod\",\"sod\",\"sod\",\"sod\",\"sod\",\"sod\",\"sod\",\"sod\",\"sod\",\"sod\",\"sod\",\"sod\",\"sod\",\"sod\",\"sod\",\"sod\",\"sod\",\"sod\",\"sod\",\"sod\",\"sod\",\"sod\",\"sod\",\"sod\",\"sod\",\"sod\",\"sod\",\"sod\",\"sod\",\"sod\",\"sod\",\"sod\",\"sod\",\"sod\",\"sod\",\"sod\",\"sod\",\"sod\",\"sod\",\"sod\",\"sod\",\"sod\",\"sod\",\"sod\",\"sod\",\"sod\",\"sod\",\"sod\",\"sod\",\"sod\",\"sod\",\"sod\",\"sod\",\"sod\",\"sod\",\"sod\",\"sod\",\"sod\",\"sod\",\"sod\",\"sod\",\"sod\",\"sod\",\"sod\",\"sod\",\"sod\",\"sod\",\"sod\",\"sod\",\"sod\",\"sod\",\"sod\",\"sod\",\"sod\",\"sod\",\"sod\",\"sod\",\"sod\",\"sod\",\"sod\",\"sod\",\"sod\",\"sod\",\"sod\",\"sod\",\"sod\",\"sod\",\"sod\",\"sod\",\"sod\",\"sod\",\"sod\",\"sod\",\"sod\",\"sod\",\"sod\",\"sod\",\"sod\",\"sod\",\"sod\",\"sod\",\"sod\",\"sod\",\"sod\",\"sod\",\"sod\",\"sod\",\"sod\",\"sod\",\"sod\",\"sod\",\"sod\",\"sod\",\"sod\",\"sod\",\"sod\",\"sod\",\"sod\",\"sod\",\"sod\",\"sod\",\"sod\",\"sod\",\"sod\",\"sod\",\"sod\",\"sod\",\"sod\",\"sod\",\"sod\",\"sod\",\"sod\",\"sod\",\"sod\",\"sod\",\"sod\",\"sod\",\"sod\",\"sod\",\"sod\",\"sod\",\"sod\",\"sod\",\"sod\",\"sod\",\"sod\",\"sod\",\"sod\",\"sod\",\"sod\",\"sod\",\"sod\",\"sod\",\"sod\",\"sod\",\"sod\",\"sod\",\"sod\",\"sod\",\"sod\",\"sod\",\"sod\",\"sod\",\"sod\",\"sod\",\"sod\",\"sod\",\"sod\",\"sod\",\"sod\",\"sod\",\"sod\",\"sod\",\"sod\",\"sod\",\"sod\",\"sod\",\"sod\",\"sod\",\"sod\",\"sod\",\"sod\",\"sod\",\"sod\",\"sod\",\"sod\",\"sod\",\"sod\",\"sod\",\"sod\",\"sod\",\"sod\",\"sod\",\"sod\",\"sod\",\"sod\",\"sod\",\"sod\",\"sod\",\"sod\",\"sod\",\"sod\",\"sod\",\"sod\",\"sod\",\"sod\",\"sod\",\"sod\",\"sod\",\"sod\",\"sod\",\"sod\",\"sod\",\"sod\",\"sod\",\"sod\",\"sod\",\"sod\",\"sod\",\"sod\",\"sod\",\"sod\",\"sod\",\"sod\",\"sod\",\"sod\",\"sod\",\"sod\",\"sod\",\"sod\",\"sod\",\"sod\",\"sod\",\"sod\",\"sod\",\"sod\",\"sod\",\"sod\",\"sod\",\"sod\",\"sod\",\"sod\",\"sod\",\"sod\",\"sod\",\"sod\",\"sod\",\"sod\",\"sod\",\"sod\",\"sod\",\"sod\",\"sod\",\"sod\",\"sod\",\"sod\",\"sod\",\"sod\",\"sod\",\"sod\",\"sod\",\"sod\",\"sod\",\"sod\",\"sod\",\"sod\",\"sod\",\"sod\",\"sod\",\"sod\",\"sod\",\"sod\",\"sod\",\"sod\",\"sod\",\"sod\",\"sod\",\"sod\",\"sod\",\"sod\",\"sod\",\"sod\",\"sod\",\"sod\",\"sod\",\"sod\",\"sod\",\"pot\",\"pot\",\"pot\",\"pot\",\"pot\",\"pot\",\"pot\",\"pot\",\"pot\",\"pot\",\"pot\",\"pot\",\"pot\",\"pot\",\"pot\",\"pot\",\"pot\",\"pot\",\"pot\",\"pot\",\"pot\",\"pot\",\"pot\",\"pot\",\"pot\",\"pot\",\"pot\",\"pot\",\"pot\",\"pot\",\"pot\",\"pot\",\"pot\",\"pot\",\"pot\",\"pot\",\"pot\",\"pot\",\"pot\",\"pot\",\"pot\",\"pot\",\"pot\",\"pot\",\"pot\",\"pot\",\"pot\",\"pot\",\"pot\",\"pot\",\"pot\",\"pot\",\"pot\",\"pot\",\"pot\",\"pot\",\"pot\",\"pot\",\"pot\",\"pot\",\"pot\",\"pot\",\"pot\",\"pot\",\"pot\",\"pot\",\"pot\",\"pot\",\"pot\",\"pot\",\"pot\",\"pot\",\"pot\",\"pot\",\"pot\",\"pot\",\"pot\",\"pot\",\"pot\",\"pot\",\"pot\",\"pot\",\"pot\",\"pot\",\"pot\",\"pot\",\"pot\",\"pot\",\"pot\",\"pot\",\"pot\",\"pot\",\"pot\",\"pot\",\"pot\",\"pot\",\"pot\",\"pot\",\"pot\",\"pot\",\"pot\",\"pot\",\"pot\",\"pot\",\"pot\",\"pot\",\"pot\",\"pot\",\"pot\",\"pot\",\"pot\",\"pot\",\"pot\",\"pot\",\"pot\",\"pot\",\"pot\",\"pot\",\"pot\",\"pot\",\"pot\",\"pot\",\"pot\",\"pot\",\"pot\",\"pot\",\"pot\",\"pot\",\"pot\",\"pot\",\"pot\",\"pot\",\"pot\",\"pot\",\"pot\",\"pot\",\"pot\",\"pot\",\"pot\",\"pot\",\"pot\",\"pot\",\"pot\",\"pot\",\"pot\",\"pot\",\"pot\",\"pot\",\"pot\",\"pot\",\"pot\",\"pot\",\"pot\",\"pot\",\"pot\",\"pot\",\"pot\",\"pot\",\"pot\",\"pot\",\"pot\",\"pot\",\"pot\",\"pot\",\"pot\",\"pot\",\"pot\",\"pot\",\"pot\",\"pot\",\"pot\",\"pot\",\"pot\",\"pot\",\"pot\",\"pot\",\"pot\",\"pot\",\"pot\",\"pot\",\"pot\",\"pot\",\"pot\",\"pot\",\"pot\",\"pot\",\"pot\",\"pot\",\"pot\",\"pot\",\"pot\",\"pot\",\"pot\",\"pot\",\"pot\",\"pot\",\"pot\",\"pot\",\"pot\",\"pot\",\"pot\",\"pot\",\"pot\",\"pot\",\"pot\",\"pot\",\"pot\",\"pot\",\"pot\",\"pot\",\"pot\",\"pot\",\"pot\",\"pot\",\"pot\",\"pot\",\"pot\",\"pot\",\"pot\",\"pot\",\"pot\",\"pot\",\"pot\",\"pot\",\"pot\",\"pot\",\"pot\",\"pot\",\"pot\",\"pot\",\"pot\",\"pot\",\"pot\",\"pot\",\"pot\",\"pot\",\"pot\",\"pot\",\"pot\",\"pot\",\"pot\",\"pot\",\"pot\",\"pot\",\"pot\",\"pot\",\"pot\",\"pot\",\"pot\",\"pot\",\"pot\",\"pot\",\"pot\",\"pot\",\"pot\",\"pot\",\"pot\",\"pot\",\"pot\",\"pot\",\"pot\",\"pot\",\"pot\",\"pot\",\"pot\",\"pot\",\"pot\",\"pot\",\"pot\",\"pot\",\"pot\",\"pot\",\"pot\",\"pot\",\"pot\",\"pot\",\"pot\",\"pot\",\"pot\",\"pot\",\"pot\",\"pot\",\"pot\",\"pot\",\"pot\",\"pot\",\"pot\",\"pot\",\"pot\",\"pot\",\"pot\",\"pot\",\"pot\",\"pot\",\"pot\",\"pot\",\"pot\",\"pot\",\"pot\",\"pot\",\"pot\",\"pot\",\"pot\",\"pot\",\"pot\",\"pot\",\"pot\",\"pot\",\"pot\",\"pot\",\"pot\",\"pot\",\"pot\",\"pot\",\"pot\",\"pot\",\"pot\",\"pot\",\"pot\",\"pot\",\"pot\",\"pot\",\"pot\",\"pot\",\"pot\",\"pot\",\"pot\",\"pot\",\"pot\",\"pot\",\"pot\",\"pot\",\"pot\",\"pot\",\"pot\",\"pot\",\"pot\",\"pot\",\"pot\",\"pot\",\"pot\",\"pot\",\"pot\",\"pot\",\"pot\",\"pot\",\"pot\",\"pot\",\"pot\",\"pot\",\"pot\",\"pot\",\"pot\",\"pot\",\"pot\",\"pot\",\"pot\",\"pot\",\"pot\",\"pot\",\"pot\",\"pot\",\"pot\",\"pot\",\"pot\",\"pot\",\"pot\",\"pot\",\"pot\",\"pot\",\"pot\",\"pot\",\"pot\",\"pot\",\"pot\",\"pot\",\"pot\",\"pot\",\"pot\",\"pot\",\"pot\",\"pot\",\"pot\",\"pot\",\"pot\",\"pot\",\"pot\",\"pot\",\"pot\",\"pot\",\"pot\",\"pot\",\"pot\",\"pot\",\"pot\",\"pot\",\"pot\",\"pot\",\"pot\",\"pot\",\"hemo\",\"hemo\",\"hemo\",\"hemo\",\"hemo\",\"hemo\",\"hemo\",\"hemo\",\"hemo\",\"hemo\",\"hemo\",\"hemo\",\"hemo\",\"hemo\",\"hemo\",\"hemo\",\"hemo\",\"hemo\",\"hemo\",\"hemo\",\"hemo\",\"hemo\",\"hemo\",\"hemo\",\"hemo\",\"hemo\",\"hemo\",\"hemo\",\"hemo\",\"hemo\",\"hemo\",\"hemo\",\"hemo\",\"hemo\",\"hemo\",\"hemo\",\"hemo\",\"hemo\",\"hemo\",\"hemo\",\"hemo\",\"hemo\",\"hemo\",\"hemo\",\"hemo\",\"hemo\",\"hemo\",\"hemo\",\"hemo\",\"hemo\",\"hemo\",\"hemo\",\"hemo\",\"hemo\",\"hemo\",\"hemo\",\"hemo\",\"hemo\",\"hemo\",\"hemo\",\"hemo\",\"hemo\",\"hemo\",\"hemo\",\"hemo\",\"hemo\",\"hemo\",\"hemo\",\"hemo\",\"hemo\",\"hemo\",\"hemo\",\"hemo\",\"hemo\",\"hemo\",\"hemo\",\"hemo\",\"hemo\",\"hemo\",\"hemo\",\"hemo\",\"hemo\",\"hemo\",\"hemo\",\"hemo\",\"hemo\",\"hemo\",\"hemo\",\"hemo\",\"hemo\",\"hemo\",\"hemo\",\"hemo\",\"hemo\",\"hemo\",\"hemo\",\"hemo\",\"hemo\",\"hemo\",\"hemo\",\"hemo\",\"hemo\",\"hemo\",\"hemo\",\"hemo\",\"hemo\",\"hemo\",\"hemo\",\"hemo\",\"hemo\",\"hemo\",\"hemo\",\"hemo\",\"hemo\",\"hemo\",\"hemo\",\"hemo\",\"hemo\",\"hemo\",\"hemo\",\"hemo\",\"hemo\",\"hemo\",\"hemo\",\"hemo\",\"hemo\",\"hemo\",\"hemo\",\"hemo\",\"hemo\",\"hemo\",\"hemo\",\"hemo\",\"hemo\",\"hemo\",\"hemo\",\"hemo\",\"hemo\",\"hemo\",\"hemo\",\"hemo\",\"hemo\",\"hemo\",\"hemo\",\"hemo\",\"hemo\",\"hemo\",\"hemo\",\"hemo\",\"hemo\",\"hemo\",\"hemo\",\"hemo\",\"hemo\",\"hemo\",\"hemo\",\"hemo\",\"hemo\",\"hemo\",\"hemo\",\"hemo\",\"hemo\",\"hemo\",\"hemo\",\"hemo\",\"hemo\",\"hemo\",\"hemo\",\"hemo\",\"hemo\",\"hemo\",\"hemo\",\"hemo\",\"hemo\",\"hemo\",\"hemo\",\"hemo\",\"hemo\",\"hemo\",\"hemo\",\"hemo\",\"hemo\",\"hemo\",\"hemo\",\"hemo\",\"hemo\",\"hemo\",\"hemo\",\"hemo\",\"hemo\",\"hemo\",\"hemo\",\"hemo\",\"hemo\",\"hemo\",\"hemo\",\"hemo\",\"hemo\",\"hemo\",\"hemo\",\"hemo\",\"hemo\",\"hemo\",\"hemo\",\"hemo\",\"hemo\",\"hemo\",\"hemo\",\"hemo\",\"hemo\",\"hemo\",\"hemo\",\"hemo\",\"hemo\",\"hemo\",\"hemo\",\"hemo\",\"hemo\",\"hemo\",\"hemo\",\"hemo\",\"hemo\",\"hemo\",\"hemo\",\"hemo\",\"hemo\",\"hemo\",\"hemo\",\"hemo\",\"hemo\",\"hemo\",\"hemo\",\"hemo\",\"hemo\",\"hemo\",\"hemo\",\"hemo\",\"hemo\",\"hemo\",\"hemo\",\"hemo\",\"hemo\",\"hemo\",\"hemo\",\"hemo\",\"hemo\",\"hemo\",\"hemo\",\"hemo\",\"hemo\",\"hemo\",\"hemo\",\"hemo\",\"hemo\",\"hemo\",\"hemo\",\"hemo\",\"hemo\",\"hemo\",\"hemo\",\"hemo\",\"hemo\",\"hemo\",\"hemo\",\"hemo\",\"hemo\",\"hemo\",\"hemo\",\"hemo\",\"hemo\",\"hemo\",\"hemo\",\"hemo\",\"hemo\",\"hemo\",\"hemo\",\"hemo\",\"hemo\",\"hemo\",\"hemo\",\"hemo\",\"hemo\",\"hemo\",\"hemo\",\"hemo\",\"hemo\",\"hemo\",\"hemo\",\"hemo\",\"hemo\",\"hemo\",\"hemo\",\"hemo\",\"hemo\",\"hemo\",\"hemo\",\"hemo\",\"hemo\",\"hemo\",\"hemo\",\"hemo\",\"hemo\",\"hemo\",\"hemo\",\"hemo\",\"hemo\",\"hemo\",\"hemo\",\"hemo\",\"hemo\",\"hemo\",\"hemo\",\"hemo\",\"hemo\",\"hemo\",\"hemo\",\"hemo\",\"hemo\",\"hemo\",\"hemo\",\"hemo\",\"hemo\",\"hemo\",\"hemo\",\"hemo\",\"hemo\",\"hemo\",\"hemo\",\"hemo\",\"hemo\",\"hemo\",\"hemo\",\"hemo\",\"hemo\",\"hemo\",\"hemo\",\"hemo\",\"hemo\",\"hemo\",\"hemo\",\"hemo\",\"hemo\",\"hemo\",\"hemo\",\"hemo\",\"hemo\",\"hemo\",\"hemo\",\"hemo\",\"hemo\",\"hemo\",\"hemo\",\"hemo\",\"hemo\",\"hemo\",\"hemo\",\"hemo\",\"hemo\",\"hemo\",\"hemo\",\"hemo\",\"hemo\",\"hemo\",\"hemo\",\"hemo\",\"hemo\",\"hemo\",\"hemo\",\"hemo\",\"hemo\",\"hemo\",\"hemo\",\"hemo\",\"hemo\",\"hemo\",\"hemo\",\"hemo\",\"hemo\",\"hemo\",\"hemo\",\"hemo\",\"hemo\",\"hemo\",\"hemo\",\"hemo\",\"hemo\",\"hemo\",\"hemo\",\"hemo\",\"hemo\",\"hemo\",\"hemo\",\"hemo\",\"hemo\",\"hemo\",\"hemo\",\"hemo\",\"hemo\",\"hemo\",\"hemo\",\"pcv\",\"pcv\",\"pcv\",\"pcv\",\"pcv\",\"pcv\",\"pcv\",\"pcv\",\"pcv\",\"pcv\",\"pcv\",\"pcv\",\"pcv\",\"pcv\",\"pcv\",\"pcv\",\"pcv\",\"pcv\",\"pcv\",\"pcv\",\"pcv\",\"pcv\",\"pcv\",\"pcv\",\"pcv\",\"pcv\",\"pcv\",\"pcv\",\"pcv\",\"pcv\",\"pcv\",\"pcv\",\"pcv\",\"pcv\",\"pcv\",\"pcv\",\"pcv\",\"pcv\",\"pcv\",\"pcv\",\"pcv\",\"pcv\",\"pcv\",\"pcv\",\"pcv\",\"pcv\",\"pcv\",\"pcv\",\"pcv\",\"pcv\",\"pcv\",\"pcv\",\"pcv\",\"pcv\",\"pcv\",\"pcv\",\"pcv\",\"pcv\",\"pcv\",\"pcv\",\"pcv\",\"pcv\",\"pcv\",\"pcv\",\"pcv\",\"pcv\",\"pcv\",\"pcv\",\"pcv\",\"pcv\",\"pcv\",\"pcv\",\"pcv\",\"pcv\",\"pcv\",\"pcv\",\"pcv\",\"pcv\",\"pcv\",\"pcv\",\"pcv\",\"pcv\",\"pcv\",\"pcv\",\"pcv\",\"pcv\",\"pcv\",\"pcv\",\"pcv\",\"pcv\",\"pcv\",\"pcv\",\"pcv\",\"pcv\",\"pcv\",\"pcv\",\"pcv\",\"pcv\",\"pcv\",\"pcv\",\"pcv\",\"pcv\",\"pcv\",\"pcv\",\"pcv\",\"pcv\",\"pcv\",\"pcv\",\"pcv\",\"pcv\",\"pcv\",\"pcv\",\"pcv\",\"pcv\",\"pcv\",\"pcv\",\"pcv\",\"pcv\",\"pcv\",\"pcv\",\"pcv\",\"pcv\",\"pcv\",\"pcv\",\"pcv\",\"pcv\",\"pcv\",\"pcv\",\"pcv\",\"pcv\",\"pcv\",\"pcv\",\"pcv\",\"pcv\",\"pcv\",\"pcv\",\"pcv\",\"pcv\",\"pcv\",\"pcv\",\"pcv\",\"pcv\",\"pcv\",\"pcv\",\"pcv\",\"pcv\",\"pcv\",\"pcv\",\"pcv\",\"pcv\",\"pcv\",\"pcv\",\"pcv\",\"pcv\",\"pcv\",\"pcv\",\"pcv\",\"pcv\",\"pcv\",\"pcv\",\"pcv\",\"pcv\",\"pcv\",\"pcv\",\"pcv\",\"pcv\",\"pcv\",\"pcv\",\"pcv\",\"pcv\",\"pcv\",\"pcv\",\"pcv\",\"pcv\",\"pcv\",\"pcv\",\"pcv\",\"pcv\",\"pcv\",\"pcv\",\"pcv\",\"pcv\",\"pcv\",\"pcv\",\"pcv\",\"pcv\",\"pcv\",\"pcv\",\"pcv\",\"pcv\",\"pcv\",\"pcv\",\"pcv\",\"pcv\",\"pcv\",\"pcv\",\"pcv\",\"pcv\",\"pcv\",\"pcv\",\"pcv\",\"pcv\",\"pcv\",\"pcv\",\"pcv\",\"pcv\",\"pcv\",\"pcv\",\"pcv\",\"pcv\",\"pcv\",\"pcv\",\"pcv\",\"pcv\",\"pcv\",\"pcv\",\"pcv\",\"pcv\",\"pcv\",\"pcv\",\"pcv\",\"pcv\",\"pcv\",\"pcv\",\"pcv\",\"pcv\",\"pcv\",\"pcv\",\"pcv\",\"pcv\",\"pcv\",\"pcv\",\"pcv\",\"pcv\",\"pcv\",\"pcv\",\"pcv\",\"pcv\",\"pcv\",\"pcv\",\"pcv\",\"pcv\",\"pcv\",\"pcv\",\"pcv\",\"pcv\",\"pcv\",\"pcv\",\"pcv\",\"pcv\",\"pcv\",\"pcv\",\"pcv\",\"pcv\",\"pcv\",\"pcv\",\"pcv\",\"pcv\",\"pcv\",\"pcv\",\"pcv\",\"pcv\",\"pcv\",\"pcv\",\"pcv\",\"pcv\",\"pcv\",\"pcv\",\"pcv\",\"pcv\",\"pcv\",\"pcv\",\"pcv\",\"pcv\",\"pcv\",\"pcv\",\"pcv\",\"pcv\",\"pcv\",\"pcv\",\"pcv\",\"pcv\",\"pcv\",\"pcv\",\"pcv\",\"pcv\",\"pcv\",\"pcv\",\"pcv\",\"pcv\",\"pcv\",\"pcv\",\"pcv\",\"pcv\",\"pcv\",\"pcv\",\"pcv\",\"pcv\",\"pcv\",\"pcv\",\"pcv\",\"pcv\",\"pcv\",\"pcv\",\"pcv\",\"pcv\",\"pcv\",\"pcv\",\"pcv\",\"pcv\",\"pcv\",\"pcv\",\"pcv\",\"pcv\",\"pcv\",\"pcv\",\"pcv\",\"pcv\",\"pcv\",\"pcv\",\"pcv\",\"pcv\",\"pcv\",\"pcv\",\"pcv\",\"pcv\",\"pcv\",\"pcv\",\"pcv\",\"pcv\",\"pcv\",\"pcv\",\"pcv\",\"pcv\",\"pcv\",\"pcv\",\"pcv\",\"pcv\",\"pcv\",\"pcv\",\"pcv\",\"pcv\",\"pcv\",\"pcv\",\"pcv\",\"pcv\",\"pcv\",\"pcv\",\"pcv\",\"pcv\",\"pcv\",\"pcv\",\"pcv\",\"pcv\",\"pcv\",\"pcv\",\"pcv\",\"pcv\",\"pcv\",\"pcv\",\"pcv\",\"pcv\",\"pcv\",\"pcv\",\"pcv\",\"pcv\",\"pcv\",\"pcv\",\"pcv\",\"pcv\",\"pcv\",\"pcv\",\"pcv\",\"pcv\",\"pcv\",\"pcv\",\"pcv\",\"pcv\",\"pcv\",\"pcv\",\"pcv\",\"pcv\",\"pcv\",\"pcv\",\"pcv\",\"pcv\",\"pcv\",\"pcv\",\"pcv\",\"pcv\",\"pcv\",\"pcv\",\"pcv\",\"pcv\",\"pcv\",\"pcv\",\"pcv\",\"pcv\",\"pcv\",\"pcv\"],\"x0\":\" \",\"xaxis\":\"x\",\"y\":[0.0,1.0,2.0,3.0,4.0,5.0,6.0,7.0,8.0,9.0,10.0,11.0,12.0,13.0,14.0,15.0,16.0,17.0,18.0,19.0,20.0,21.0,22.0,23.0,24.0,25.0,26.0,27.0,28.0,29.0,30.0,31.0,32.0,33.0,34.0,35.0,36.0,37.0,38.0,39.0,40.0,41.0,42.0,43.0,44.0,45.0,46.0,47.0,48.0,49.0,50.0,51.0,52.0,53.0,54.0,55.0,56.0,57.0,58.0,59.0,60.0,61.0,62.0,63.0,64.0,65.0,66.0,67.0,68.0,69.0,70.0,71.0,72.0,73.0,74.0,75.0,76.0,77.0,78.0,79.0,80.0,81.0,82.0,83.0,84.0,85.0,86.0,87.0,88.0,89.0,90.0,91.0,92.0,93.0,94.0,95.0,96.0,97.0,98.0,99.0,100.0,101.0,102.0,103.0,104.0,105.0,106.0,107.0,108.0,109.0,110.0,111.0,112.0,113.0,114.0,115.0,116.0,117.0,118.0,119.0,120.0,121.0,122.0,123.0,124.0,125.0,126.0,127.0,128.0,129.0,130.0,131.0,132.0,133.0,134.0,135.0,136.0,137.0,138.0,139.0,140.0,141.0,142.0,143.0,144.0,145.0,146.0,147.0,148.0,149.0,150.0,151.0,152.0,153.0,154.0,155.0,156.0,157.0,158.0,159.0,160.0,161.0,162.0,163.0,164.0,165.0,166.0,167.0,168.0,169.0,170.0,171.0,172.0,173.0,174.0,175.0,176.0,177.0,178.0,179.0,180.0,181.0,182.0,183.0,184.0,185.0,186.0,187.0,188.0,189.0,190.0,191.0,192.0,193.0,194.0,195.0,196.0,197.0,198.0,199.0,200.0,201.0,202.0,203.0,204.0,205.0,206.0,207.0,208.0,209.0,210.0,211.0,212.0,213.0,214.0,215.0,216.0,217.0,218.0,219.0,220.0,221.0,222.0,223.0,224.0,225.0,226.0,227.0,228.0,229.0,230.0,231.0,232.0,233.0,234.0,235.0,236.0,237.0,238.0,239.0,240.0,241.0,242.0,243.0,244.0,245.0,246.0,247.0,248.0,249.0,250.0,251.0,252.0,253.0,254.0,255.0,256.0,257.0,258.0,259.0,260.0,261.0,262.0,263.0,264.0,265.0,266.0,267.0,268.0,269.0,270.0,271.0,272.0,273.0,274.0,275.0,276.0,277.0,278.0,279.0,280.0,281.0,282.0,283.0,284.0,285.0,286.0,287.0,288.0,289.0,290.0,291.0,292.0,293.0,294.0,295.0,296.0,297.0,298.0,299.0,300.0,301.0,302.0,303.0,304.0,305.0,306.0,307.0,308.0,309.0,310.0,311.0,312.0,313.0,314.0,315.0,316.0,317.0,318.0,319.0,320.0,321.0,322.0,323.0,324.0,325.0,326.0,327.0,328.0,329.0,330.0,331.0,332.0,333.0,334.0,335.0,336.0,337.0,338.0,339.0,340.0,341.0,342.0,343.0,344.0,345.0,346.0,347.0,348.0,349.0,350.0,351.0,352.0,353.0,354.0,355.0,356.0,357.0,358.0,359.0,360.0,361.0,362.0,363.0,364.0,365.0,366.0,367.0,368.0,369.0,370.0,371.0,372.0,373.0,374.0,375.0,376.0,377.0,378.0,379.0,380.0,381.0,382.0,383.0,384.0,385.0,386.0,387.0,388.0,389.0,390.0,391.0,392.0,393.0,394.0,395.0,396.0,397.0,398.0,399.0,48.0,9.0,62.0,48.0,51.0,60.0,68.0,24.0,52.0,53.0,50.0,63.0,68.0,68.0,68.0,40.0,47.0,47.0,60.0,62.0,61.0,60.0,48.0,21.0,42.0,61.0,75.0,69.0,75.0,68.0,51.48337595907928,73.0,61.0,60.0,70.0,65.0,76.0,72.0,69.0,82.0,46.0,45.0,47.0,35.0,54.0,54.0,48.0,11.0,73.0,60.0,53.0,54.0,53.0,62.0,63.0,35.0,76.0,76.0,73.0,59.0,67.0,67.0,15.0,46.0,55.0,44.0,67.0,45.0,65.0,26.0,61.0,46.0,64.0,51.48337595907928,56.0,9.0,48.0,67.0,70.0,56.0,74.0,45.0,38.0,48.0,59.0,70.0,56.0,70.0,58.0,50.0,63.0,56.0,71.0,73.0,65.0,62.0,60.0,65.0,50.0,56.0,34.0,71.0,17.0,76.0,55.0,65.0,50.0,55.0,45.0,54.0,63.0,65.0,51.48337595907928,61.0,12.0,47.0,51.48337595907928,51.48337595907928,55.0,60.0,72.0,54.0,34.0,43.0,65.0,72.0,70.0,71.0,52.0,75.0,50.0,9.0,50.0,70.0,47.0,48.0,46.0,45.0,73.0,41.0,69.0,67.0,72.0,41.0,60.0,57.0,53.0,60.0,69.0,65.0,9.0,76.0,39.0,55.0,56.0,50.0,66.0,62.0,71.0,59.0,81.0,62.0,59.0,46.0,14.0,60.0,27.0,34.0,65.0,51.48337595907928,66.0,83.0,62.0,17.0,54.0,60.0,21.0,65.0,42.0,72.0,73.0,45.0,61.0,30.0,54.0,9.0,9.0,9.0,9.0,64.0,9.0,51.48337595907928,46.0,32.0,80.0,70.0,49.0,57.0,59.0,65.0,90.0,64.0,78.0,51.48337595907928,65.0,61.0,60.0,50.0,67.0,19.0,59.0,54.0,40.0,55.0,68.0,9.0,64.0,63.0,33.0,68.0,36.0,66.0,74.0,71.0,34.0,60.0,64.0,57.0,60.0,59.0,65.0,60.0,50.0,51.0,37.0,45.0,65.0,80.0,72.0,34.0,65.0,57.0,69.0,62.0,64.0,48.0,48.0,54.0,59.0,56.0,40.0,23.0,45.0,57.0,51.0,34.0,60.0,38.0,42.0,35.0,30.0,49.0,55.0,45.0,42.0,50.0,55.0,48.0,51.48337595907928,25.0,23.0,30.0,56.0,47.0,19.0,52.0,20.0,46.0,48.0,24.0,47.0,55.0,20.0,60.0,33.0,66.0,71.0,39.0,56.0,42.0,54.0,47.0,30.0,50.0,75.0,44.0,41.0,53.0,34.0,73.0,45.0,44.0,29.0,55.0,33.0,41.0,52.0,47.0,43.0,51.0,46.0,56.0,80.0,55.0,39.0,44.0,35.0,58.0,61.0,30.0,57.0,65.0,70.0,43.0,40.0,58.0,47.0,30.0,28.0,33.0,43.0,59.0,34.0,23.0,24.0,60.0,25.0,44.0,62.0,25.0,32.0,63.0,44.0,37.0,64.0,22.0,33.0,43.0,38.0,35.0,65.0,29.0,37.0,39.0,32.0,23.0,34.0,66.0,47.0,74.0,35.0,29.0,33.0,67.0,73.0,24.0,60.0,68.0,30.0,75.0,69.0,28.0,72.0,61.0,79.0,70.0,58.0,64.0,71.0,62.0,59.0,71.0,48.0,80.0,57.0,63.0,46.0,15.0,51.0,41.0,52.0,36.0,57.0,43.0,50.0,55.0,42.0,12.0,17.0,58.0,80.0,55.0,80.0,70.0,80.0,90.0,70.0,76.46907216494846,100.0,90.0,60.0,70.0,70.0,70.0,80.0,80.0,70.0,80.0,100.0,60.0,80.0,90.0,80.0,70.0,100.0,60.0,80.0,70.0,70.0,70.0,70.0,90.0,90.0,100.0,70.0,90.0,70.0,80.0,80.0,80.0,90.0,70.0,100.0,80.0,80.0,80.0,70.0,80.0,70.0,70.0,60.0,100.0,90.0,80.0,80.0,80.0,70.0,90.0,80.0,100.0,90.0,80.0,60.0,70.0,80.0,90.0,70.0,80.0,70.0,70.0,80.0,60.0,90.0,100.0,90.0,76.46907216494846,80.0,70.0,80.0,80.0,80.0,90.0,70.0,70.0,70.0,70.0,80.0,100.0,100.0,70.0,100.0,70.0,70.0,100.0,70.0,90.0,80.0,60.0,100.0,100.0,70.0,90.0,60.0,70.0,90.0,80.0,90.0,100.0,80.0,70.0,90.0,80.0,60.0,90.0,60.0,80.0,70.0,70.0,70.0,70.0,90.0,60.0,70.0,80.0,100.0,90.0,90.0,60.0,90.0,70.0,90.0,55.0,76.46907216494846,100.0,100.0,80.0,90.0,60.0,76.46907216494846,70.0,70.0,70.0,90.0,80.0,90.0,90.0,100.0,60.0,60.0,70.0,60.0,90.0,70.0,90.0,90.0,70.0,90.0,70.0,60.0,80.0,60.0,76.46907216494846,70.0,80.0,76.46907216494846,80.0,60.0,70.0,70.0,70.0,70.0,70.0,80.0,70.0,70.0,55.0,90.0,80.0,90.0,90.0,90.0,70.0,80.0,70.0,60.0,76.46907216494846,55.0,76.46907216494846,76.46907216494846,60.0,60.0,70.0,100.0,90.0,70.0,90.0,100.0,80.0,100.0,80.0,90.0,70.0,60.0,90.0,90.0,70.0,70.0,70.0,80.0,70.0,100.0,100.0,70.0,80.0,80.0,76.46907216494846,70.0,100.0,90.0,90.0,80.0,70.0,60.0,90.0,60.0,90.0,100.0,80.0,70.0,55.0,60.0,90.0,90.0,100.0,100.0,70.0,80.0,70.0,100.0,90.0,70.0,70.0,70.0,90.0,90.0,100.0,100.0,90.0,70.0,90.0,80.0,80.0,80.0,80.0,60.0,80.0,80.0,60.0,80.0,80.0,80.0,80.0,80.0,80.0,80.0,80.0,80.0,80.0,80.0,80.0,80.0,80.0,80.0,80.0,80.0,80.0,60.0,60.0,60.0,70.0,80.0,80.0,70.0,70.0,80.0,70.0,70.0,70.0,70.0,70.0,70.0,80.0,80.0,76.46907216494846,60.0,70.0,70.0,60.0,60.0,60.0,60.0,60.0,70.0,70.0,80.0,80.0,80.0,60.0,80.0,60.0,60.0,60.0,70.0,80.0,70.0,70.0,76.46907216494846,70.0,70.0,60.0,60.0,60.0,60.0,80.0,80.0,80.0,60.0,60.0,70.0,60.0,80.0,70.0,70.0,80.0,80.0,60.0,60.0,70.0,80.0,70.0,70.0,70.0,60.0,60.0,60.0,60.0,60.0,60.0,80.0,70.0,70.0,80.0,60.0,60.0,60.0,60.0,70.0,70.0,60.0,60.0,60.0,80.0,80.0,80.0,80.0,80.0,80.0,60.0,80.0,70.0,70.0,60.0,60.0,70.0,80.0,80.0,70.0,70.0,60.0,80.0,60.0,70.0,80.0,80.0,60.0,70.0,70.0,80.0,80.0,80.0,80.0,80.0,80.0,60.0,80.0,80.0,70.0,80.0,60.0,80.0,1.02,1.02,1.01,1.0074999999999998,1.01,1.015,1.01,1.015,1.015,1.02,1.01,1.01,1.015,1.0174079320113314,1.01,1.015,1.015,1.0174079320113314,1.025,1.015,1.015,1.0174079320113314,1.025,1.01,1.015,1.025,1.015,1.01,1.0174079320113314,1.0074999999999998,1.0174079320113314,1.015,1.01,1.02,1.01,1.02,1.015,1.0174079320113314,1.02,1.01,1.01,1.01,1.01,1.01,1.01,1.02,1.015,1.01,1.0074999999999998,1.01,1.0174079320113314,1.015,1.015,1.015,1.01,1.0074999999999998,1.015,1.0174079320113314,1.02,1.0174079320113314,1.02,1.01,1.02,1.015,1.01,1.01,1.02,1.02,1.01,1.015,1.015,1.01,1.01,1.015,1.015,1.015,1.0074999999999998,1.01,1.0174079320113314,1.01,1.01,1.0174079320113314,1.0174079320113314,1.015,1.01,1.015,1.0174079320113314,1.0074999999999998,1.01,1.02,1.01,1.015,1.01,1.01,1.01,1.015,1.01,1.015,1.0174079320113314,1.0174079320113314,1.015,1.015,1.01,1.015,1.0174079320113314,1.015,1.0174079320113314,1.015,1.015,1.0174079320113314,1.015,1.01,1.015,1.015,1.015,1.01,1.015,1.02,1.01,1.01,1.025,1.0174079320113314,1.0174079320113314,1.015,1.015,1.0174079320113314,1.015,1.015,1.015,1.025,1.01,1.01,1.0174079320113314,1.015,1.01,1.015,1.02,1.01,1.01,1.015,1.01,1.01,1.0174079320113314,1.015,1.01,1.015,1.01,1.01,1.0174079320113314,1.02,1.025,1.0174079320113314,1.01,1.01,1.0074999999999998,1.02,1.015,1.025,1.02,1.01,1.0174079320113314,1.015,1.0174079320113314,1.01,1.015,1.02,1.0174079320113314,1.02,1.015,1.01,1.015,1.02,1.01,1.015,1.0174079320113314,1.01,1.01,1.015,1.02,1.01,1.01,1.025,1.02,1.015,1.015,1.02,1.02,1.01,1.0174079320113314,1.01,1.01,1.01,1.015,1.025,1.01,1.02,1.01,1.0174079320113314,1.02,1.015,1.025,1.0174079320113314,1.0174079320113314,1.0174079320113314,1.01,1.0174079320113314,1.01,1.01,1.0174079320113314,1.02,1.015,1.015,1.015,1.01,1.015,1.01,1.01,1.01,1.015,1.01,1.01,1.02,1.0174079320113314,1.01,1.02,1.01,1.015,1.015,1.0174079320113314,1.01,1.01,1.0174079320113314,1.015,1.015,1.01,1.01,1.0174079320113314,1.015,1.0174079320113314,1.015,1.015,1.015,1.01,1.02,1.015,1.0174079320113314,1.015,1.025,1.01,1.01,1.025,1.025,1.025,1.025,1.025,1.025,1.025,1.02,1.02,1.02,1.02,1.02,1.02,1.02,1.02,1.02,1.02,1.025,1.0174079320113314,1.025,1.025,1.025,1.025,1.02,1.02,1.02,1.025,1.025,1.02,1.025,1.0174079320113314,1.025,1.02,1.02,1.025,1.02,1.02,1.025,1.025,1.02,1.02,1.025,1.02,1.02,1.02,1.0174079320113314,1.02,1.025,1.02,1.02,1.02,1.025,1.02,1.02,1.025,1.02,1.02,1.02,1.025,1.02,1.02,1.025,1.02,1.02,1.025,1.025,1.02,1.02,1.025,1.02,1.02,1.02,1.0174079320113314,1.025,1.02,1.02,1.02,1.025,1.02,1.025,1.02,1.025,1.025,1.02,1.025,1.02,1.02,1.025,1.02,1.02,1.025,1.025,1.02,1.025,1.02,1.025,1.0174079320113314,1.025,1.02,1.025,1.025,1.02,1.02,1.02,1.025,1.02,1.025,1.025,1.02,1.02,1.025,1.02,1.025,1.025,1.025,1.02,1.025,1.025,1.025,1.02,1.02,1.025,1.02,1.025,1.025,1.02,1.025,1.02,1.025,1.025,1.02,1.025,1.025,1.025,1.02,1.02,1.025,1.025,1.02,1.025,1.025,1.025,1.02,1.025,1.02,1.02,1.025,1.02,1.025,1.025,1.0,4.0,2.0,4.0,2.0,3.0,0.0,2.0,3.0,2.0,2.0,3.0,3.0,1.0169491525423728,3.0,3.0,2.0,1.0169491525423728,0.0,1.0,2.0,1.0169491525423728,4.0,0.0,4.0,0.0,0.0,3.0,1.0,1.0,1.0169491525423728,3.0,1.0,2.0,1.0,2.0,1.0,1.0169491525423728,3.0,2.0,2.0,0.0,0.0,1.0,3.0,3.0,0.0,3.0,0.0,2.0,1.0169491525423728,3.0,0.0,0.0,2.0,3.0,3.0,1.0169491525423728,2.0,1.0169491525423728,1.0,1.0,3.0,1.0,0.0,1.0,2.0,3.0,2.0,0.0,0.0,1.0,3.0,2.0,2.0,1.0,4.0,1.0,1.0169491525423728,1.0,0.0,1.0169491525423728,1.0169491525423728,1.0,3.0,2.0,1.0169491525423728,1.0,4.0,0.0,2.0,4.0,3.0,3.0,0.0,1.0,1.0,1.0,1.0169491525423728,0.0,4.0,2.0,0.0,2.0,1.0169491525423728,0.0,1.0169491525423728,1.0,0.0,1.0169491525423728,0.0,3.0,3.0,0.0,3.0,0.0,4.0,0.0,3.0,0.0,1.0,3.0,1.0169491525423728,2.0,0.0,1.0169491525423728,0.0,4.0,4.0,1.0,2.0,0.0,1.0169491525423728,4.0,1.0169491525423728,0.0,1.0169491525423728,2.0,1.0,2.0,0.0,1.0,1.0169491525423728,1.0,2.0,5.0,1.0,3.0,1.0169491525423728,1.0,3.0,1.0169491525423728,0.0,2.0,4.0,3.0,2.0,3.0,3.0,1.0,1.0169491525423728,3.0,1.0169491525423728,0.0,0.0,0.0,1.0169491525423728,0.0,4.0,0.0,2.0,3.0,1.0,1.0,1.0169491525423728,0.0,4.0,2.0,2.0,2.0,1.0,2.0,0.0,0.0,3.0,1.0,4.0,2.0,1.0169491525423728,4.0,4.0,3.0,0.0,1.0,2.0,2.0,3.0,1.0169491525423728,4.0,0.0,1.0,1.0169491525423728,1.0169491525423728,1.0169491525423728,4.0,1.0169491525423728,1.0,0.0,1.0169491525423728,0.0,4.0,0.0,3.0,3.0,0.0,3.0,0.0,1.0,0.0,0.0,0.0,1.0,1.0169491525423728,0.0,0.0,3.0,4.0,0.0,1.0169491525423728,3.0,2.0,1.0169491525423728,1.0,2.0,0.0,2.0,1.0169491525423728,2.0,1.0169491525423728,2.0,1.0,1.0,4.0,2.0,3.0,1.0169491525423728,3.0,1.0,1.0,4.0,0.0,0.0,0.0,0.0,0.0,0.0,0.0,0.0,0.0,0.0,0.0,0.0,0.0,0.0,0.0,0.0,0.0,0.0,1.0169491525423728,0.0,0.0,0.0,0.0,0.0,0.0,0.0,0.0,0.0,0.0,0.0,1.0169491525423728,0.0,0.0,0.0,0.0,0.0,0.0,0.0,0.0,0.0,0.0,0.0,0.0,0.0,0.0,1.0169491525423728,0.0,0.0,0.0,0.0,0.0,0.0,0.0,0.0,0.0,0.0,0.0,0.0,0.0,0.0,0.0,0.0,0.0,0.0,0.0,0.0,0.0,0.0,0.0,0.0,0.0,0.0,1.0169491525423728,0.0,0.0,0.0,0.0,0.0,0.0,0.0,0.0,0.0,0.0,0.0,0.0,0.0,0.0,0.0,0.0,0.0,0.0,0.0,0.0,0.0,0.0,0.0,1.0169491525423728,0.0,0.0,0.0,0.0,0.0,0.0,0.0,0.0,0.0,0.0,0.0,0.0,0.0,0.0,0.0,0.0,0.0,0.0,0.0,0.0,0.0,0.0,0.0,0.0,0.0,0.0,0.0,0.0,0.0,0.0,0.0,0.0,0.0,0.0,0.0,0.0,0.0,0.0,0.0,0.0,0.0,0.0,0.0,0.0,0.0,0.0,0.0,0.0,0.0,0.0,0.0,0.0,0.0,0.0,0.0,3.0,0.0,0.0,0.0,0.0,3.0,0.0,0.0,3.0,0.0,1.0,0.45014245014245013,3.0,0.0,0.0,0.45014245014245013,3.0,0.0,0.0,0.45014245014245013,0.0,0.0,0.0,0.0,0.0,3.0,3.0,0.0,0.45014245014245013,0.0,1.0,0.0,0.0,1.0,0.0,0.45014245014245013,0.0,3.0,0.0,0.0,0.0,0.0,0.0,0.0,0.0,0.0,0.0,0.0,0.45014245014245013,0.0,0.0,3.0,3.0,0.0,3.0,0.45014245014245013,0.0,0.45014245014245013,0.0,3.0,0.0,0.0,0.0,0.0,0.0,0.0,0.0,3.0,3.0,0.0,3.0,0.0,0.0,0.0,0.0,0.0,0.45014245014245013,0.0,0.0,0.45014245014245013,0.45014245014245013,0.0,0.0,0.45014245014245013,0.45014245014245013,0.0,0.0,0.0,3.0,1.0,0.0,3.0,0.0,0.0,1.0,0.0,0.45014245014245013,3.0,0.0,0.0,0.0,0.0,0.45014245014245013,0.0,0.45014245014245013,3.0,0.0,0.45014245014245013,0.0,3.0,0.0,3.0,0.0,0.0,0.0,0.0,0.0,0.0,3.0,0.45014245014245013,0.45014245014245013,3.0,0.0,0.45014245014245013,0.0,0.0,3.0,0.0,0.0,0.0,0.45014245014245013,0.0,0.45014245014245013,3.0,0.45014245014245013,0.0,0.0,0.0,3.0,0.0,0.45014245014245013,3.0,0.0,0.0,3.0,1.0,0.45014245014245013,0.0,0.0,0.45014245014245013,0.0,1.0,3.0,0.0,0.0,0.0,3.0,0.0,0.45014245014245013,0.0,0.45014245014245013,0.0,0.0,3.0,0.45014245014245013,0.0,3.0,3.0,3.0,0.0,3.0,0.0,0.45014245014245013,0.0,0.0,1.0,0.0,0.0,3.0,0.0,0.0,0.0,3.0,0.0,0.0,0.0,0.45014245014245013,1.0,0.0,0.0,0.0,0.0,0.45014245014245013,1.0,0.0,0.45014245014245013,3.0,0.0,0.0,0.45014245014245013,0.45014245014245013,0.45014245014245013,3.0,0.45014245014245013,0.0,0.0,0.45014245014245013,0.0,3.0,0.0,3.0,1.0,0.0,0.0,0.0,0.0,0.0,0.0,0.0,0.0,0.45014245014245013,3.0,0.0,3.0,3.0,0.0,0.45014245014245013,0.0,0.0,0.45014245014245013,0.0,0.0,0.0,0.0,0.45014245014245013,3.0,0.45014245014245013,0.0,0.0,0.0,3.0,1.0,3.0,0.45014245014245013,0.0,0.0,3.0,1.0,0.0,0.0,0.0,0.0,0.0,0.0,0.0,0.0,0.0,0.0,0.0,0.0,0.0,0.0,0.0,0.0,0.0,0.0,0.45014245014245013,0.0,0.0,0.0,0.0,0.0,0.0,0.0,0.0,0.0,0.0,0.0,0.45014245014245013,0.0,0.0,0.0,0.0,0.0,0.0,0.0,0.0,0.0,0.0,0.0,0.0,0.0,0.0,0.45014245014245013,0.0,0.0,0.0,0.0,0.0,0.0,0.0,0.0,0.0,0.0,0.0,0.0,0.0,0.0,0.0,0.0,0.0,0.0,0.0,0.0,0.0,0.0,0.0,0.0,0.0,0.0,0.45014245014245013,0.0,0.0,0.0,0.0,0.0,0.0,0.0,0.0,0.0,0.0,0.0,0.0,0.0,0.0,0.0,0.0,0.0,0.0,0.0,0.0,0.0,0.0,0.0,0.45014245014245013,0.0,0.0,0.0,0.0,0.0,0.0,0.0,0.0,0.0,0.0,0.0,0.0,0.0,0.0,0.0,0.0,0.0,0.0,0.0,0.0,0.0,0.0,0.0,0.0,0.0,0.0,0.0,0.0,0.0,0.0,0.0,0.0,0.0,0.0,0.0,0.0,0.0,0.0,0.0,0.0,0.0,0.0,0.0,0.0,0.0,0.0,0.0,0.0,0.0,0.0,0.0,0.0,0.0,121.0,148.0365168539326,303.0,117.0,106.0,74.0,100.0,303.0,138.0,70.0,303.0,303.0,208.0,98.0,157.0,76.0,99.0,114.0,303.0,100.0,173.0,148.0365168539326,95.0,148.0365168539326,148.0365168539326,108.0,156.0,303.0,123.0,148.0365168539326,93.0,107.0,159.0,140.0,171.0,303.0,92.0,137.0,148.0365168539326,140.0,99.0,148.0365168539326,204.0,79.0,207.0,208.0,124.0,148.0365168539326,70.0,144.0,91.0,162.0,148.0365168539326,303.0,148.0365168539326,148.0365168539326,148.0365168539326,93.0,303.0,148.0365168539326,141.0,182.0,86.0,150.0,146.0,148.0365168539326,150.0,303.0,112.0,303.0,303.0,163.0,148.0365168539326,129.0,129.0,148.0365168539326,133.0,102.0,158.0,165.0,132.0,303.0,104.0,127.0,76.0,148.0365168539326,303.0,169.0,303.0,109.0,303.0,210.0,219.0,303.0,93.0,94.0,172.0,91.0,101.0,303.0,153.0,88.0,92.0,303.0,143.0,115.0,89.0,303.0,107.0,303.0,123.0,303.0,148.0365168539326,148.0365168539326,148.0365168539326,148.0365168539326,104.0,219.0,99.0,140.0,303.0,125.0,148.0365168539326,148.0365168539326,90.0,303.0,144.0,118.0,303.0,158.0,128.0,148.0365168539326,219.0,118.0,122.0,214.0,213.0,303.0,95.0,148.0365168539326,303.0,148.0365168539326,84.0,210.0,105.0,148.0365168539326,213.0,303.0,171.0,139.0,78.0,172.0,121.0,303.0,303.0,123.0,153.0,122.0,303.0,303.0,148.0,148.0365168539326,204.0,160.0,192.0,148.0365168539326,76.0,139.0,303.0,220.0,303.0,102.0,303.0,27.5,111.0,303.0,107.0,215.0,93.0,124.0,303.0,117.0,131.0,101.0,303.0,99.0,148.0365168539326,148.0365168539326,80.0,303.0,94.0,110.0,130.0,148.0365168539326,148.0365168539326,184.0,129.0,148.0365168539326,303.0,92.0,139.0,113.0,114.0,207.0,172.0,100.0,109.0,303.0,303.0,148.0365168539326,303.0,103.0,303.0,214.0,171.0,148.0365168539326,107.0,78.0,92.0,303.0,103.0,303.0,108.0,303.0,117.0,303.0,163.0,120.0,124.0,303.0,192.0,303.0,148.0365168539326,93.0,148.0365168539326,113.0,74.0,141.0,201.0,104.0,203.0,165.0,214.0,169.0,303.0,103.0,106.0,150.0,303.0,176.0,140.0,70.0,82.0,119.0,99.0,121.0,131.0,91.0,98.0,104.0,131.0,122.0,118.0,117.0,132.0,97.0,133.0,122.0,100.0,121.0,111.0,96.0,139.0,95.0,107.0,125.0,148.0365168539326,123.0,112.0,140.0,93.0,130.0,123.0,148.0365168539326,100.0,94.0,81.0,124.0,70.0,93.0,76.0,124.0,89.0,92.0,110.0,106.0,125.0,116.0,91.0,127.0,114.0,96.0,127.0,107.0,128.0,122.0,128.0,137.0,81.0,129.0,102.0,132.0,148.0365168539326,104.0,131.0,148.0365168539326,99.0,102.0,120.0,138.0,105.0,109.0,120.0,130.0,119.0,100.0,109.0,120.0,131.0,80.0,114.0,130.0,148.0365168539326,99.0,125.0,134.0,119.0,92.0,132.0,88.0,100.0,130.0,95.0,111.0,106.0,97.0,130.0,108.0,99.0,82.0,85.0,83.0,109.0,86.0,102.0,95.0,87.0,107.0,117.0,88.0,105.0,70.0,89.0,99.0,118.0,93.0,81.0,125.0,82.0,107.0,83.0,79.0,109.0,133.0,111.0,74.0,88.0,97.0,148.0365168539326,78.0,113.0,79.0,75.0,119.0,132.0,113.0,100.0,93.0,94.0,112.0,99.0,85.0,133.0,117.0,137.0,140.0,75.0,100.0,114.0,131.0,36.0,18.0,53.0,56.0,26.0,25.0,54.0,31.0,60.0,107.0,55.0,60.0,72.0,86.0,90.0,160.0,46.0,87.0,27.0,31.0,160.0,160.0,160.0,57.425721784776904,50.0,75.0,45.0,87.0,31.0,28.0,160.0,33.0,39.0,55.0,160.0,39.0,29.0,65.0,103.0,70.0,80.0,20.0,29.0,160.0,77.0,89.0,24.0,17.0,32.0,72.0,114.0,66.0,38.0,24.0,57.425721784776904,57.425721784776904,160.0,160.0,160.0,96.0,66.0,160.0,15.0,111.0,57.425721784776904,20.0,55.0,57.425721784776904,73.0,20.0,19.0,92.0,35.0,107.0,107.0,16.0,160.0,48.0,85.0,55.0,98.0,45.0,77.0,19.0,160.0,46.0,37.0,47.0,52.0,32.0,35.0,26.0,82.0,90.0,66.0,25.0,32.0,51.0,106.0,24.0,22.0,80.0,32.0,160.0,88.0,32.0,160.0,53.0,15.0,50.1,19.0,71.0,34.0,57.425721784776904,51.0,28.0,16.0,36.0,25.0,27.0,40.0,21.0,160.0,30.0,98.0,36.0,160.0,160.0,160.0,49.0,160.0,25.0,160.0,160.0,57.425721784776904,24.0,68.0,86.0,51.0,68.0,40.0,106.0,160.0,160.0,53.0,160.0,23.0,36.0,26.0,29.0,27.0,46.0,20.0,160.0,160.0,40.0,76.0,42.0,48.0,35.0,39.0,57.425721784776904,34.0,40.0,15.0,57.425721784776904,44.0,19.0,28.0,68.0,41.0,60.0,113.0,1.5,160.0,58.0,40.0,160.0,160.0,53.0,56.0,52.0,23.0,106.0,160.0,23.0,46.0,22.0,66.0,58.0,67.0,115.0,16.0,160.0,49.0,98.6,160.0,111.0,40.0,37.0,89.0,94.0,74.0,80.0,82.0,28.0,96.0,50.0,37.0,57.425721784776904,160.0,18.0,160.0,73.0,30.0,57.425721784776904,15.0,61.0,19.0,57.0,57.425721784776904,30.0,68.0,30.0,28.0,95.0,54.0,48.0,52.0,160.0,17.0,51.0,57.425721784776904,20.0,19.0,93.0,66.0,53.0,160.0,50.0,46.0,45.0,96.0,48.0,64.0,79.0,160.0,18.0,55.0,160.0,10.0,36.0,49.0,17.0,38.0,27.0,10.0,36.0,20.0,31.0,38.0,32.0,18.0,46.0,24.0,40.0,17.0,33.0,49.0,19.0,34.0,25.0,15.0,35.0,23.0,22.0,57.425721784776904,46.0,44.0,23.0,33.0,50.0,44.0,57.425721784776904,37.0,19.0,18.0,22.0,46.0,32.0,28.0,44.0,42.0,19.0,50.0,25.0,38.0,26.0,49.0,48.0,26.0,33.0,44.0,26.0,38.0,25.0,30.0,17.0,46.0,25.0,27.0,18.0,57.425721784776904,28.0,46.0,57.425721784776904,30.0,48.0,29.0,15.0,49.0,39.0,40.0,30.0,15.0,50.0,25.0,31.0,29.0,25.0,32.0,39.0,33.0,46.0,57.425721784776904,45.0,27.0,40.0,34.0,42.0,29.0,37.0,46.0,35.0,27.0,18.0,41.0,25.0,19.0,36.0,20.0,49.0,47.0,37.0,17.0,24.0,38.0,16.0,22.0,50.0,39.0,16.0,19.0,40.0,44.0,46.0,15.0,41.0,42.0,48.0,42.0,50.0,26.0,38.0,44.0,41.0,16.0,27.0,57.425721784776904,45.0,23.0,47.0,22.0,46.0,18.0,25.0,47.0,17.0,15.0,48.0,25.0,16.0,48.0,45.0,46.0,49.0,31.0,26.0,50.0,18.0,1.2,0.8,1.8,3.8,1.4,1.1,11.850000000000001,1.1,1.9,11.850000000000001,4.0,2.7,2.1,4.6,4.1,11.850000000000001,2.2,5.2,1.3,1.6,3.9,11.850000000000001,11.850000000000001,3.072454308093995,1.4,1.9,2.4,2.7,1.4,1.4,11.850000000000001,1.5,1.5,2.5,5.2,2.0,1.8,3.4,4.1,3.4,2.1,0.7,1.0,11.850000000000001,6.3,5.9,1.2,0.8,0.9,3.0,3.25,1.6,2.2,1.0,3.4,3.072454308093995,11.850000000000001,11.850000000000001,4.6,11.850000000000001,3.2,11.850000000000001,0.6,6.1,3.072454308093995,1.1,1.6,3.072454308093995,3.3,1.1,0.7,3.3,1.3,11.850000000000001,11.850000000000001,0.7,11.850000000000001,3.2,3.2,1.8,2.8,2.4,1.9,1.0,11.850000000000001,1.5,1.9,2.9,2.2,1.4,3.2,1.7,3.6,5.6,1.6,1.1,2.7,2.2,11.850000000000001,1.2,0.9,4.4,2.1,11.850000000000001,2.0,11.850000000000001,6.1,2.8,1.0,1.9,2.0,4.4,1.2,3.072454308093995,1.8,0.9,0.5,1.3,1.2,1.2,2.2,1.3,11.850000000000001,1.1,2.5,2.5,4.0,5.3,5.6,1.4,11.850000000000001,0.6,11.850000000000001,5.3,11.850000000000001,1.3,2.8,4.0,1.6,2.8,1.2,6.0,11.850000000000001,11.850000000000001,2.3,11.850000000000001,1.0,1.7,11.850000000000001,1.0,0.9,1.7,0.8,11.850000000000001,11.850000000000001,1.8,3.3,1.7,1.5,1.3,2.1,3.072454308093995,1.5,2.0,0.8,3.072454308093995,3.9,0.9,1.5,2.8,1.7,2.6,2.9,11.850000000000001,11.850000000000001,2.2,1.7,2.5,2.7,2.3,1.9,2.2,0.8,11.850000000000001,3.3,0.6,1.0,0.7,2.5,4.3,1.0,6.0,0.9,11.850000000000001,1.2,3.3,11.850000000000001,11.850000000000001,3.2,1.5,3.0,11.850000000000001,2.9,11.850000000000001,11.850000000000001,2.1,3.9,2.2,1.5,3.072454308093995,11.850000000000001,1.2,11.850000000000001,3.9,1.0,3.072454308093995,3.072454308093995,1.8,0.8,2.5,3.072454308093995,1.7,1.8,1.3,2.2,2.7,11.850000000000001,1.6,2.5,11.850000000000001,1.7,2.8,3.072454308093995,1.6,1.3,2.3,2.0,2.2,11.850000000000001,1.6,1.4,1.5,6.3,2.4,2.8,5.3,11.850000000000001,1.2,1.7,11.850000000000001,1.2,1.0,0.6,1.2,0.8,1.2,0.5,0.7,0.5,1.2,1.0,1.2,0.9,1.2,0.7,0.6,1.2,0.9,1.0,1.2,1.1,0.5,1.2,0.9,0.7,1.2,3.072454308093995,1.0,1.2,0.6,0.9,1.2,1.0,3.072454308093995,1.2,0.7,0.8,0.6,1.2,0.9,0.6,1.0,0.5,1.2,0.7,0.9,0.6,1.0,1.2,0.5,0.7,0.9,1.2,1.1,0.6,0.8,1.2,0.5,0.6,1.2,0.7,1.1,3.072454308093995,0.9,0.6,3.072454308093995,0.5,1.2,0.7,1.1,1.2,1.0,0.5,1.1,0.7,1.2,1.1,0.8,0.6,0.9,1.1,0.7,1.0,1.2,3.072454308093995,0.5,0.5,0.9,0.8,0.5,1.1,0.9,0.5,0.8,0.7,1.2,0.9,1.0,0.5,1.1,1.0,0.9,1.1,0.6,0.4,0.8,0.5,1.1,1.2,0.6,0.5,0.7,1.1,0.5,0.7,1.0,0.5,1.1,0.7,0.8,1.2,0.5,0.9,1.0,1.2,0.5,1.1,0.7,0.9,0.6,1.1,0.5,0.8,0.7,1.1,0.6,0.5,0.9,1.2,0.7,0.8,1.1,1.2,0.7,0.8,0.5,1.2,0.6,1.0,1.1,137.52875399361022,137.52875399361022,137.52875399361022,126.0,137.52875399361022,142.0,126.0,137.52875399361022,137.52875399361022,126.0,137.52875399361022,131.0,138.0,135.0,130.0,141.0,138.0,139.0,135.0,137.52875399361022,135.0,126.0,136.0,137.52875399361022,129.0,141.0,140.0,130.0,137.52875399361022,137.52875399361022,132.0,141.0,133.0,137.52875399361022,137.52875399361022,137.52875399361022,133.0,141.0,132.0,136.0,137.52875399361022,137.52875399361022,139.0,134.0,134.0,130.0,142.0,137.52875399361022,126.0,137.52875399361022,142.0,136.0,137.52875399361022,137.52875399361022,136.0,137.52875399361022,131.0,132.0,138.0,137.52875399361022,138.0,147.0,138.0,131.0,137.52875399361022,137.52875399361022,131.0,137.52875399361022,137.52875399361022,137.52875399361022,137.0,141.0,137.52875399361022,132.0,131.0,138.0,132.0,137.0,141.0,137.52875399361022,133.0,128.0,140.0,134.0,135.0,137.52875399361022,137.52875399361022,137.52875399361022,137.52875399361022,139.0,143.0,136.0,133.0,140.0,137.0,131.0,137.52875399361022,132.0,135.0,139.0,133.0,139.0,141.0,137.52875399361022,137.52875399361022,139.0,127.0,139.0,141.0,137.52875399361022,142.0,128.0,137.52875399361022,137.52875399361022,137.52875399361022,137.52875399361022,137.52875399361022,139.0,137.52875399361022,137.52875399361022,137.0,137.0,130.0,137.52875399361022,137.52875399361022,131.0,136.0,136.0,133.0,135.0,134.0,137.52875399361022,136.0,136.0,138.0,140.0,146.0,134.0,142.0,132.0,142.0,137.0,135.0,135.0,136.0,126.0,139.0,130.0,137.52875399361022,137.52875399361022,137.52875399361022,141.0,133.0,132.0,140.0,137.52875399361022,137.52875399361022,136.0,132.0,126.0,147.0,137.52875399361022,126.0,140.0,137.0,137.52875399361022,127.0,137.52875399361022,137.52875399361022,137.52875399361022,131.0,126.0,130.0,145.0,141.0,126.0,126.0,137.52875399361022,139.0,137.52875399361022,137.52875399361022,136.0,140.0,135.0,133.0,138.0,135.0,137.52875399361022,142.0,137.0,135.0,134.0,137.52875399361022,126.0,137.52875399361022,138.0,126.0,126.0,137.0,140.0,140.0,137.0,135.0,142.0,145.0,137.52875399361022,135.0,137.52875399361022,137.52875399361022,137.52875399361022,135.0,137.52875399361022,132.0,137.0,137.52875399361022,137.52875399361022,137.52875399361022,141.0,137.52875399361022,137.52875399361022,137.52875399361022,138.0,137.52875399361022,136.0,138.0,131.0,140.0,137.52875399361022,137.52875399361022,126.0,130.0,138.0,137.52875399361022,146.0,137.52875399361022,137.52875399361022,136.0,137.52875399361022,127.0,137.0,137.52875399361022,140.0,126.0,138.0,135.0,135.0,126.0,140.0,138.0,126.0,135.0,150.0,147.0,135.0,135.0,144.0,146.0,135.0,140.0,135.0,147.0,139.0,135.0,137.0,140.0,150.0,135.0,146.0,140.0,142.0,145.0,144.0,135.0,140.0,141.0,139.0,137.0,135.0,142.0,140.0,144.0,147.0,135.0,137.52875399361022,142.0,135.0,145.0,137.0,135.0,143.0,146.0,140.0,139.0,150.0,135.0,150.0,140.0,146.0,135.0,150.0,141.0,147.0,145.0,137.52875399361022,135.0,138.0,140.0,150.0,135.0,139.0,142.0,147.0,135.0,142.0,145.0,137.52875399361022,135.0,139.0,137.0,135.0,150.0,144.0,140.0,143.0,150.0,140.0,141.0,150.0,145.0,146.0,135.0,147.0,150.0,142.0,136.0,139.0,137.52875399361022,141.0,147.0,136.0,142.0,150.0,138.0,135.0,150.0,138.0,141.0,144.0,147.0,150.0,142.0,139.0,141.0,150.0,147.0,145.0,144.0,140.0,138.0,147.0,135.0,138.0,144.0,137.52875399361022,137.0,145.0,141.0,139.0,146.0,144.0,139.0,145.0,150.0,142.0,146.0,143.0,147.0,145.0,140.0,138.0,139.0,142.0,137.0,141.0,150.0,146.0,142.0,136.0,144.0,140.0,135.0,142.0,147.0,141.0,139.0,150.0,141.0,137.0,135.0,141.0,4.62724358974359,4.62724358974359,4.62724358974359,2.8000000000000003,4.62724358974359,3.2,4.0,4.62724358974359,4.62724358974359,3.7,4.62724358974359,4.2,5.8,3.4,5.55,4.9,4.1,3.7,4.3,4.62724358974359,5.2,4.62724358974359,3.8,4.62724358974359,4.0,5.2,3.4,4.0,4.62724358974359,4.62724358974359,4.9,4.6,4.9,4.62724358974359,4.62724358974359,4.62724358974359,3.9,4.7,5.9,4.2,4.62724358974359,4.62724358974359,4.2,3.4,4.8,4.9,4.2,4.62724358974359,4.0,4.62724358974359,4.3,4.4,4.62724358974359,4.62724358974359,4.2,4.62724358974359,4.4,4.9,5.8,4.62724358974359,5.55,5.55,4.0,3.7,4.62724358974359,4.62724358974359,4.8,4.62724358974359,4.62724358974359,4.62724358974359,4.4,4.0,4.62724358974359,4.4,4.8,3.2,5.5,5.0,3.5,4.62724358974359,5.0,4.4,3.9,3.6,5.55,4.62724358974359,4.62724358974359,4.62724358974359,4.62724358974359,4.7,3.5,3.8,4.4,2.9,4.5,3.7,4.62724358974359,3.8,4.3,3.9,3.8,5.7,4.2,4.62724358974359,4.62724358974359,4.0,4.4,4.5,4.2,4.62724358974359,3.8,5.4,4.62724358974359,4.62724358974359,4.62724358974359,4.62724358974359,4.62724358974359,3.7,4.62724358974359,4.62724358974359,5.3,3.4,3.8,4.62724358974359,4.62724358974359,4.3,4.6,4.9,5.55,4.7,4.8,4.62724358974359,4.5,4.9,5.2,4.0,5.55,5.1,3.5,4.1,5.6,4.9,5.3,4.7,5.2,4.8,4.0,3.0,4.62724358974359,4.62724358974359,4.62724358974359,5.5,3.5,3.4,4.2,4.62724358974359,4.62724358974359,4.7,4.0,3.5,4.2,4.62724358974359,4.1,4.1,4.2,4.62724358974359,4.3,4.62724358974359,4.62724358974359,4.62724358974359,3.9,5.7,2.8000000000000003,2.8000000000000003,4.7,3.0,3.5,4.62724358974359,4.3,4.62724358974359,4.62724358974359,3.8,4.1,4.3,4.5,4.4,3.8,4.62724358974359,3.6,5.4,4.9,2.8000000000000003,4.62724358974359,5.55,4.62724358974359,3.9,3.2,5.3,4.7,5.2,4.1,4.3,5.9,5.5,5.55,4.62724358974359,4.0,4.62724358974359,4.62724358974359,4.62724358974359,5.7,4.62724358974359,5.6,4.9,4.62724358974359,4.62724358974359,4.62724358974359,4.4,4.62724358974359,4.62724358974359,4.62724358974359,5.3,4.62724358974359,4.1,3.8,3.8,4.6,4.62724358974359,4.62724358974359,2.9,4.3,3.7,4.62724358974359,4.5,4.62724358974359,4.62724358974359,5.4,4.62724358974359,4.8,4.1,4.62724358974359,3.3,3.9,2.9,4.1,5.55,5.7,4.2,4.5,5.55,5.0,4.6,4.4,4.7,3.7,3.9,5.0,3.7,3.5,5.0,3.8,3.9,3.6,5.0,4.1,4.5,4.8,3.9,5.0,4.9,4.0,4.8,5.0,4.1,4.2,4.6,4.7,5.0,4.9,4.7,4.5,5.0,3.8,4.62724358974359,4.0,3.9,5.0,3.8,4.9,4.7,3.5,4.9,5.0,4.8,5.0,3.6,5.0,4.9,4.5,3.5,4.2,4.5,5.0,4.62724358974359,3.9,5.0,4.5,3.5,4.9,5.0,4.9,4.7,4.1,4.8,5.0,4.62724358974359,4.9,4.3,3.5,4.4,4.7,3.5,4.6,5.0,4.9,3.5,4.7,4.6,4.9,3.5,3.9,4.7,5.0,4.0,3.5,4.8,4.62724358974359,4.9,3.5,3.5,4.5,5.0,4.2,4.1,3.3,4.3,4.4,5.0,3.5,3.5,4.8,3.3,4.9,5.0,4.7,5.0,4.8,3.6,3.5,3.7,3.9,3.5,5.0,4.62724358974359,3.5,3.5,3.6,3.8,5.0,3.5,3.7,5.0,4.9,3.6,3.6,4.5,3.5,4.8,4.8,3.5,3.5,4.8,5.0,4.9,4.7,4.9,3.5,3.9,3.7,5.0,3.7,4.1,4.3,4.4,5.0,4.9,3.5,4.4,4.9,3.5,15.4,11.3,9.6,11.2,11.6,12.2,12.4,12.4,10.8,9.5,9.4,10.8,9.7,9.8,5.6,7.6,12.6,12.1,12.7,10.3,7.7,10.9,9.8,12.526436781609195,11.1,9.9,11.6,12.5,12.526436781609195,12.9,12.526436781609195,10.1,11.3,10.1,12.526436781609195,12.0,10.3,9.7,12.5,13.0,11.1,12.526436781609195,9.7,7.9,9.7,9.3,12.4,15.0,10.0,9.7,8.6,10.3,10.9,13.6,13.0,9.5,10.2,12.526436781609195,10.5,6.6,12.526436781609195,12.526436781609195,11.0,7.5,9.8,15.0,12.526436781609195,12.526436781609195,10.9,15.6,15.2,9.8,10.3,5.150000000000006,9.1,8.1,10.3,11.9,10.1,13.5,10.8,8.3,12.526436781609195,12.526436781609195,7.1,9.9,12.526436781609195,11.1,12.526436781609195,12.526436781609195,13.0,16.1,10.4,9.2,11.6,12.526436781609195,11.2,10.0,6.2,11.2,12.526436781609195,11.3,13.9,10.2,12.526436781609195,14.1,6.0,11.2,11.8,11.7,11.7,10.0,10.8,12.526436781609195,12.1,12.4,12.526436781609195,12.5,11.4,12.526436781609195,12.6,15.0,6.0,14.0,9.1,12.526436781609195,12.0,11.4,8.1,11.1,8.2,11.8,8.6,12.0,10.8,13.2,9.3,10.0,12.526436781609195,11.1,12.526436781609195,6.1,12.526436781609195,12.526436781609195,11.1,8.0,12.526436781609195,7.9,12.526436781609195,10.5,12.3,9.6,10.9,8.3,8.4,11.1,12.526436781609195,12.6,10.9,10.4,10.9,14.3,9.8,9.0,14.3,12.526436781609195,12.526436781609195,12.7,11.0,8.7,12.5,8.7,10.6,13.1,11.0,12.526436781609195,8.3,13.2,9.8,11.9,10.3,10.0,11.3,12.526436781609195,11.3,12.0,12.526436781609195,10.7,12.2,9.5,9.9,9.1,12.526436781609195,5.5,12.526436781609195,5.8,8.1,6.8,11.2,8.8,12.0,7.9,8.0,8.5,8.8,12.6,13.8,12.0,12.3,11.5,7.3,12.526436781609195,10.9,10.9,13.7,12.526436781609195,12.8,12.2,11.8,9.8,11.9,12.526436781609195,12.526436781609195,13.0,12.526436781609195,11.5,7.9,11.3,12.526436781609195,9.6,12.526436781609195,11.5,12.526436781609195,12.526436781609195,15.0,7.9,9.1,12.7,9.4,11.9,11.4,10.4,9.4,13.4,12.2,6.3,8.6,12.526436781609195,12.6,5.150000000000006,15.0,17.0,15.9,15.4,13.0,13.6,14.5,14.0,13.9,16.1,14.1,17.0,15.5,16.2,14.4,14.2,13.2,13.9,16.3,15.0,14.3,13.8,14.8,12.526436781609195,14.4,16.5,14.0,15.7,14.5,16.3,13.3,15.5,14.6,16.4,16.9,16.0,14.7,13.4,15.9,16.6,14.8,14.9,16.7,14.9,14.3,15.0,16.8,15.8,13.5,15.1,15.0,16.9,14.8,17.0,13.1,17.1,15.2,13.6,13.9,17.2,13.2,13.7,15.3,17.3,15.6,13.8,15.4,15.0,17.4,12.526436781609195,15.7,13.9,16.0,15.9,12.526436781609195,14.0,15.8,13.4,12.526436781609195,14.1,12.526436781609195,13.5,15.3,17.7,15.4,14.2,15.2,14.0,17.8,13.3,14.3,13.4,15.0,16.2,14.4,13.5,15.5,17.8,13.6,14.5,16.1,17.5,15.0,13.6,14.6,15.0,17.1,13.6,13.0,17.2,14.7,13.7,15.0,17.8,14.8,12.526436781609195,15.0,17.4,14.9,13.6,16.2,17.6,15.0,13.7,16.3,15.1,16.4,13.8,15.2,16.1,15.3,16.6,16.8,13.9,15.4,16.5,16.4,16.7,15.5,17.0,15.0,15.6,14.8,13.0,14.1,15.7,16.5,15.8,14.2,15.8,44.0,38.0,31.0,32.0,35.0,39.0,36.0,44.0,33.0,29.0,28.0,32.0,28.0,38.88449848024316,19.0,24.0,38.88449848024316,38.88449848024316,37.0,30.0,24.0,32.0,32.0,38.88449848024316,39.0,29.0,35.0,37.0,38.88449848024316,38.0,38.88449848024316,30.0,34.0,29.0,38.88449848024316,36.0,32.0,28.0,38.88449848024316,40.0,32.0,38.88449848024316,33.0,24.0,28.0,38.88449848024316,37.0,45.0,29.0,29.0,28.0,33.0,34.0,40.0,40.0,28.0,30.0,38.88449848024316,33.0,38.88449848024316,38.88449848024316,38.88449848024316,33.0,27.0,38.88449848024316,48.0,38.88449848024316,38.88449848024316,37.0,52.0,44.0,28.0,38.88449848024316,19.0,29.0,38.88449848024316,36.0,34.0,30.0,40.0,31.0,29.0,38.88449848024316,38.88449848024316,22.0,38.88449848024316,38.88449848024316,32.0,38.88449848024316,38.88449848024316,40.0,52.0,33.0,30.0,36.0,38.88449848024316,36.0,32.0,19.0,32.0,38.88449848024316,33.0,52.0,36.0,38.88449848024316,42.0,19.0,34.0,37.0,38.88449848024316,34.0,32.0,33.0,38.88449848024316,38.88449848024316,44.0,38.88449848024316,37.0,38.88449848024316,38.88449848024316,38.88449848024316,46.0,38.88449848024316,42.0,28.0,38.88449848024316,37.0,35.0,23.0,38.88449848024316,22.0,36.0,24.0,37.0,33.0,39.0,38.88449848024316,29.0,38.88449848024316,33.0,38.88449848024316,19.0,38.88449848024316,38.88449848024316,33.0,24.0,38.88449848024316,25.0,38.88449848024316,32.0,41.0,30.0,32.0,22.0,26.0,36.0,38.88449848024316,39.0,31.0,35.0,35.0,42.0,37.0,27.0,40.0,38.88449848024316,38.88449848024316,42.0,39.0,27.0,33.0,26.0,34.0,41.0,35.0,38.88449848024316,23.0,41.0,34.0,39.0,28.0,30.0,35.0,38.88449848024316,31.0,34.0,38.88449848024316,34.0,38.0,29.0,30.0,26.0,38.88449848024316,19.0,38.88449848024316,38.88449848024316,24.0,38.88449848024316,30.0,25.0,37.0,21.0,24.0,38.88449848024316,31.0,43.0,41.0,41.0,41.0,38.88449848024316,20.0,38.88449848024316,31.0,34.0,43.0,38.88449848024316,38.0,36.0,34.0,28.0,36.0,38.88449848024316,38.88449848024316,38.0,38.88449848024316,35.0,26.0,36.0,38.88449848024316,31.0,38.88449848024316,35.0,38.88449848024316,38.88449848024316,44.0,26.0,25.0,40.0,28.0,39.0,36.0,31.0,28.0,47.0,40.0,19.0,26.0,38.88449848024316,37.0,19.0,48.0,52.0,46.0,42.0,49.0,52.0,41.0,46.0,44.0,45.0,45.0,41.0,43.0,45.0,50.0,48.0,41.0,48.0,53.0,48.0,41.0,42.0,42.0,38.88449848024316,44.0,43.0,41.0,50.0,44.0,48.0,52.0,41.0,44.0,43.0,52.0,41.0,44.0,43.0,50.0,43.0,52.0,41.0,52.0,48.0,40.0,50.0,41.0,45.0,48.0,52.0,43.0,41.0,48.0,50.0,45.0,41.0,52.0,44.0,48.0,40.0,44.0,45.0,48.0,52.0,41.0,48.0,48.0,40.0,52.0,38.88449848024316,44.0,48.0,43.0,45.0,38.88449848024316,50.0,41.0,44.0,45.0,48.0,42.0,46.0,44.0,46.0,43.0,48.0,40.0,52.0,44.0,48.0,43.0,41.0,50.0,50.0,42.0,42.0,52.0,43.0,44.0,52.0,43.0,40.0,48.0,51.0,41.0,52.0,47.0,42.0,45.0,53.0,43.0,54.0,40.0,44.0,45.0,38.88449848024316,46.0,50.0,45.0,46.0,50.0,51.0,52.0,47.0,40.0,48.0,53.0,49.0,42.0,50.0,54.0,40.0,51.0,49.0,42.0,52.0,43.0,50.0,46.0,52.0,52.0,44.0,46.0,54.0,45.0,47.0,54.0,49.0,51.0,53.0],\"y0\":\" \",\"yaxis\":\"y\",\"type\":\"box\"}],                        {\"template\":{\"data\":{\"histogram2dcontour\":[{\"type\":\"histogram2dcontour\",\"colorbar\":{\"outlinewidth\":0,\"ticks\":\"\"},\"colorscale\":[[0.0,\"#0d0887\"],[0.1111111111111111,\"#46039f\"],[0.2222222222222222,\"#7201a8\"],[0.3333333333333333,\"#9c179e\"],[0.4444444444444444,\"#bd3786\"],[0.5555555555555556,\"#d8576b\"],[0.6666666666666666,\"#ed7953\"],[0.7777777777777778,\"#fb9f3a\"],[0.8888888888888888,\"#fdca26\"],[1.0,\"#f0f921\"]]}],\"choropleth\":[{\"type\":\"choropleth\",\"colorbar\":{\"outlinewidth\":0,\"ticks\":\"\"}}],\"histogram2d\":[{\"type\":\"histogram2d\",\"colorbar\":{\"outlinewidth\":0,\"ticks\":\"\"},\"colorscale\":[[0.0,\"#0d0887\"],[0.1111111111111111,\"#46039f\"],[0.2222222222222222,\"#7201a8\"],[0.3333333333333333,\"#9c179e\"],[0.4444444444444444,\"#bd3786\"],[0.5555555555555556,\"#d8576b\"],[0.6666666666666666,\"#ed7953\"],[0.7777777777777778,\"#fb9f3a\"],[0.8888888888888888,\"#fdca26\"],[1.0,\"#f0f921\"]]}],\"heatmap\":[{\"type\":\"heatmap\",\"colorbar\":{\"outlinewidth\":0,\"ticks\":\"\"},\"colorscale\":[[0.0,\"#0d0887\"],[0.1111111111111111,\"#46039f\"],[0.2222222222222222,\"#7201a8\"],[0.3333333333333333,\"#9c179e\"],[0.4444444444444444,\"#bd3786\"],[0.5555555555555556,\"#d8576b\"],[0.6666666666666666,\"#ed7953\"],[0.7777777777777778,\"#fb9f3a\"],[0.8888888888888888,\"#fdca26\"],[1.0,\"#f0f921\"]]}],\"heatmapgl\":[{\"type\":\"heatmapgl\",\"colorbar\":{\"outlinewidth\":0,\"ticks\":\"\"},\"colorscale\":[[0.0,\"#0d0887\"],[0.1111111111111111,\"#46039f\"],[0.2222222222222222,\"#7201a8\"],[0.3333333333333333,\"#9c179e\"],[0.4444444444444444,\"#bd3786\"],[0.5555555555555556,\"#d8576b\"],[0.6666666666666666,\"#ed7953\"],[0.7777777777777778,\"#fb9f3a\"],[0.8888888888888888,\"#fdca26\"],[1.0,\"#f0f921\"]]}],\"contourcarpet\":[{\"type\":\"contourcarpet\",\"colorbar\":{\"outlinewidth\":0,\"ticks\":\"\"}}],\"contour\":[{\"type\":\"contour\",\"colorbar\":{\"outlinewidth\":0,\"ticks\":\"\"},\"colorscale\":[[0.0,\"#0d0887\"],[0.1111111111111111,\"#46039f\"],[0.2222222222222222,\"#7201a8\"],[0.3333333333333333,\"#9c179e\"],[0.4444444444444444,\"#bd3786\"],[0.5555555555555556,\"#d8576b\"],[0.6666666666666666,\"#ed7953\"],[0.7777777777777778,\"#fb9f3a\"],[0.8888888888888888,\"#fdca26\"],[1.0,\"#f0f921\"]]}],\"surface\":[{\"type\":\"surface\",\"colorbar\":{\"outlinewidth\":0,\"ticks\":\"\"},\"colorscale\":[[0.0,\"#0d0887\"],[0.1111111111111111,\"#46039f\"],[0.2222222222222222,\"#7201a8\"],[0.3333333333333333,\"#9c179e\"],[0.4444444444444444,\"#bd3786\"],[0.5555555555555556,\"#d8576b\"],[0.6666666666666666,\"#ed7953\"],[0.7777777777777778,\"#fb9f3a\"],[0.8888888888888888,\"#fdca26\"],[1.0,\"#f0f921\"]]}],\"mesh3d\":[{\"type\":\"mesh3d\",\"colorbar\":{\"outlinewidth\":0,\"ticks\":\"\"}}],\"scatter\":[{\"fillpattern\":{\"fillmode\":\"overlay\",\"size\":10,\"solidity\":0.2},\"type\":\"scatter\"}],\"parcoords\":[{\"type\":\"parcoords\",\"line\":{\"colorbar\":{\"outlinewidth\":0,\"ticks\":\"\"}}}],\"scatterpolargl\":[{\"type\":\"scatterpolargl\",\"marker\":{\"colorbar\":{\"outlinewidth\":0,\"ticks\":\"\"}}}],\"bar\":[{\"error_x\":{\"color\":\"#2a3f5f\"},\"error_y\":{\"color\":\"#2a3f5f\"},\"marker\":{\"line\":{\"color\":\"#E5ECF6\",\"width\":0.5},\"pattern\":{\"fillmode\":\"overlay\",\"size\":10,\"solidity\":0.2}},\"type\":\"bar\"}],\"scattergeo\":[{\"type\":\"scattergeo\",\"marker\":{\"colorbar\":{\"outlinewidth\":0,\"ticks\":\"\"}}}],\"scatterpolar\":[{\"type\":\"scatterpolar\",\"marker\":{\"colorbar\":{\"outlinewidth\":0,\"ticks\":\"\"}}}],\"histogram\":[{\"marker\":{\"pattern\":{\"fillmode\":\"overlay\",\"size\":10,\"solidity\":0.2}},\"type\":\"histogram\"}],\"scattergl\":[{\"type\":\"scattergl\",\"marker\":{\"colorbar\":{\"outlinewidth\":0,\"ticks\":\"\"}}}],\"scatter3d\":[{\"type\":\"scatter3d\",\"line\":{\"colorbar\":{\"outlinewidth\":0,\"ticks\":\"\"}},\"marker\":{\"colorbar\":{\"outlinewidth\":0,\"ticks\":\"\"}}}],\"scattermapbox\":[{\"type\":\"scattermapbox\",\"marker\":{\"colorbar\":{\"outlinewidth\":0,\"ticks\":\"\"}}}],\"scatterternary\":[{\"type\":\"scatterternary\",\"marker\":{\"colorbar\":{\"outlinewidth\":0,\"ticks\":\"\"}}}],\"scattercarpet\":[{\"type\":\"scattercarpet\",\"marker\":{\"colorbar\":{\"outlinewidth\":0,\"ticks\":\"\"}}}],\"carpet\":[{\"aaxis\":{\"endlinecolor\":\"#2a3f5f\",\"gridcolor\":\"white\",\"linecolor\":\"white\",\"minorgridcolor\":\"white\",\"startlinecolor\":\"#2a3f5f\"},\"baxis\":{\"endlinecolor\":\"#2a3f5f\",\"gridcolor\":\"white\",\"linecolor\":\"white\",\"minorgridcolor\":\"white\",\"startlinecolor\":\"#2a3f5f\"},\"type\":\"carpet\"}],\"table\":[{\"cells\":{\"fill\":{\"color\":\"#EBF0F8\"},\"line\":{\"color\":\"white\"}},\"header\":{\"fill\":{\"color\":\"#C8D4E3\"},\"line\":{\"color\":\"white\"}},\"type\":\"table\"}],\"barpolar\":[{\"marker\":{\"line\":{\"color\":\"#E5ECF6\",\"width\":0.5},\"pattern\":{\"fillmode\":\"overlay\",\"size\":10,\"solidity\":0.2}},\"type\":\"barpolar\"}],\"pie\":[{\"automargin\":true,\"type\":\"pie\"}]},\"layout\":{\"autotypenumbers\":\"strict\",\"colorway\":[\"#636efa\",\"#EF553B\",\"#00cc96\",\"#ab63fa\",\"#FFA15A\",\"#19d3f3\",\"#FF6692\",\"#B6E880\",\"#FF97FF\",\"#FECB52\"],\"font\":{\"color\":\"#2a3f5f\"},\"hovermode\":\"closest\",\"hoverlabel\":{\"align\":\"left\"},\"paper_bgcolor\":\"white\",\"plot_bgcolor\":\"#E5ECF6\",\"polar\":{\"bgcolor\":\"#E5ECF6\",\"angularaxis\":{\"gridcolor\":\"white\",\"linecolor\":\"white\",\"ticks\":\"\"},\"radialaxis\":{\"gridcolor\":\"white\",\"linecolor\":\"white\",\"ticks\":\"\"}},\"ternary\":{\"bgcolor\":\"#E5ECF6\",\"aaxis\":{\"gridcolor\":\"white\",\"linecolor\":\"white\",\"ticks\":\"\"},\"baxis\":{\"gridcolor\":\"white\",\"linecolor\":\"white\",\"ticks\":\"\"},\"caxis\":{\"gridcolor\":\"white\",\"linecolor\":\"white\",\"ticks\":\"\"}},\"coloraxis\":{\"colorbar\":{\"outlinewidth\":0,\"ticks\":\"\"}},\"colorscale\":{\"sequential\":[[0.0,\"#0d0887\"],[0.1111111111111111,\"#46039f\"],[0.2222222222222222,\"#7201a8\"],[0.3333333333333333,\"#9c179e\"],[0.4444444444444444,\"#bd3786\"],[0.5555555555555556,\"#d8576b\"],[0.6666666666666666,\"#ed7953\"],[0.7777777777777778,\"#fb9f3a\"],[0.8888888888888888,\"#fdca26\"],[1.0,\"#f0f921\"]],\"sequentialminus\":[[0.0,\"#0d0887\"],[0.1111111111111111,\"#46039f\"],[0.2222222222222222,\"#7201a8\"],[0.3333333333333333,\"#9c179e\"],[0.4444444444444444,\"#bd3786\"],[0.5555555555555556,\"#d8576b\"],[0.6666666666666666,\"#ed7953\"],[0.7777777777777778,\"#fb9f3a\"],[0.8888888888888888,\"#fdca26\"],[1.0,\"#f0f921\"]],\"diverging\":[[0,\"#8e0152\"],[0.1,\"#c51b7d\"],[0.2,\"#de77ae\"],[0.3,\"#f1b6da\"],[0.4,\"#fde0ef\"],[0.5,\"#f7f7f7\"],[0.6,\"#e6f5d0\"],[0.7,\"#b8e186\"],[0.8,\"#7fbc41\"],[0.9,\"#4d9221\"],[1,\"#276419\"]]},\"xaxis\":{\"gridcolor\":\"white\",\"linecolor\":\"white\",\"ticks\":\"\",\"title\":{\"standoff\":15},\"zerolinecolor\":\"white\",\"automargin\":true,\"zerolinewidth\":2},\"yaxis\":{\"gridcolor\":\"white\",\"linecolor\":\"white\",\"ticks\":\"\",\"title\":{\"standoff\":15},\"zerolinecolor\":\"white\",\"automargin\":true,\"zerolinewidth\":2},\"scene\":{\"xaxis\":{\"backgroundcolor\":\"#E5ECF6\",\"gridcolor\":\"white\",\"linecolor\":\"white\",\"showbackground\":true,\"ticks\":\"\",\"zerolinecolor\":\"white\",\"gridwidth\":2},\"yaxis\":{\"backgroundcolor\":\"#E5ECF6\",\"gridcolor\":\"white\",\"linecolor\":\"white\",\"showbackground\":true,\"ticks\":\"\",\"zerolinecolor\":\"white\",\"gridwidth\":2},\"zaxis\":{\"backgroundcolor\":\"#E5ECF6\",\"gridcolor\":\"white\",\"linecolor\":\"white\",\"showbackground\":true,\"ticks\":\"\",\"zerolinecolor\":\"white\",\"gridwidth\":2}},\"shapedefaults\":{\"line\":{\"color\":\"#2a3f5f\"}},\"annotationdefaults\":{\"arrowcolor\":\"#2a3f5f\",\"arrowhead\":0,\"arrowwidth\":1},\"geo\":{\"bgcolor\":\"white\",\"landcolor\":\"#E5ECF6\",\"subunitcolor\":\"white\",\"showland\":true,\"showlakes\":true,\"lakecolor\":\"white\"},\"title\":{\"x\":0.05},\"mapbox\":{\"style\":\"light\"}}},\"xaxis\":{\"anchor\":\"y\",\"domain\":[0.0,1.0],\"title\":{\"text\":\"variable\"}},\"yaxis\":{\"anchor\":\"x\",\"domain\":[0.0,1.0],\"title\":{\"text\":\"value\"}},\"legend\":{\"tracegroupgap\":0},\"margin\":{\"t\":60},\"boxmode\":\"group\"},                        {\"responsive\": true}                    ).then(function(){\n",
              "                            \n",
              "var gd = document.getElementById('fe2ebfd9-8e87-49b2-8918-2e899d227447');\n",
              "var x = new MutationObserver(function (mutations, observer) {{\n",
              "        var display = window.getComputedStyle(gd).display;\n",
              "        if (!display || display === 'none') {{\n",
              "            console.log([gd, 'removed!']);\n",
              "            Plotly.purge(gd);\n",
              "            observer.disconnect();\n",
              "        }}\n",
              "}});\n",
              "\n",
              "// Listen for the removal of the full notebook cells\n",
              "var notebookContainer = gd.closest('#notebook-container');\n",
              "if (notebookContainer) {{\n",
              "    x.observe(notebookContainer, {childList: true});\n",
              "}}\n",
              "\n",
              "// Listen for the clearing of the current output cell\n",
              "var outputEl = gd.closest('.output');\n",
              "if (outputEl) {{\n",
              "    x.observe(outputEl, {childList: true});\n",
              "}}\n",
              "\n",
              "                        })                };                            </script>        </div>\n",
              "</body>\n",
              "</html>"
            ]
          },
          "metadata": {},
          "output_type": "display_data"
        }
      ],
      "source": [
        "f2=px.box(f.loc[:,l1[:-2]],y=l1[:-2])\n",
        "f2.show()"
      ]
    },
    {
      "cell_type": "code",
      "execution_count": null,
      "metadata": {
        "colab": {
          "base_uri": "https://localhost:8080/",
          "height": 452
        },
        "id": "TrPYmI5BoNKV",
        "outputId": "206337ea-fb97-4a2a-f699-69af7c95d1b9"
      },
      "outputs": [
        {
          "data": {
            "text/plain": [
              "<Axes: >"
            ]
          },
          "execution_count": 35,
          "metadata": {},
          "output_type": "execute_result"
        },
        {
          "data": {
            "image/png": "[encoded data removed]",
            "text/plain": [
              "<Figure size 640x480 with 2 Axes>"
            ]
          },
          "metadata": {},
          "output_type": "display_data"
        }
      ],
      "source": [
        "sns.heatmap(f[l1[1:-2]].corr())"
      ]
    },
    {
      "cell_type": "markdown",
      "metadata": {
        "id": "Jr7sL5WuoyZq"
      },
      "source": [
        "**Converting categorical attributes to numeric**"
      ]
    },
    {
      "cell_type": "code",
      "execution_count": null,
      "metadata": {
        "id": "gCaQloCWiABW"
      },
      "outputs": [],
      "source": [
        "from sklearn.preprocessing import LabelEncoder\n",
        "\n",
        "le = LabelEncoder()\n",
        "for i in l2:\n",
        "    f[i]=le.fit_transform(f[i])"
      ]
    },
    {
      "cell_type": "code",
      "execution_count": null,
      "metadata": {
        "colab": {
          "base_uri": "https://localhost:8080/"
        },
        "id": "bc8aw4k2iPSP",
        "outputId": "79fcfe45-b810-4e99-af4e-900315ed00a5"
      },
      "outputs": [
        {
          "name": "stdout",
          "output_type": "stream",
          "text": [
            "0        0.0\n",
            "1        1.0\n",
            "2        2.0\n",
            "3        3.0\n",
            "4        4.0\n",
            "       ...  \n",
            "395    395.0\n",
            "396    396.0\n",
            "397    397.0\n",
            "398    398.0\n",
            "399    399.0\n",
            "Name: id, Length: 400, dtype: float64\n",
            "0      48.0\n",
            "1       9.0\n",
            "2      62.0\n",
            "3      48.0\n",
            "4      51.0\n",
            "       ... \n",
            "395    55.0\n",
            "396    42.0\n",
            "397    12.0\n",
            "398    17.0\n",
            "399    58.0\n",
            "Name: age, Length: 400, dtype: float64\n",
            "0      80.0\n",
            "1      55.0\n",
            "2      80.0\n",
            "3      70.0\n",
            "4      80.0\n",
            "       ... \n",
            "395    80.0\n",
            "396    70.0\n",
            "397    80.0\n",
            "398    60.0\n",
            "399    80.0\n",
            "Name: bp, Length: 400, dtype: float64\n",
            "0      1.0200\n",
            "1      1.0200\n",
            "2      1.0100\n",
            "3      1.0075\n",
            "4      1.0100\n",
            "        ...  \n",
            "395    1.0200\n",
            "396    1.0250\n",
            "397    1.0200\n",
            "398    1.0250\n",
            "399    1.0250\n",
            "Name: sg, Length: 400, dtype: float64\n",
            "0      1.0\n",
            "1      4.0\n",
            "2      2.0\n",
            "3      4.0\n",
            "4      2.0\n",
            "      ... \n",
            "395    0.0\n",
            "396    0.0\n",
            "397    0.0\n",
            "398    0.0\n",
            "399    0.0\n",
            "Name: al, Length: 400, dtype: float64\n",
            "0      0.0\n",
            "1      0.0\n",
            "2      3.0\n",
            "3      0.0\n",
            "4      0.0\n",
            "      ... \n",
            "395    0.0\n",
            "396    0.0\n",
            "397    0.0\n",
            "398    0.0\n",
            "399    0.0\n",
            "Name: su, Length: 400, dtype: float64\n",
            "0      1\n",
            "1      2\n",
            "2      1\n",
            "3      1\n",
            "4      1\n",
            "      ..\n",
            "395    1\n",
            "396    1\n",
            "397    1\n",
            "398    1\n",
            "399    1\n",
            "Name: rbc, Length: 400, dtype: int64\n",
            "0      1\n",
            "1      1\n",
            "2      1\n",
            "3      0\n",
            "4      1\n",
            "      ..\n",
            "395    1\n",
            "396    1\n",
            "397    1\n",
            "398    1\n",
            "399    1\n",
            "Name: pc, Length: 400, dtype: int64\n",
            "0      0\n",
            "1      0\n",
            "2      0\n",
            "3      1\n",
            "4      0\n",
            "      ..\n",
            "395    0\n",
            "396    0\n",
            "397    0\n",
            "398    0\n",
            "399    0\n",
            "Name: pcc, Length: 400, dtype: int64\n",
            "0      0\n",
            "1      0\n",
            "2      0\n",
            "3      0\n",
            "4      0\n",
            "      ..\n",
            "395    0\n",
            "396    0\n",
            "397    0\n",
            "398    0\n",
            "399    0\n",
            "Name: ba, Length: 400, dtype: int64\n",
            "0      121.000000\n",
            "1      148.036517\n",
            "2      303.000000\n",
            "3      117.000000\n",
            "4      106.000000\n",
            "          ...    \n",
            "395    140.000000\n",
            "396     75.000000\n",
            "397    100.000000\n",
            "398    114.000000\n",
            "399    131.000000\n",
            "Name: bgr, Length: 400, dtype: float64\n",
            "0      36.0\n",
            "1      18.0\n",
            "2      53.0\n",
            "3      56.0\n",
            "4      26.0\n",
            "       ... \n",
            "395    49.0\n",
            "396    31.0\n",
            "397    26.0\n",
            "398    50.0\n",
            "399    18.0\n",
            "Name: bu, Length: 400, dtype: float64\n",
            "0      1.2\n",
            "1      0.8\n",
            "2      1.8\n",
            "3      3.8\n",
            "4      1.4\n",
            "      ... \n",
            "395    0.5\n",
            "396    1.2\n",
            "397    0.6\n",
            "398    1.0\n",
            "399    1.1\n",
            "Name: sc, Length: 400, dtype: float64\n",
            "0      137.528754\n",
            "1      137.528754\n",
            "2      137.528754\n",
            "3      126.000000\n",
            "4      137.528754\n",
            "          ...    \n",
            "395    150.000000\n",
            "396    141.000000\n",
            "397    137.000000\n",
            "398    135.000000\n",
            "399    141.000000\n",
            "Name: sod, Length: 400, dtype: float64\n",
            "0      4.627244\n",
            "1      4.627244\n",
            "2      4.627244\n",
            "3      2.800000\n",
            "4      4.627244\n",
            "         ...   \n",
            "395    4.900000\n",
            "396    3.500000\n",
            "397    4.400000\n",
            "398    4.900000\n",
            "399    3.500000\n",
            "Name: pot, Length: 400, dtype: float64\n",
            "0      15.4\n",
            "1      11.3\n",
            "2       9.6\n",
            "3      11.2\n",
            "4      11.6\n",
            "       ... \n",
            "395    15.7\n",
            "396    16.5\n",
            "397    15.8\n",
            "398    14.2\n",
            "399    15.8\n",
            "Name: hemo, Length: 400, dtype: float64\n",
            "0      44.0\n",
            "1      38.0\n",
            "2      31.0\n",
            "3      32.0\n",
            "4      35.0\n",
            "       ... \n",
            "395    47.0\n",
            "396    54.0\n",
            "397    49.0\n",
            "398    51.0\n",
            "399    53.0\n",
            "Name: pcv, Length: 400, dtype: float64\n",
            "0      7800.0\n",
            "1      6000.0\n",
            "2      7500.0\n",
            "3      6700.0\n",
            "4      7300.0\n",
            "        ...  \n",
            "395    6700.0\n",
            "396    7800.0\n",
            "397    6600.0\n",
            "398    7200.0\n",
            "399    6800.0\n",
            "Name: wc, Length: 400, dtype: float64\n",
            "0      5.200000\n",
            "1      4.707435\n",
            "2      4.707435\n",
            "3      3.900000\n",
            "4      4.600000\n",
            "         ...   \n",
            "395    4.900000\n",
            "396    6.150000\n",
            "397    5.400000\n",
            "398    5.900000\n",
            "399    6.150000\n",
            "Name: rc, Length: 400, dtype: float64\n",
            "0      1\n",
            "1      0\n",
            "2      0\n",
            "3      1\n",
            "4      0\n",
            "      ..\n",
            "395    0\n",
            "396    0\n",
            "397    0\n",
            "398    0\n",
            "399    0\n",
            "Name: htn, Length: 400, dtype: int64\n",
            "0      1\n",
            "1      0\n",
            "2      1\n",
            "3      0\n",
            "4      0\n",
            "      ..\n",
            "395    0\n",
            "396    0\n",
            "397    0\n",
            "398    0\n",
            "399    0\n",
            "Name: dm, Length: 400, dtype: int64\n",
            "0      0\n",
            "1      0\n",
            "2      0\n",
            "3      0\n",
            "4      0\n",
            "      ..\n",
            "395    0\n",
            "396    0\n",
            "397    0\n",
            "398    0\n",
            "399    0\n",
            "Name: cad, Length: 400, dtype: int64\n",
            "0      0\n",
            "1      0\n",
            "2      1\n",
            "3      1\n",
            "4      0\n",
            "      ..\n",
            "395    0\n",
            "396    0\n",
            "397    0\n",
            "398    0\n",
            "399    0\n",
            "Name: appet, Length: 400, dtype: int64\n",
            "0      0\n",
            "1      0\n",
            "2      0\n",
            "3      1\n",
            "4      0\n",
            "      ..\n",
            "395    0\n",
            "396    0\n",
            "397    0\n",
            "398    0\n",
            "399    0\n",
            "Name: pe, Length: 400, dtype: int64\n",
            "0      0\n",
            "1      0\n",
            "2      1\n",
            "3      1\n",
            "4      0\n",
            "      ..\n",
            "395    0\n",
            "396    0\n",
            "397    0\n",
            "398    0\n",
            "399    0\n",
            "Name: ane, Length: 400, dtype: int64\n",
            "0      1\n",
            "1      1\n",
            "2      1\n",
            "3      1\n",
            "4      1\n",
            "      ..\n",
            "395    0\n",
            "396    0\n",
            "397    0\n",
            "398    0\n",
            "399    0\n",
            "Name: classification, Length: 400, dtype: int64\n"
          ]
        }
      ],
      "source": [
        "for i in f:\n",
        "    print(f[i])"
      ]
    },
    {
      "cell_type": "code",
      "execution_count": null,
      "metadata": {
        "colab": {
          "base_uri": "https://localhost:8080/"
        },
        "id": "qlYn2vHg1iu9",
        "outputId": "a7c12bdd-a633-4c99-a392-7f4e1facf4dc"
      },
      "outputs": [
        {
          "name": "stdout",
          "output_type": "stream",
          "text": [
            "<class 'pandas.core.frame.DataFrame'>\n",
            "RangeIndex: 400 entries, 0 to 399\n",
            "Data columns (total 26 columns):\n",
            " #   Column          Non-Null Count  Dtype  \n",
            "---  ------          --------------  -----  \n",
            " 0   id              400 non-null    float64\n",
            " 1   age             400 non-null    float64\n",
            " 2   bp              400 non-null    float64\n",
            " 3   sg              400 non-null    float64\n",
            " 4   al              400 non-null    float64\n",
            " 5   su              400 non-null    float64\n",
            " 6   rbc             400 non-null    int64  \n",
            " 7   pc              400 non-null    int64  \n",
            " 8   pcc             400 non-null    int64  \n",
            " 9   ba              400 non-null    int64  \n",
            " 10  bgr             400 non-null    float64\n",
            " 11  bu              400 non-null    float64\n",
            " 12  sc              400 non-null    float64\n",
            " 13  sod             400 non-null    float64\n",
            " 14  pot             400 non-null    float64\n",
            " 15  hemo            400 non-null    float64\n",
            " 16  pcv             400 non-null    float64\n",
            " 17  wc              400 non-null    float64\n",
            " 18  rc              400 non-null    float64\n",
            " 19  htn             400 non-null    int64  \n",
            " 20  dm              400 non-null    int64  \n",
            " 21  cad             400 non-null    int64  \n",
            " 22  appet           400 non-null    int64  \n",
            " 23  pe              400 non-null    int64  \n",
            " 24  ane             400 non-null    int64  \n",
            " 25  classification  400 non-null    int64  \n",
            "dtypes: float64(15), int64(11)\n",
            "memory usage: 81.4 KB\n"
          ]
        }
      ],
      "source": [
        "f.info()"
      ]
    },
    {
      "cell_type": "code",
      "execution_count": null,
      "metadata": {
        "colab": {
          "base_uri": "https://localhost:8080/"
        },
        "id": "wcadrL9R1mnJ",
        "outputId": "97eea3d1-5ba2-49ce-dd4f-768c67b5f27b"
      },
      "outputs": [
        {
          "name": "stdout",
          "output_type": "stream",
          "text": [
            "['age', 'bp', 'sg', 'al', 'su', 'rbc', 'bgr', 'bu', 'sc', 'sod', 'pot', 'hemo', 'wc', 'rc', 'htn', 'dm', 'cad', 'appet', 'pe', 'ane']\n"
          ]
        }
      ],
      "source": [
        "from sklearn.model_selection import train_test_split\n",
        "l3=f.columns\n",
        "l3=l3[1:-1]\n",
        "l3=['age', 'bp', 'sg', 'al', 'su', 'rbc', 'bgr', 'bu',\n",
        "       'sc', 'sod', 'pot', 'hemo', 'wc', 'rc', 'htn', 'dm', 'cad',\n",
        "       'appet', 'pe', 'ane']\n",
        "print(l3)\n",
        "x_train,x_test,y_train,y_test=train_test_split(f.loc[:,l3],f.classification,test_size=0.3,random_state=0)"
      ]
    },
    {
      "cell_type": "code",
      "execution_count": null,
      "metadata": {
        "colab": {
          "base_uri": "https://localhost:8080/"
        },
        "id": "sTQx7HVSaMpx",
        "outputId": "b89ce62a-6f48-4d9c-93fd-cc7bb225eb1b"
      },
      "outputs": [
        {
          "data": {
            "text/plain": [
              "(280, 20)"
            ]
          },
          "execution_count": 40,
          "metadata": {},
          "output_type": "execute_result"
        }
      ],
      "source": [
        "x_train.shape"
      ]
    },
    {
      "cell_type": "code",
      "execution_count": null,
      "metadata": {
        "colab": {
          "base_uri": "https://localhost:8080/",
          "height": 130
        },
        "id": "8U_dV3hf1sa9",
        "outputId": "4107a6cb-5859-4a15-b183-60ee9e0673b5"
      },
      "outputs": [
        {
          "ename": "SyntaxError",
          "evalue": "ignored",
          "output_type": "error",
          "traceback": [
            "\u001b[0;36m  File \u001b[0;32m\"<ipython-input-41-144cd6ab5dac>\"\u001b[0;36m, line \u001b[0;32m1\u001b[0m\n\u001b[0;31m    print(x_train.head()\u001b[0m\n\u001b[0m                        ^\u001b[0m\n\u001b[0;31mSyntaxError\u001b[0m\u001b[0;31m:\u001b[0m incomplete input\n"
          ]
        }
      ],
      "source": [
        "print(x_train.head()"
      ]
    },
    {
      "cell_type": "code",
      "execution_count": null,
      "metadata": {
        "colab": {
          "base_uri": "https://localhost:8080/"
        },
        "id": "XeGGaYCpbSVv",
        "outputId": "fb11ee9a-2cd4-459a-d800-bf331252f263"
      },
      "outputs": [
        {
          "name": "stdout",
          "output_type": "stream",
          "text": [
            "92     1\n",
            "223    1\n",
            "234    1\n",
            "232    1\n",
            "377    0\n",
            "Name: classification, dtype: int64\n"
          ]
        }
      ],
      "source": [
        "print(y_train.head())"
      ]
    },
    {
      "cell_type": "code",
      "execution_count": null,
      "metadata": {
        "colab": {
          "base_uri": "https://localhost:8080/",
          "height": 74
        },
        "id": "BpAiNjcD2DSK",
        "outputId": "358b75ac-504e-498d-d9d8-34c4f05ffbbb"
      },
      "outputs": [
        {
          "data": {
            "text/html": [
              "<style>#sk-container-id-1 {color: black;background-color: white;}#sk-container-id-1 pre{padding: 0;}#sk-container-id-1 div.sk-toggleable {background-color: white;}#sk-container-id-1 label.sk-toggleable__label {cursor: pointer;display: block;width: 100%;margin-bottom: 0;padding: 0.3em;box-sizing: border-box;text-align: center;}#sk-container-id-1 label.sk-toggleable__label-arrow:before {content: \"▸\";float: left;margin-right: 0.25em;color: #696969;}#sk-container-id-1 label.sk-toggleable__label-arrow:hover:before {color: black;}#sk-container-id-1 div.sk-estimator:hover label.sk-toggleable__label-arrow:before {color: black;}#sk-container-id-1 div.sk-toggleable__content {max-height: 0;max-width: 0;overflow: hidden;text-align: left;background-color: #f0f8ff;}#sk-container-id-1 div.sk-toggleable__content pre {margin: 0.2em;color: black;border-radius: 0.25em;background-color: #f0f8ff;}#sk-container-id-1 input.sk-toggleable__control:checked~div.sk-toggleable__content {max-height: 200px;max-width: 100%;overflow: auto;}#sk-container-id-1 input.sk-toggleable__control:checked~label.sk-toggleable__label-arrow:before {content: \"▾\";}#sk-container-id-1 div.sk-estimator input.sk-toggleable__control:checked~label.sk-toggleable__label {background-color: #d4ebff;}#sk-container-id-1 div.sk-label input.sk-toggleable__control:checked~label.sk-toggleable__label {background-color: #d4ebff;}#sk-container-id-1 input.sk-hidden--visually {border: 0;clip: rect(1px 1px 1px 1px);clip: rect(1px, 1px, 1px, 1px);height: 1px;margin: -1px;overflow: hidden;padding: 0;position: absolute;width: 1px;}#sk-container-id-1 div.sk-estimator {font-family: monospace;background-color: #f0f8ff;border: 1px dotted black;border-radius: 0.25em;box-sizing: border-box;margin-bottom: 0.5em;}#sk-container-id-1 div.sk-estimator:hover {background-color: #d4ebff;}#sk-container-id-1 div.sk-parallel-item::after {content: \"\";width: 100%;border-bottom: 1px solid gray;flex-grow: 1;}#sk-container-id-1 div.sk-label:hover label.sk-toggleable__label {background-color: #d4ebff;}#sk-container-id-1 div.sk-serial::before {content: \"\";position: absolute;border-left: 1px solid gray;box-sizing: border-box;top: 0;bottom: 0;left: 50%;z-index: 0;}#sk-container-id-1 div.sk-serial {display: flex;flex-direction: column;align-items: center;background-color: white;padding-right: 0.2em;padding-left: 0.2em;position: relative;}#sk-container-id-1 div.sk-item {position: relative;z-index: 1;}#sk-container-id-1 div.sk-parallel {display: flex;align-items: stretch;justify-content: center;background-color: white;position: relative;}#sk-container-id-1 div.sk-item::before, #sk-container-id-1 div.sk-parallel-item::before {content: \"\";position: absolute;border-left: 1px solid gray;box-sizing: border-box;top: 0;bottom: 0;left: 50%;z-index: -1;}#sk-container-id-1 div.sk-parallel-item {display: flex;flex-direction: column;z-index: 1;position: relative;background-color: white;}#sk-container-id-1 div.sk-parallel-item:first-child::after {align-self: flex-end;width: 50%;}#sk-container-id-1 div.sk-parallel-item:last-child::after {align-self: flex-start;width: 50%;}#sk-container-id-1 div.sk-parallel-item:only-child::after {width: 0;}#sk-container-id-1 div.sk-dashed-wrapped {border: 1px dashed gray;margin: 0 0.4em 0.5em 0.4em;box-sizing: border-box;padding-bottom: 0.4em;background-color: white;}#sk-container-id-1 div.sk-label label {font-family: monospace;font-weight: bold;display: inline-block;line-height: 1.2em;}#sk-container-id-1 div.sk-label-container {text-align: center;}#sk-container-id-1 div.sk-container {/* jupyter's `normalize.less` sets `[hidden] { display: none; }` but bootstrap.min.css set `[hidden] { display: none !important; }` so we also need the `!important` here to be able to override the default hidden behavior on the sphinx rendered scikit-learn.org. See: https://github.com/scikit-learn/scikit-learn/issues/21755 */display: inline-block !important;position: relative;}#sk-container-id-1 div.sk-text-repr-fallback {display: none;}</style><div id=\"sk-container-id-1\" class=\"sk-top-container\"><div class=\"sk-text-repr-fallback\"><pre>DecisionTreeClassifier(random_state=0, splitter=&#x27;random&#x27;)</pre><b>In a Jupyter environment, please rerun this cell to show the HTML representation or trust the notebook. <br />On GitHub, the HTML representation is unable to render, please try loading this page with nbviewer.org.</b></div><div class=\"sk-container\" hidden><div class=\"sk-item\"><div class=\"sk-estimator sk-toggleable\"><input class=\"sk-toggleable__control sk-hidden--visually\" id=\"sk-estimator-id-1\" type=\"checkbox\" checked><label for=\"sk-estimator-id-1\" class=\"sk-toggleable__label sk-toggleable__label-arrow\">DecisionTreeClassifier</label><div class=\"sk-toggleable__content\"><pre>DecisionTreeClassifier(random_state=0, splitter=&#x27;random&#x27;)</pre></div></div></div></div></div>"
            ],
            "text/plain": [
              "DecisionTreeClassifier(random_state=0, splitter='random')"
            ]
          },
          "execution_count": 43,
          "metadata": {},
          "output_type": "execute_result"
        }
      ],
      "source": [
        "from sklearn.tree import DecisionTreeClassifier\n",
        "dt=DecisionTreeClassifier(splitter=\"random\",random_state=0)\n",
        "dt.fit(x_train,y_train)"
      ]
    },
    {
      "cell_type": "code",
      "execution_count": null,
      "metadata": {
        "colab": {
          "base_uri": "https://localhost:8080/"
        },
        "id": "ds8ygIHY3PmV",
        "outputId": "e44793c9-e0d6-428f-a788-83dff722e702"
      },
      "outputs": [
        {
          "name": "stdout",
          "output_type": "stream",
          "text": [
            "The accuracy of decision tree is: 0.9583333333333334\n"
          ]
        }
      ],
      "source": [
        "from sklearn.metrics import accuracy_score\n",
        "print(\"The accuracy of decision tree is:\",accuracy_score(y_test,dt.predict(x_test)))"
      ]
    },
    {
      "cell_type": "code",
      "execution_count": null,
      "metadata": {
        "colab": {
          "base_uri": "https://localhost:8080/"
        },
        "id": "gc7SjBIY-t_h",
        "outputId": "7ebe6c99-0668-4a77-8a57-87b0bf3223a4"
      },
      "outputs": [
        {
          "data": {
            "text/plain": [
              "(158, 26)"
            ]
          },
          "execution_count": 45,
          "metadata": {},
          "output_type": "execute_result"
        }
      ],
      "source": [
        "t1=pd.read_csv('/content/drive/MyDrive/kidney disease dataset.csv')\n",
        "t1=t1.dropna()\n",
        "t1.shape"
      ]
    },
    {
      "cell_type": "code",
      "execution_count": null,
      "metadata": {
        "colab": {
          "base_uri": "https://localhost:8080/"
        },
        "id": "YD4JeZ-W-_js",
        "outputId": "f9006e0f-615a-41c5-b26a-78d92792bfb2"
      },
      "outputs": [
        {
          "name": "stdout",
          "output_type": "stream",
          "text": [
            "<class 'pandas.core.frame.DataFrame'>\n",
            "Int64Index: 158 entries, 3 to 399\n",
            "Data columns (total 26 columns):\n",
            " #   Column          Non-Null Count  Dtype  \n",
            "---  ------          --------------  -----  \n",
            " 0   id              158 non-null    int64  \n",
            " 1   age             158 non-null    float64\n",
            " 2   bp              158 non-null    float64\n",
            " 3   sg              158 non-null    float64\n",
            " 4   al              158 non-null    float64\n",
            " 5   su              158 non-null    float64\n",
            " 6   rbc             158 non-null    object \n",
            " 7   pc              158 non-null    object \n",
            " 8   pcc             158 non-null    object \n",
            " 9   ba              158 non-null    object \n",
            " 10  bgr             158 non-null    float64\n",
            " 11  bu              158 non-null    float64\n",
            " 12  sc              158 non-null    float64\n",
            " 13  sod             158 non-null    float64\n",
            " 14  pot             158 non-null    float64\n",
            " 15  hemo            158 non-null    float64\n",
            " 16  pcv             158 non-null    object \n",
            " 17  wc              158 non-null    object \n",
            " 18  rc              158 non-null    object \n",
            " 19  htn             158 non-null    object \n",
            " 20  dm              158 non-null    object \n",
            " 21  cad             158 non-null    object \n",
            " 22  appet           158 non-null    object \n",
            " 23  pe              158 non-null    object \n",
            " 24  ane             158 non-null    object \n",
            " 25  classification  158 non-null    object \n",
            "dtypes: float64(11), int64(1), object(14)\n",
            "memory usage: 33.3+ KB\n"
          ]
        }
      ],
      "source": [
        "t1. info()"
      ]
    },
    {
      "cell_type": "code",
      "execution_count": null,
      "metadata": {
        "colab": {
          "base_uri": "https://localhost:8080/"
        },
        "id": "hIJMF4m1_Ecg",
        "outputId": "c97988b3-a792-4f0d-95d3-bf3d4b348df4"
      },
      "outputs": [
        {
          "name": "stdout",
          "output_type": "stream",
          "text": [
            "['normal' 'abnormal']\n",
            "['abnormal' 'normal']\n",
            "['present' 'notpresent']\n",
            "['notpresent' 'present']\n",
            "['yes' 'no']\n",
            "['no' 'yes']\n",
            "['no' 'yes']\n",
            "['poor' 'good']\n",
            "['yes' 'no']\n",
            "['yes' 'no']\n",
            "['ckd' 'notckd']\n"
          ]
        }
      ],
      "source": [
        "for i in l2:\n",
        "    print(t1[i].unique())"
      ]
    },
    {
      "cell_type": "code",
      "execution_count": null,
      "metadata": {
        "id": "9IjPHxtq_IPe"
      },
      "outputs": [],
      "source": [
        "t1.wc=pd.to_numeric(t1.wc,errors='coerce')\n",
        "t1.rc=pd.to_numeric(t1.rc,errors='coerce')\n",
        "t1.pcv=pd.to_numeric(t1.pcv,errors='coerce')\n",
        "t1.wc=t1.wc.astype('float64')\n",
        "t1.classification=t1.classification.replace(to_replace='ckd',value='1')\n",
        "t1.classification=t1.classification.replace(to_replace='notckd',value='0')\n",
        "t1.classification=pd.to_numeric(t1.classification,errors='coerce')"
      ]
    },
    {
      "cell_type": "code",
      "execution_count": null,
      "metadata": {
        "id": "XqGFcOHN_Nx2"
      },
      "outputs": [],
      "source": [
        "for i in l2:\n",
        "    if i!=\"classification\":\n",
        "        t1[i]=le.fit_transform(t1[i])"
      ]
    },
    {
      "cell_type": "code",
      "execution_count": null,
      "metadata": {
        "colab": {
          "base_uri": "https://localhost:8080/"
        },
        "id": "R1lzy0Bk_SiS",
        "outputId": "c1e78dfb-e388-498f-84a7-54954e9bfc7f"
      },
      "outputs": [
        {
          "name": "stdout",
          "output_type": "stream",
          "text": [
            "<class 'pandas.core.frame.DataFrame'>\n",
            "Int64Index: 158 entries, 3 to 399\n",
            "Data columns (total 26 columns):\n",
            " #   Column          Non-Null Count  Dtype  \n",
            "---  ------          --------------  -----  \n",
            " 0   id              158 non-null    int64  \n",
            " 1   age             158 non-null    float64\n",
            " 2   bp              158 non-null    float64\n",
            " 3   sg              158 non-null    float64\n",
            " 4   al              158 non-null    float64\n",
            " 5   su              158 non-null    float64\n",
            " 6   rbc             158 non-null    int64  \n",
            " 7   pc              158 non-null    int64  \n",
            " 8   pcc             158 non-null    int64  \n",
            " 9   ba              158 non-null    int64  \n",
            " 10  bgr             158 non-null    float64\n",
            " 11  bu              158 non-null    float64\n",
            " 12  sc              158 non-null    float64\n",
            " 13  sod             158 non-null    float64\n",
            " 14  pot             158 non-null    float64\n",
            " 15  hemo            158 non-null    float64\n",
            " 16  pcv             158 non-null    int64  \n",
            " 17  wc              158 non-null    float64\n",
            " 18  rc              158 non-null    float64\n",
            " 19  htn             158 non-null    int64  \n",
            " 20  dm              158 non-null    int64  \n",
            " 21  cad             158 non-null    int64  \n",
            " 22  appet           158 non-null    int64  \n",
            " 23  pe              158 non-null    int64  \n",
            " 24  ane             158 non-null    int64  \n",
            " 25  classification  158 non-null    int64  \n",
            "dtypes: float64(13), int64(13)\n",
            "memory usage: 33.3 KB\n"
          ]
        }
      ],
      "source": [
        "t1. info()"
      ]
    },
    {
      "cell_type": "code",
      "execution_count": null,
      "metadata": {
        "colab": {
          "base_uri": "https://localhost:8080/"
        },
        "id": "Y-OK4LvM_WCS",
        "outputId": "f0c62ed5-c98d-4a2c-8064-07b4af2c449b"
      },
      "outputs": [
        {
          "name": "stdout",
          "output_type": "stream",
          "text": [
            "3      1\n",
            "9      1\n",
            "11     1\n",
            "14     1\n",
            "20     1\n",
            "      ..\n",
            "395    0\n",
            "396    0\n",
            "397    0\n",
            "398    0\n",
            "399    0\n",
            "Name: classification, Length: 158, dtype: int64\n"
          ]
        }
      ],
      "source": [
        "print(t1.classification)"
      ]
    },
    {
      "cell_type": "code",
      "execution_count": null,
      "metadata": {
        "colab": {
          "base_uri": "https://localhost:8080/"
        },
        "id": "yzLKAQ9v_aJV",
        "outputId": "83fff236-85f9-4c50-fa2f-472a96476617"
      },
      "outputs": [
        {
          "name": "stdout",
          "output_type": "stream",
          "text": [
            "1.0\n"
          ]
        }
      ],
      "source": [
        "print(accuracy_score(t1.classification,dt.predict(t1.loc[:,l3])))"
      ]
    },
    {
      "cell_type": "code",
      "execution_count": null,
      "metadata": {
        "colab": {
          "base_uri": "https://localhost:8080/",
          "height": 74
        },
        "id": "Timukdzh_efv",
        "outputId": "fd1b9f72-2e66-4055-ba09-9f2ba7377c07"
      },
      "outputs": [
        {
          "data": {
            "text/html": [
              "<style>#sk-container-id-2 {color: black;background-color: white;}#sk-container-id-2 pre{padding: 0;}#sk-container-id-2 div.sk-toggleable {background-color: white;}#sk-container-id-2 label.sk-toggleable__label {cursor: pointer;display: block;width: 100%;margin-bottom: 0;padding: 0.3em;box-sizing: border-box;text-align: center;}#sk-container-id-2 label.sk-toggleable__label-arrow:before {content: \"▸\";float: left;margin-right: 0.25em;color: #696969;}#sk-container-id-2 label.sk-toggleable__label-arrow:hover:before {color: black;}#sk-container-id-2 div.sk-estimator:hover label.sk-toggleable__label-arrow:before {color: black;}#sk-container-id-2 div.sk-toggleable__content {max-height: 0;max-width: 0;overflow: hidden;text-align: left;background-color: #f0f8ff;}#sk-container-id-2 div.sk-toggleable__content pre {margin: 0.2em;color: black;border-radius: 0.25em;background-color: #f0f8ff;}#sk-container-id-2 input.sk-toggleable__control:checked~div.sk-toggleable__content {max-height: 200px;max-width: 100%;overflow: auto;}#sk-container-id-2 input.sk-toggleable__control:checked~label.sk-toggleable__label-arrow:before {content: \"▾\";}#sk-container-id-2 div.sk-estimator input.sk-toggleable__control:checked~label.sk-toggleable__label {background-color: #d4ebff;}#sk-container-id-2 div.sk-label input.sk-toggleable__control:checked~label.sk-toggleable__label {background-color: #d4ebff;}#sk-container-id-2 input.sk-hidden--visually {border: 0;clip: rect(1px 1px 1px 1px);clip: rect(1px, 1px, 1px, 1px);height: 1px;margin: -1px;overflow: hidden;padding: 0;position: absolute;width: 1px;}#sk-container-id-2 div.sk-estimator {font-family: monospace;background-color: #f0f8ff;border: 1px dotted black;border-radius: 0.25em;box-sizing: border-box;margin-bottom: 0.5em;}#sk-container-id-2 div.sk-estimator:hover {background-color: #d4ebff;}#sk-container-id-2 div.sk-parallel-item::after {content: \"\";width: 100%;border-bottom: 1px solid gray;flex-grow: 1;}#sk-container-id-2 div.sk-label:hover label.sk-toggleable__label {background-color: #d4ebff;}#sk-container-id-2 div.sk-serial::before {content: \"\";position: absolute;border-left: 1px solid gray;box-sizing: border-box;top: 0;bottom: 0;left: 50%;z-index: 0;}#sk-container-id-2 div.sk-serial {display: flex;flex-direction: column;align-items: center;background-color: white;padding-right: 0.2em;padding-left: 0.2em;position: relative;}#sk-container-id-2 div.sk-item {position: relative;z-index: 1;}#sk-container-id-2 div.sk-parallel {display: flex;align-items: stretch;justify-content: center;background-color: white;position: relative;}#sk-container-id-2 div.sk-item::before, #sk-container-id-2 div.sk-parallel-item::before {content: \"\";position: absolute;border-left: 1px solid gray;box-sizing: border-box;top: 0;bottom: 0;left: 50%;z-index: -1;}#sk-container-id-2 div.sk-parallel-item {display: flex;flex-direction: column;z-index: 1;position: relative;background-color: white;}#sk-container-id-2 div.sk-parallel-item:first-child::after {align-self: flex-end;width: 50%;}#sk-container-id-2 div.sk-parallel-item:last-child::after {align-self: flex-start;width: 50%;}#sk-container-id-2 div.sk-parallel-item:only-child::after {width: 0;}#sk-container-id-2 div.sk-dashed-wrapped {border: 1px dashed gray;margin: 0 0.4em 0.5em 0.4em;box-sizing: border-box;padding-bottom: 0.4em;background-color: white;}#sk-container-id-2 div.sk-label label {font-family: monospace;font-weight: bold;display: inline-block;line-height: 1.2em;}#sk-container-id-2 div.sk-label-container {text-align: center;}#sk-container-id-2 div.sk-container {/* jupyter's `normalize.less` sets `[hidden] { display: none; }` but bootstrap.min.css set `[hidden] { display: none !important; }` so we also need the `!important` here to be able to override the default hidden behavior on the sphinx rendered scikit-learn.org. See: https://github.com/scikit-learn/scikit-learn/issues/21755 */display: inline-block !important;position: relative;}#sk-container-id-2 div.sk-text-repr-fallback {display: none;}</style><div id=\"sk-container-id-2\" class=\"sk-top-container\"><div class=\"sk-text-repr-fallback\"><pre>RandomForestClassifier(n_estimators=3, random_state=0)</pre><b>In a Jupyter environment, please rerun this cell to show the HTML representation or trust the notebook. <br />On GitHub, the HTML representation is unable to render, please try loading this page with nbviewer.org.</b></div><div class=\"sk-container\" hidden><div class=\"sk-item\"><div class=\"sk-estimator sk-toggleable\"><input class=\"sk-toggleable__control sk-hidden--visually\" id=\"sk-estimator-id-2\" type=\"checkbox\" checked><label for=\"sk-estimator-id-2\" class=\"sk-toggleable__label sk-toggleable__label-arrow\">RandomForestClassifier</label><div class=\"sk-toggleable__content\"><pre>RandomForestClassifier(n_estimators=3, random_state=0)</pre></div></div></div></div></div>"
            ],
            "text/plain": [
              "RandomForestClassifier(n_estimators=3, random_state=0)"
            ]
          },
          "execution_count": 53,
          "metadata": {},
          "output_type": "execute_result"
        }
      ],
      "source": [
        "from sklearn.ensemble import RandomForestClassifier\n",
        "rf=RandomForestClassifier(n_estimators=3,random_state=0)\n",
        "rf.fit(x_train,y_train)"
      ]
    },
    {
      "cell_type": "code",
      "execution_count": null,
      "metadata": {
        "colab": {
          "base_uri": "https://localhost:8080/"
        },
        "id": "hf4FWKmM_i5P",
        "outputId": "ccc0b418-1227-4f34-efb6-a7eb8dc9d824"
      },
      "outputs": [
        {
          "name": "stdout",
          "output_type": "stream",
          "text": [
            "0.9833333333333333\n"
          ]
        }
      ],
      "source": [
        "print(accuracy_score(y_test,rf.predict(x_test)))"
      ]
    },
    {
      "cell_type": "code",
      "execution_count": null,
      "metadata": {
        "colab": {
          "base_uri": "https://localhost:8080/"
        },
        "id": "elTYPVh2_ms6",
        "outputId": "cdb8cd39-cd52-48f6-98fa-11e620b9db06"
      },
      "outputs": [
        {
          "name": "stdout",
          "output_type": "stream",
          "text": [
            "1.0\n"
          ]
        }
      ],
      "source": [
        "print(accuracy_score(t1.classification,rf.predict(t1.loc[:,l3])))"
      ]
    },
    {
      "cell_type": "code",
      "execution_count": null,
      "metadata": {
        "colab": {
          "base_uri": "https://localhost:8080/"
        },
        "id": "ZUpphtOO_q54",
        "outputId": "85cc45e0-429a-49b7-a329-3d8f8304779e"
      },
      "outputs": [
        {
          "name": "stdout",
          "output_type": "stream",
          "text": [
            "0      1\n",
            "1      1\n",
            "2      1\n",
            "3      1\n",
            "4      1\n",
            "      ..\n",
            "395    0\n",
            "396    0\n",
            "397    0\n",
            "398    0\n",
            "399    0\n",
            "Name: classification, Length: 400, dtype: int64\n"
          ]
        }
      ],
      "source": [
        "print(f.classification)"
      ]
    },
    {
      "cell_type": "code",
      "execution_count": null,
      "metadata": {
        "colab": {
          "base_uri": "https://localhost:8080/"
        },
        "id": "WZwUUZyd_uv_",
        "outputId": "9cfff359-de12-4879-be0e-71b83788d733"
      },
      "outputs": [
        {
          "name": "stdout",
          "output_type": "stream",
          "text": [
            "<class 'pandas.core.frame.DataFrame'>\n",
            "Int64Index: 158 entries, 3 to 399\n",
            "Data columns (total 26 columns):\n",
            " #   Column          Non-Null Count  Dtype  \n",
            "---  ------          --------------  -----  \n",
            " 0   id              158 non-null    int64  \n",
            " 1   age             158 non-null    float64\n",
            " 2   bp              158 non-null    float64\n",
            " 3   sg              158 non-null    float64\n",
            " 4   al              158 non-null    float64\n",
            " 5   su              158 non-null    float64\n",
            " 6   rbc             158 non-null    int64  \n",
            " 7   pc              158 non-null    int64  \n",
            " 8   pcc             158 non-null    int64  \n",
            " 9   ba              158 non-null    int64  \n",
            " 10  bgr             158 non-null    float64\n",
            " 11  bu              158 non-null    float64\n",
            " 12  sc              158 non-null    float64\n",
            " 13  sod             158 non-null    float64\n",
            " 14  pot             158 non-null    float64\n",
            " 15  hemo            158 non-null    float64\n",
            " 16  pcv             158 non-null    int64  \n",
            " 17  wc              158 non-null    float64\n",
            " 18  rc              158 non-null    float64\n",
            " 19  htn             158 non-null    int64  \n",
            " 20  dm              158 non-null    int64  \n",
            " 21  cad             158 non-null    int64  \n",
            " 22  appet           158 non-null    int64  \n",
            " 23  pe              158 non-null    int64  \n",
            " 24  ane             158 non-null    int64  \n",
            " 25  classification  158 non-null    int64  \n",
            "dtypes: float64(13), int64(13)\n",
            "memory usage: 33.3 KB\n"
          ]
        }
      ],
      "source": [
        "t1.info()"
      ]
    },
    {
      "cell_type": "code",
      "execution_count": null,
      "metadata": {
        "colab": {
          "base_uri": "https://localhost:8080/"
        },
        "id": "aAYmgDka_3OF",
        "outputId": "71296b63-3d1f-41ba-ed5e-2e75cebede59"
      },
      "outputs": [
        {
          "name": "stdout",
          "output_type": "stream",
          "text": [
            "id                   3.0000\n",
            "age                 48.0000\n",
            "bp                  70.0000\n",
            "sg                   1.0075\n",
            "al                   4.0000\n",
            "su                   0.0000\n",
            "rbc                  1.0000\n",
            "pc                   0.0000\n",
            "pcc                  1.0000\n",
            "ba                   0.0000\n",
            "bgr                117.0000\n",
            "bu                  56.0000\n",
            "sc                   3.8000\n",
            "sod                126.0000\n",
            "pot                  2.8000\n",
            "hemo                11.2000\n",
            "pcv                 32.0000\n",
            "wc                6700.0000\n",
            "rc                   3.9000\n",
            "htn                  1.0000\n",
            "dm                   0.0000\n",
            "cad                  0.0000\n",
            "appet                1.0000\n",
            "pe                   1.0000\n",
            "ane                  1.0000\n",
            "classification       1.0000\n",
            "Name: 3, dtype: float64\n"
          ]
        }
      ],
      "source": [
        "print(f.loc[3])"
      ]
    },
    {
      "cell_type": "code",
      "execution_count": null,
      "metadata": {
        "id": "0gJEkbiN_78t"
      },
      "outputs": [],
      "source": [
        "t2=pd.DataFrame({'age':[48,48],'bp':[80,70],'sg':[1.02,1.0075],'al':[1,4],'su':[0,0],'rbc':[1,1],'pc':[1,0],'pcc':[0,1],'ba':[0,0],'bgr':[121,117],'bu':[36,56],'sc':[1.2,3.8],'sod':[137.52,126],'pot':[4.6,2.8],'hemo':[15.4,11.2],'pcv':[44,32],'wc':[7800,6700],'rc':[5.2,3.9],'htn':[1,1],'dm':[1,0],'cad':[0,0],'appet':[0,1],'pe':[0,1],'ane':[0,1]})"
      ]
    },
    {
      "cell_type": "code",
      "execution_count": null,
      "metadata": {
        "colab": {
          "base_uri": "https://localhost:8080/"
        },
        "id": "Vkf5HBQcADBe",
        "outputId": "836352cc-4547-4c19-c408-b4b98d97391d"
      },
      "outputs": [
        {
          "name": "stdout",
          "output_type": "stream",
          "text": [
            "   age  bp      sg  al  su  rbc  pc  pcc  ba  bgr  ...  hemo  pcv    wc   rc  \\\n",
            "0   48  80  1.0200   1   0    1   1    0   0  121  ...  15.4   44  7800  5.2   \n",
            "1   48  70  1.0075   4   0    1   0    1   0  117  ...  11.2   32  6700  3.9   \n",
            "\n",
            "   htn  dm  cad  appet  pe  ane  \n",
            "0    1   1    0      0   0    0  \n",
            "1    1   0    0      1   1    1  \n",
            "\n",
            "[2 rows x 24 columns]\n"
          ]
        }
      ],
      "source": [
        "print(t2)"
      ]
    },
    {
      "cell_type": "code",
      "execution_count": null,
      "metadata": {
        "colab": {
          "base_uri": "https://localhost:8080/"
        },
        "id": "yLXidePDAHDT",
        "outputId": "1be82197-4c1b-40bc-c5d3-1d9bda057640"
      },
      "outputs": [
        {
          "name": "stdout",
          "output_type": "stream",
          "text": [
            "[0 1]\n"
          ]
        }
      ],
      "source": [
        "print(rf.predict(t2.loc[:,l3]))"
      ]
    },
    {
      "cell_type": "code",
      "execution_count": null,
      "metadata": {
        "colab": {
          "base_uri": "https://localhost:8080/"
        },
        "id": "usAgAJvO4Wc8",
        "outputId": "7e79b51b-f560-43e9-bc12-1f58117a16ad"
      },
      "outputs": [
        {
          "output_type": "stream",
          "name": "stdout",
          "text": [
            "The patient has the disease\n"
          ]
        },
        {
          "output_type": "stream",
          "name": "stderr",
          "text": [
            "/usr/local/lib/python3.10/dist-packages/sklearn/base.py:318: UserWarning: Trying to unpickle estimator DecisionTreeClassifier from version 1.1.1 when using version 1.2.2. This might lead to breaking code or invalid results. Use at your own risk. For more info please refer to:\n",
            "https://scikit-learn.org/stable/model_persistence.html#security-maintainability-limitations\n",
            "  warnings.warn(\n",
            "/usr/local/lib/python3.10/dist-packages/sklearn/base.py:318: UserWarning: Trying to unpickle estimator RandomForestClassifier from version 1.1.1 when using version 1.2.2. This might lead to breaking code or invalid results. Use at your own risk. For more info please refer to:\n",
            "https://scikit-learn.org/stable/model_persistence.html#security-maintainability-limitations\n",
            "  warnings.warn(\n",
            "/usr/local/lib/python3.10/dist-packages/sklearn/base.py:439: UserWarning: X does not have valid feature names, but RandomForestClassifier was fitted with feature names\n",
            "  warnings.warn(\n"
          ]
        }
      ],
      "source": [
        "import pickle\n",
        "import numpy as np\n",
        "model=pickle.load(open(\"/content/drive/MyDrive/rf.pkl\",\"rb\"))\n",
        "def prediction(age=40,bp=80,sg=127.0,al=1,su=1,rbc=1,bgr=102.1,bu=13.2,sc=120.2,sod=10,pot=22,hemo=180,wc=7800,rc=9,htn=0,dm=0,cad=0,appeit=1,pe=0,ane=0):\n",
        "    return model.predict([[age,bp,sg,al,su,rbc,bgr,bu,sc,sod,pot,hemo,wc,rc,htn,dm,cad,appeit,pe,ane]])\n",
        "\n",
        "age=60\n",
        "bp=90\n",
        "sg=127.0\n",
        "al=1\n",
        "su=1\n",
        "rbc=0\n",
        "bgr=102.1\n",
        "bu=13.2\n",
        "sc=120.2\n",
        "sod=10\n",
        "pot=22\n",
        "hemo=180\n",
        "wc=7800\n",
        "rc=9\n",
        "htn=1\n",
        "dm=1\n",
        "cad=1\n",
        "appeit=1\n",
        "pe=0\n",
        "ane=0\n",
        "\n",
        "\n",
        "x=prediction(age,bp,float(sg),al,su,rbc,float(bgr),float(bu),float(sc),float(sod),float(pot),float(hemo),int(wc),float(rc),htn,dm,cad,appeit,pe,ane)\n",
        "if(x==0):\n",
        "    print(\"The patient don't have the disease\")\n",
        "elif(x==1):\n",
        "    print(\"The patient has the disease\")"
      ]
    },
    {
      "cell_type": "code",
      "execution_count": null,
      "metadata": {
        "colab": {
          "base_uri": "https://localhost:8080/"
        },
        "id": "LQpwAfX-4tAC",
        "outputId": "66626ded-2e70-42aa-b78f-b5670345138e"
      },
      "outputs": [
        {
          "name": "stdout",
          "output_type": "stream",
          "text": [
            "The patient don't have the disease\n"
          ]
        },
        {
          "name": "stderr",
          "output_type": "stream",
          "text": [
            "/usr/local/lib/python3.10/dist-packages/sklearn/base.py:318: UserWarning:\n",
            "\n",
            "Trying to unpickle estimator DecisionTreeClassifier from version 1.1.1 when using version 1.2.2. This might lead to breaking code or invalid results. Use at your own risk. For more info please refer to:\n",
            "https://scikit-learn.org/stable/model_persistence.html#security-maintainability-limitations\n",
            "\n",
            "/usr/local/lib/python3.10/dist-packages/sklearn/base.py:318: UserWarning:\n",
            "\n",
            "Trying to unpickle estimator RandomForestClassifier from version 1.1.1 when using version 1.2.2. This might lead to breaking code or invalid results. Use at your own risk. For more info please refer to:\n",
            "https://scikit-learn.org/stable/model_persistence.html#security-maintainability-limitations\n",
            "\n",
            "/usr/local/lib/python3.10/dist-packages/sklearn/base.py:439: UserWarning:\n",
            "\n",
            "X does not have valid feature names, but RandomForestClassifier was fitted with feature names\n",
            "\n"
          ]
        }
      ],
      "source": [
        "import pickle\n",
        "import numpy as np\n",
        "model=pickle.load(open(\"/content/drive/MyDrive/rf.pkl\",\"rb\"))\n",
        "def prediction(age=40,bp=80,sg=127.0,al=1,su=1,rbc=1,bgr=102.1,bu=13.2,sc=120.2,sod=10,pot=22,hemo=180,wc=7800,rc=9,htn=0,dm=0,cad=0,appeit=1,pe=0,ane=0):\n",
        "    return model.predict([[age,bp,sg,al,su,rbc,bgr,bu,sc,sod,pot,hemo,wc,rc,htn,dm,cad,appeit, pe, ane]])\n",
        "\n",
        "age=23\n",
        "bp=60\n",
        "sg=120\n",
        "al=0\n",
        "su=0\n",
        "rbc=1\n",
        "bgr=95\n",
        "bu=24\n",
        "sc=80\n",
        "sod=145\n",
        "pot=5\n",
        "hemo=15\n",
        "wc=6300\n",
        "rc=4.6\n",
        "htn=0\n",
        "dm=0\n",
        "cad=0\n",
        "appeit=0\n",
        "pe=0\n",
        "ane=0\n",
        "\n",
        "\n",
        "x=prediction(age,bp,float(sg),al,su,rbc,float(bgr),float(bu),float(sc),float(sod),float(pot),float(hemo),int(wc),float(rc),htn,dm,cad,appeit,pe,ane)\n",
        "if(x==0):\n",
        "    print(\"The patient don't have the disease\")\n",
        "elif(x==1):\n",
        "    print(\"The patient has the disease\")"
      ]
    },
    {
      "cell_type": "code",
      "execution_count": null,
      "metadata": {
        "colab": {
          "base_uri": "https://localhost:8080/"
        },
        "id": "Nad0Gkq9IU4w",
        "outputId": "df1a3241-25a6-44d6-80f8-b8fe148b040b"
      },
      "outputs": [
        {
          "name": "stdout",
          "output_type": "stream",
          "text": [
            "\u001b[2K     \u001b[90m━━━━━━━━━━━━━━━━━━━━━━━━━━━━━━━━━━━━━━━━\u001b[0m \u001b[32m8.9/8.9 MB\u001b[0m \u001b[31m48.1 MB/s\u001b[0m eta \u001b[36m0:00:00\u001b[0m\n",
            "\u001b[2K     \u001b[90m━━━━━━━━━━━━━━━━━━━━━━━━━━━━━━━━━━━━━━\u001b[0m \u001b[32m184.3/184.3 kB\u001b[0m \u001b[31m15.3 MB/s\u001b[0m eta \u001b[36m0:00:00\u001b[0m\n",
            "\u001b[2K     \u001b[90m━━━━━━━━━━━━━━━━━━━━━━━━━━━━━━━━━━━━━━━━\u001b[0m \u001b[32m4.8/4.8 MB\u001b[0m \u001b[31m57.4 MB/s\u001b[0m eta \u001b[36m0:00:00\u001b[0m\n",
            "\u001b[2K     \u001b[90m━━━━━━━━━━━━━━━━━━━━━━━━━━━━━━━━━━━━━━━━\u001b[0m \u001b[32m82.1/82.1 kB\u001b[0m \u001b[31m9.0 MB/s\u001b[0m eta \u001b[36m0:00:00\u001b[0m\n",
            "\u001b[2K     \u001b[90m━━━━━━━━━━━━━━━━━━━━━━━━━━━━━━━━━━━━━━\u001b[0m \u001b[32m164.8/164.8 kB\u001b[0m \u001b[31m18.6 MB/s\u001b[0m eta \u001b[36m0:00:00\u001b[0m\n",
            "\u001b[?25h  Preparing metadata (setup.py) ... \u001b[?25l\u001b[?25hdone\n",
            "\u001b[2K     \u001b[90m━━━━━━━━━━━━━━━━━━━━━━━━━━━━━━━━━━━━━━━━\u001b[0m \u001b[32m62.7/62.7 kB\u001b[0m \u001b[31m7.6 MB/s\u001b[0m eta \u001b[36m0:00:00\u001b[0m\n",
            "\u001b[?25h  Building wheel for validators (setup.py) ... \u001b[?25l\u001b[?25hdone\n"
          ]
        }
      ],
      "source": [
        "! pip install streamlit -q"
      ]
    },
    {
      "cell_type": "code",
      "execution_count": null,
      "metadata": {
        "colab": {
          "base_uri": "https://localhost:8080/"
        },
        "id": "LyCrQUodIuN_",
        "outputId": "9bd9e9a1-cb71-4d99-d4fc-8e0334170236"
      },
      "outputs": [
        {
          "name": "stdout",
          "output_type": "stream",
          "text": [
            "Writing app.py\n"
          ]
        }
      ],
      "source": [
        "%%writefile app.py\n",
        "import streamlit as st\n",
        "import pickle\n",
        "import numpy as np\n",
        "model = pickle.load(open(\"/content/drive/MyDrive/rf.pkl\",\"rb\"))\n",
        "st.title(\"Chronic Kidney Disease Prediction\")\n",
        "age = st.number_input(\"what is your age:\",0,100)\n",
        "bp = st.number_input(\"bp\",0,180)\n",
        "sg = st.text_input(\"specific gravity\")\n",
        "al = st.selectbox(\"albumin range\", [0,1,2,3,4,5])\n",
        "su = st.selectbox(\"sugar level\", [0,1,2,3,4,5])\n",
        "rbc = st.selectbox(\"redblood cell levels:\",[\"normal\", \"abnormal\"])\n",
        "if(rbc==\"normal\"):\n",
        "\trbc=1\n",
        "else:\n",
        "\trbc=2\n",
        "bgr = st.text_input(\"blood glucose random: \")\n",
        "bu = st.text_input(\"blood urea:\")\n",
        "sc = st.text_input(\"serum:\")\n",
        "sod = st.text_input(\"sodium:\")\n",
        "pot = st.text_input(\"potissum:\")\n",
        "hemo = st.text_input(\"hemoglobin:\")\n",
        "wc = st.text_input(\"white blood count: \")\n",
        "rc = st.text_input(\"red blood count:\")\n",
        "htn = st.selectbox(\"do you have hypertension:\",[\"yes\",\"no\"])\n",
        "if(htn==\"yes\"):\n",
        "\thtn=1\n",
        "else:\n",
        "\thtn=0\n",
        "dm = st.selectbox(\"do you have diabatic millets\", [\"yes\", \"no\"])\n",
        "if(dm==\"yes\"):\n",
        "\tdm=1\n",
        "else:\n",
        "\tdm=0\n",
        "cad = st.selectbox(\"do you have heart disease:\",[\"yes\",\"no\"])\n",
        "if(cad==\"yes\"):\n",
        "\tcad=1\n",
        "else:\n",
        "\tcad=0\n",
        "appeit = st.selectbox(\"how is your appitite\",[\"good\",\"poor\"])\n",
        "if(appeit==\"good\"):\n",
        "\tappeit=0\n",
        "else:\n",
        "\tappeit=1\n",
        "pe = st.selectbox(\"do you have swollen legs\",[\"yes\",\"no\"])\n",
        "if(pe==\"yes\"):\n",
        "\tpe=1\n",
        "else:\n",
        "\tpe=0\n",
        "ane = st.selectbox(\"do you have anemia:\",[\"yes\",\"no\"])\n",
        "if(ane==\"yes\"):\n",
        "\tane=1\n",
        "else:\n",
        "\tane=0\n",
        "#function to predict the result\n",
        "def prediction(age=40, bp=80, sg=127.0, al=1, su=1, rbc=1, bgr=102.1, bu=13.2, sc=120.2, sod=10, pot=22, hemo=180, wc=7800, rc=9, htn=0, dm=0, cad=0, appeit=1 , pe=0 , ane=0 ):\n",
        "\treturn model.predict([[age,bp,sg,al,su, rbc,bgr, bu, sc,sod, pot, hemo, wc,rc,htn, dm, cad, appeit, pe, ane]])\n",
        "\n",
        "x=2\n",
        "\n",
        "\n",
        "#Displaying the results\n",
        "if(st.button(\"predict\")):\n",
        "\tx=prediction(age,bp,float(sg),al,su,rbc,float(bgr),float(bu),float(sc),float(sod),float(pot),float(hemo),int(wc),float(rc),htn,dm,cad,appeit,pe,ane)\n",
        "\n",
        "if(x==0):\n",
        "\tst.success(\"The patient dont't have the disease\")\n",
        "elif(x==1):\n",
        "\tst.error(\"The patient has the disease\")\n",
        "else:\n",
        "  print(\"Invalid value\")"
      ]
    },
    {
      "cell_type": "code",
      "execution_count": null,
      "metadata": {
        "colab": {
          "background_save": true,
          "base_uri": "https://localhost:8080/"
        },
        "id": "uGWISVgvJCVk",
        "outputId": "cd0e98b2-36f9-4f5c-9795-a310c667de87"
      },
      "outputs": [
        {
          "name": "stdout",
          "output_type": "stream",
          "text": [
            "/bin/bash: streamlit: command not found\n",
            "\u001b[K\u001b[?25hnpx: installed 22 in 4.949s\n",
            "your url is: https://dark-cities-dress-34-74-179-130.loca.lt\n"
          ]
        }
      ],
      "source": [
        "!streamlit run app.py  & npx localtunnel --port 8501"
      ]
    }
  ],
  "metadata": {
    "colab": {
      "provenance": [],
      "mount_file_id": "1p2IyAjj2wyGrK3iQx3iDhTMVXz8WZzs2",
      "authorship_tag": "ABX9TyN09nyKWulC0NTx6qljWReF",
      "include_colab_link": true
    },
    "kernelspec": {
      "display_name": "Python 3",
      "name": "python3"
    },
    "language_info": {
      "name": "python"
    }
  },
  "nbformat": 4,
  "nbformat_minor": 0
}